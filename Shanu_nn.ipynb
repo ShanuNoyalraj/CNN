{
  "nbformat": 4,
  "nbformat_minor": 0,
  "metadata": {
    "colab": {
      "provenance": []
    },
    "kernelspec": {
      "name": "python3",
      "display_name": "Python 3"
    },
    "language_info": {
      "name": "python"
    },
    "accelerator": "GPU",
    "gpuClass": "standard"
  },
  "cells": [
    {
      "cell_type": "markdown",
      "source": [
        "Problem statement: To build a CNN based model which can accurately detect melanoma. Melanoma is a type of cancer that can be deadly if not detected early. It accounts for 75% of skin cancer deaths. A solution which can evaluate images and alert the dermatologists about the presence of melanoma has the potential to reduce a lot of manual effort needed in diagnosis."
      ],
      "metadata": {
        "id": "aQBIGG4c5gSF"
      }
    },
    {
      "cell_type": "markdown",
      "source": [
        "### Importing all the important libraries"
      ],
      "metadata": {
        "id": "cIP787T35pdv"
      }
    },
    {
      "cell_type": "code",
      "execution_count": 2,
      "metadata": {
        "id": "lqctx9Gse1wR"
      },
      "outputs": [],
      "source": [
        "import pathlib\n",
        "import tensorflow as tf\n",
        "import matplotlib.pyplot as plt\n",
        "import numpy as np\n",
        "import pandas as pd\n",
        "import os\n",
        "import PIL\n",
        "from tensorflow import keras\n",
        "from tensorflow.keras import layers\n",
        "from tensorflow.keras.models import Sequential\n",
        "from glob import glob\n",
        "from tensorflow.keras.layers.experimental.preprocessing import Rescaling\n",
        "from tensorflow.keras.layers import Dense, Dropout, Activation, Flatten, BatchNormalization, Conv2D, MaxPooling2D"
      ]
    },
    {
      "cell_type": "code",
      "source": [
        "\n",
        "## If you are using the data by mounting the google drive, use the following :\n",
        "from google.colab import drive\n",
        "drive.mount('/content/gdrive')\n",
        "\n",
        "##Ref:https://towardsdatascience.com/downloading-datasets-into-google-drive-via-google-colab-bcb1b30b0166"
      ],
      "metadata": {
        "colab": {
          "base_uri": "https://localhost:8080/"
        },
        "id": "cTQO8GQwe6OK",
        "outputId": "3916f20f-0fd9-4e8d-f4a8-7c44997cbdf8"
      },
      "execution_count": 3,
      "outputs": [
        {
          "output_type": "stream",
          "name": "stdout",
          "text": [
            "Mounted at /content/gdrive\n"
          ]
        }
      ]
    },
    {
      "cell_type": "markdown",
      "source": [
        "This assignment uses a dataset of about 2357 images of skin cancer types. The dataset contains 9 sub-directories in each train and test subdirectories. The 9 sub-directories contains the images of 9 skin cancer types respectively."
      ],
      "metadata": {
        "id": "opwXvcGG5y4f"
      }
    },
    {
      "cell_type": "code",
      "source": [
        "# Defining the path for train and test images\n",
        "train_path=\"gdrive/My Drive/CNN_assignment/Train/\"\n",
        "test_path=\"gdrive/My Drive/CNN_assignment/Test/\"\n",
        "data_dir_train = pathlib.Path(train_path)\n",
        "data_dir_test = pathlib.Path(test_path)"
      ],
      "metadata": {
        "id": "aNnNCHP2fEQY"
      },
      "execution_count": 4,
      "outputs": []
    },
    {
      "cell_type": "code",
      "source": [
        "image_count_train = len(list(data_dir_train.glob('*/*.jpg')))\n",
        "print(image_count_train)\n",
        "image_count_test = len(list(data_dir_test.glob('*/*.jpg')))\n",
        "print(image_count_test)"
      ],
      "metadata": {
        "colab": {
          "base_uri": "https://localhost:8080/"
        },
        "id": "lYGXoNf2fMfQ",
        "outputId": "b3ca60b0-c731-4fbb-c60f-80bde153a930"
      },
      "execution_count": 5,
      "outputs": [
        {
          "output_type": "stream",
          "name": "stdout",
          "text": [
            "2243\n",
            "118\n"
          ]
        }
      ]
    },
    {
      "cell_type": "markdown",
      "source": [
        "### Load using keras.preprocessing"
      ],
      "metadata": {
        "id": "QGrV5ZNy59M1"
      }
    },
    {
      "cell_type": "markdown",
      "source": [
        "Let's load these images off disk using the helpful image_dataset_from_directory utility."
      ],
      "metadata": {
        "id": "r_Alkb0X6AyN"
      }
    },
    {
      "cell_type": "markdown",
      "source": [
        "### Create a dataset"
      ],
      "metadata": {
        "id": "q8dtCuEc6EBf"
      }
    },
    {
      "cell_type": "markdown",
      "source": [
        "Define some parameters for the loader:"
      ],
      "metadata": {
        "id": "1HNGK74R6loS"
      }
    },
    {
      "cell_type": "code",
      "source": [
        "batch_size = 32\n",
        "img_height = 180\n",
        "img_width = 180"
      ],
      "metadata": {
        "id": "hP3cM8adirZo"
      },
      "execution_count": 6,
      "outputs": []
    },
    {
      "cell_type": "markdown",
      "source": [
        "Use 80% of the images for training, and 20% for validation."
      ],
      "metadata": {
        "id": "s9lxPxoE6sXU"
      }
    },
    {
      "cell_type": "code",
      "source": [],
      "metadata": {
        "id": "81E31Ciy6zoW"
      },
      "execution_count": 6,
      "outputs": []
    },
    {
      "cell_type": "markdown",
      "source": [
        "\n",
        "\n",
        "1.   Create Training Dataset\n",
        "\n",
        "\n",
        "\n",
        "\n",
        "\n",
        "\n",
        "\n"
      ],
      "metadata": {
        "id": "9wPFrH0R6ytw"
      }
    },
    {
      "cell_type": "code",
      "source": [
        "train_ds = tf.keras.preprocessing.image_dataset_from_directory(\n",
        "    data_dir_train, labels='inferred', label_mode='categorical',\n",
        "    class_names=None, color_mode='rgb', batch_size=32, image_size=(180,\n",
        "    180), shuffle=True, seed=123, validation_split=0.2, subset='training',\n",
        "    interpolation='bilinear', follow_links=False, smart_resize=False\n",
        ")"
      ],
      "metadata": {
        "colab": {
          "base_uri": "https://localhost:8080/"
        },
        "id": "6zVOYrRK6psq",
        "outputId": "0e643b8a-9074-4d64-fec1-230c8876ddb9"
      },
      "execution_count": 7,
      "outputs": [
        {
          "output_type": "stream",
          "name": "stdout",
          "text": [
            "Found 2243 files belonging to 9 classes.\n",
            "Using 1795 files for training.\n"
          ]
        }
      ]
    },
    {
      "cell_type": "markdown",
      "source": [
        "\n",
        "\n",
        "2.   Create Validation dataset\n",
        "\n"
      ],
      "metadata": {
        "id": "_2Sg-MrL6yCs"
      }
    },
    {
      "cell_type": "code",
      "source": [
        "val_ds = tf.keras.preprocessing.image_dataset_from_directory(\n",
        "    data_dir_train, labels='inferred', label_mode='categorical',\n",
        "    class_names=None, color_mode='rgb', batch_size=32, image_size=(180,\n",
        "    180), shuffle=True, seed=123, validation_split=0.2, subset='validation',\n",
        "    interpolation='bilinear', follow_links=False, smart_resize=False\n",
        ")"
      ],
      "metadata": {
        "colab": {
          "base_uri": "https://localhost:8080/"
        },
        "id": "d5je1b8D7Xnm",
        "outputId": "591e9289-7401-4d97-c58d-4bf28dad4778"
      },
      "execution_count": 8,
      "outputs": [
        {
          "output_type": "stream",
          "name": "stdout",
          "text": [
            "Found 2243 files belonging to 9 classes.\n",
            "Using 448 files for validation.\n"
          ]
        }
      ]
    },
    {
      "cell_type": "code",
      "source": [
        "# List out all the classes of skin cancer and store them in a list. \n",
        "# You can find the class names in the class_names attribute on these datasets. \n",
        "# These correspond to the directory names in alphabetical order.\n",
        "class_names = train_ds.class_names\n",
        "print(class_names)"
      ],
      "metadata": {
        "colab": {
          "base_uri": "https://localhost:8080/"
        },
        "id": "ZRo-y8Al7Zzm",
        "outputId": "52d5983a-ee02-4012-c38e-53dab409e73d"
      },
      "execution_count": 9,
      "outputs": [
        {
          "output_type": "stream",
          "name": "stdout",
          "text": [
            "['actinic keratosis', 'basal cell carcinoma', 'dermatofibroma', 'melanoma', 'nevus', 'pigmented benign keratosis', 'seborrheic keratosis', 'squamous cell carcinoma', 'vascular lesion']\n"
          ]
        }
      ]
    },
    {
      "cell_type": "markdown",
      "source": [
        "### Visualize the data"
      ],
      "metadata": {
        "id": "QayCsI6d7tn-"
      }
    },
    {
      "cell_type": "markdown",
      "source": [
        "Create a code to visualize one instance of all the nine classes present in the dataset"
      ],
      "metadata": {
        "id": "wte_NRkD7_hy"
      }
    },
    {
      "cell_type": "code",
      "source": [
        "import matplotlib.pyplot as plt\n",
        "num=0\n",
        "for dirpath, dirnames, filenames in os.walk(str(train_path)):\n",
        "    for filename in [f for f in filenames if f.endswith(\".jpg\")][:1]:\n",
        "        img = PIL.Image.open(str(dirpath)+\"/\"+str(filename))\n",
        "        plt.subplot(3,3,num+1)\n",
        "        plt.title(str(dirpath).split('/')[-1])\n",
        "        plt.axis('off')\n",
        "        plt.imshow(img)\n",
        "        num=num+1"
      ],
      "metadata": {
        "colab": {
          "base_uri": "https://localhost:8080/",
          "height": 264
        },
        "id": "i0lnmUP47i2v",
        "outputId": "b683e16e-ec79-4439-fed9-5893a2f867eb"
      },
      "execution_count": 10,
      "outputs": [
        {
          "output_type": "display_data",
          "data": {
            "text/plain": [
              "<Figure size 432x288 with 9 Axes>"
            ],
            "image/png": "[encoded data removed]"
          },
          "metadata": {
            "needs_background": "light"
          }
        }
      ]
    },
    {
      "cell_type": "markdown",
      "source": [
        "The image_batch is a tensor of the shape (32, 180, 180, 3). This is a batch of 32 images of shape 180x180x3 (the last dimension refers to color channels RGB). The label_batch is a tensor of the shape (32,), these are corresponding labels to the 32 images.\n",
        "\n",
        "Dataset.cache() keeps the images in memory after they're loaded off disk during the first epoch.\n",
        "\n",
        "Dataset.prefetch() overlaps data preprocessing and model execution while training."
      ],
      "metadata": {
        "id": "zncaTxHM8WmA"
      }
    },
    {
      "cell_type": "code",
      "source": [
        "AUTOTUNE = tf.data.experimental.AUTOTUNE\n",
        "train_ds = train_ds.cache().shuffle(1000).prefetch(buffer_size=AUTOTUNE)\n",
        "val_ds = val_ds.cache().prefetch(buffer_size=AUTOTUNE)\n",
        "     "
      ],
      "metadata": {
        "id": "oH108NCj8Ke0"
      },
      "execution_count": 11,
      "outputs": []
    },
    {
      "cell_type": "markdown",
      "source": [
        "### Create the model"
      ],
      "metadata": {
        "id": "911Cr-PA8fNj"
      }
    },
    {
      "cell_type": "markdown",
      "source": [
        "Create a CNN model, which can accurately detect 9 classes present in the dataset. Use layers.experimental.preprocessing.Rescaling to normalize pixel values between (0,1). The RGB channel values are in the [0, 255] range. This is not ideal for a neural network. Here, it is good to standardize values to be in the [0, 1]"
      ],
      "metadata": {
        "id": "6HPZnRXL8mRY"
      }
    },
    {
      "cell_type": "markdown",
      "source": [
        "### Model #1"
      ],
      "metadata": {
        "id": "5JY0sFlI8qlT"
      }
    },
    {
      "cell_type": "code",
      "source": [
        "model=Sequential([\n",
        "    tf.keras.layers.experimental.preprocessing.Rescaling(scale=1./255., offset=0.0,),         \n",
        "    \n",
        "    Conv2D(32,(3,3),input_shape=(img_height,img_width,3),activation='relu',padding='same'),\n",
        "    MaxPooling2D(pool_size=(2,2)),\n",
        "    Dropout(0.1),\n",
        "    \n",
        "    Conv2D(64,(3,3),activation='relu',padding='same'),\n",
        "    MaxPooling2D(pool_size=(2,2)),\n",
        "    Dropout(0.1),\n",
        "    \n",
        "    Flatten(),\n",
        "    Dense(128, activation='relu'),\n",
        "    Dropout(0.25),   \n",
        "    Dense(9, activation='softmax')\n",
        "])"
      ],
      "metadata": {
        "id": "sLaOXptV8cos"
      },
      "execution_count": 12,
      "outputs": []
    },
    {
      "cell_type": "markdown",
      "source": [
        "### Compile the model"
      ],
      "metadata": {
        "id": "pFKi3jS89JiH"
      }
    },
    {
      "cell_type": "markdown",
      "source": [
        "Choose an appropirate optimiser and loss function for model training"
      ],
      "metadata": {
        "id": "SlPxBCWD9Olj"
      }
    },
    {
      "cell_type": "code",
      "source": [
        "model.compile(optimizer='adam',\n",
        "              loss='categorical_crossentropy',\n",
        "              metrics=['accuracy'])"
      ],
      "metadata": {
        "id": "WXJl1dWL8u2O"
      },
      "execution_count": 13,
      "outputs": []
    },
    {
      "cell_type": "code",
      "source": [
        "import tensorflow as tf\n",
        "tf.test.gpu_device_name()"
      ],
      "metadata": {
        "colab": {
          "base_uri": "https://localhost:8080/",
          "height": 36
        },
        "id": "5BeiW1x7-K04",
        "outputId": "04a007c1-9ca5-4db0-acf8-f280c1068d90"
      },
      "execution_count": 14,
      "outputs": [
        {
          "output_type": "execute_result",
          "data": {
            "text/plain": [
              "'/device:GPU:0'"
            ],
            "application/vnd.google.colaboratory.intrinsic+json": {
              "type": "string"
            }
          },
          "metadata": {},
          "execution_count": 14
        }
      ]
    },
    {
      "cell_type": "markdown",
      "source": [
        "### Train the model"
      ],
      "metadata": {
        "id": "DHg_kHeV9d4B"
      }
    },
    {
      "cell_type": "code",
      "source": [
        "epochs = 20\n",
        "history = model.fit(\n",
        "  train_ds,\n",
        "  validation_data=val_ds,\n",
        "  epochs=epochs\n",
        ")"
      ],
      "metadata": {
        "colab": {
          "base_uri": "https://localhost:8080/"
        },
        "id": "mOyuFUo19R6c",
        "outputId": "5722a4f3-8ec9-4afb-af26-41c88f643e8f"
      },
      "execution_count": 15,
      "outputs": [
        {
          "output_type": "stream",
          "name": "stdout",
          "text": [
            "Epoch 1/20\n",
            "57/57 [==============================] - 289s 1s/step - loss: 3.1821 - accuracy: 0.2117 - val_loss: 1.8950 - val_accuracy: 0.3549\n",
            "Epoch 2/20\n",
            "57/57 [==============================] - 3s 58ms/step - loss: 1.8079 - accuracy: 0.3526 - val_loss: 1.8973 - val_accuracy: 0.3036\n",
            "Epoch 3/20\n",
            "57/57 [==============================] - 3s 57ms/step - loss: 1.6208 - accuracy: 0.4368 - val_loss: 1.6969 - val_accuracy: 0.4732\n",
            "Epoch 4/20\n",
            "57/57 [==============================] - 3s 55ms/step - loss: 1.5539 - accuracy: 0.4585 - val_loss: 1.4604 - val_accuracy: 0.5290\n",
            "Epoch 5/20\n",
            "57/57 [==============================] - 3s 56ms/step - loss: 1.4363 - accuracy: 0.4969 - val_loss: 1.4714 - val_accuracy: 0.5201\n",
            "Epoch 6/20\n",
            "57/57 [==============================] - 3s 58ms/step - loss: 1.4249 - accuracy: 0.5103 - val_loss: 1.5193 - val_accuracy: 0.4665\n",
            "Epoch 7/20\n",
            "57/57 [==============================] - 3s 60ms/step - loss: 1.3733 - accuracy: 0.5292 - val_loss: 1.4177 - val_accuracy: 0.5045\n",
            "Epoch 8/20\n",
            "57/57 [==============================] - 3s 56ms/step - loss: 1.2736 - accuracy: 0.5643 - val_loss: 1.3281 - val_accuracy: 0.5469\n",
            "Epoch 9/20\n",
            "57/57 [==============================] - 3s 59ms/step - loss: 1.2797 - accuracy: 0.5549 - val_loss: 1.3401 - val_accuracy: 0.5446\n",
            "Epoch 10/20\n",
            "57/57 [==============================] - 3s 58ms/step - loss: 1.1926 - accuracy: 0.5838 - val_loss: 1.3188 - val_accuracy: 0.5312\n",
            "Epoch 11/20\n",
            "57/57 [==============================] - 3s 56ms/step - loss: 1.1055 - accuracy: 0.6045 - val_loss: 1.3325 - val_accuracy: 0.5491\n",
            "Epoch 12/20\n",
            "57/57 [==============================] - 3s 55ms/step - loss: 1.0640 - accuracy: 0.6234 - val_loss: 1.3961 - val_accuracy: 0.5335\n",
            "Epoch 13/20\n",
            "57/57 [==============================] - 3s 60ms/step - loss: 0.9894 - accuracy: 0.6429 - val_loss: 1.4368 - val_accuracy: 0.4888\n",
            "Epoch 14/20\n",
            "57/57 [==============================] - 3s 56ms/step - loss: 0.9238 - accuracy: 0.6613 - val_loss: 1.3797 - val_accuracy: 0.5379\n",
            "Epoch 15/20\n",
            "57/57 [==============================] - 3s 56ms/step - loss: 0.8767 - accuracy: 0.6869 - val_loss: 1.4036 - val_accuracy: 0.5647\n",
            "Epoch 16/20\n",
            "57/57 [==============================] - 3s 56ms/step - loss: 0.8122 - accuracy: 0.6981 - val_loss: 1.5650 - val_accuracy: 0.5045\n",
            "Epoch 17/20\n",
            "57/57 [==============================] - 3s 56ms/step - loss: 0.8127 - accuracy: 0.7025 - val_loss: 1.4136 - val_accuracy: 0.5402\n",
            "Epoch 18/20\n",
            "57/57 [==============================] - 3s 56ms/step - loss: 0.7405 - accuracy: 0.7331 - val_loss: 1.6478 - val_accuracy: 0.5603\n",
            "Epoch 19/20\n",
            "57/57 [==============================] - 3s 56ms/step - loss: 0.6682 - accuracy: 0.7560 - val_loss: 1.6580 - val_accuracy: 0.5536\n",
            "Epoch 20/20\n",
            "57/57 [==============================] - 3s 60ms/step - loss: 0.6226 - accuracy: 0.7716 - val_loss: 1.8682 - val_accuracy: 0.5268\n"
          ]
        }
      ]
    },
    {
      "cell_type": "code",
      "source": [
        "# View the summary of all layers\n",
        "model.summary()"
      ],
      "metadata": {
        "colab": {
          "base_uri": "https://localhost:8080/"
        },
        "id": "WRLc7Ulu9W3S",
        "outputId": "7080bf50-5ca2-4b98-d1ae-8f7ea883ab5d"
      },
      "execution_count": 16,
      "outputs": [
        {
          "output_type": "stream",
          "name": "stdout",
          "text": [
            "Model: \"sequential\"\n",
            "_________________________________________________________________\n",
            " Layer (type)                Output Shape              Param #   \n",
            "=================================================================\n",
            " rescaling (Rescaling)       (None, 180, 180, 3)       0         \n",
            "                                                                 \n",
            " conv2d (Conv2D)             (None, 180, 180, 32)      896       \n",
            "                                                                 \n",
            " max_pooling2d (MaxPooling2D  (None, 90, 90, 32)       0         \n",
            " )                                                               \n",
            "                                                                 \n",
            " dropout (Dropout)           (None, 90, 90, 32)        0         \n",
            "                                                                 \n",
            " conv2d_1 (Conv2D)           (None, 90, 90, 64)        18496     \n",
            "                                                                 \n",
            " max_pooling2d_1 (MaxPooling  (None, 45, 45, 64)       0         \n",
            " 2D)                                                             \n",
            "                                                                 \n",
            " dropout_1 (Dropout)         (None, 45, 45, 64)        0         \n",
            "                                                                 \n",
            " flatten (Flatten)           (None, 129600)            0         \n",
            "                                                                 \n",
            " dense (Dense)               (None, 128)               16588928  \n",
            "                                                                 \n",
            " dropout_2 (Dropout)         (None, 128)               0         \n",
            "                                                                 \n",
            " dense_1 (Dense)             (None, 9)                 1161      \n",
            "                                                                 \n",
            "=================================================================\n",
            "Total params: 16,609,481\n",
            "Trainable params: 16,609,481\n",
            "Non-trainable params: 0\n",
            "_________________________________________________________________\n"
          ]
        }
      ]
    },
    {
      "cell_type": "markdown",
      "source": [
        "### Visualizing training results"
      ],
      "metadata": {
        "id": "BIPvppVgAZNV"
      }
    },
    {
      "cell_type": "code",
      "source": [
        "acc = history.history['accuracy']\n",
        "val_acc = history.history['val_accuracy']\n",
        "\n",
        "loss = history.history['loss']\n",
        "val_loss = history.history['val_loss']\n",
        "\n",
        "epochs_range = range(epochs)\n",
        "\n",
        "plt.figure(figsize=(8, 8))\n",
        "plt.subplot(1, 2, 1)\n",
        "plt.plot(epochs_range, acc, label='Training Accuracy')\n",
        "plt.plot(epochs_range, val_acc, label='Validation Accuracy')\n",
        "plt.legend(loc='lower right')\n",
        "plt.title('Training and Validation Accuracy')\n",
        "\n",
        "plt.subplot(1, 2, 2)\n",
        "plt.plot(epochs_range, loss, label='Training Loss')\n",
        "plt.plot(epochs_range, val_loss, label='Validation Loss')\n",
        "plt.legend(loc='upper right')\n",
        "plt.title('Training and Validation Loss')\n",
        "plt.show()"
      ],
      "metadata": {
        "colab": {
          "base_uri": "https://localhost:8080/",
          "height": 499
        },
        "id": "0nU5eaED_--e",
        "outputId": "7c28b139-82ee-4d70-df69-8a8ba3a917d4"
      },
      "execution_count": 17,
      "outputs": [
        {
          "output_type": "display_data",
          "data": {
            "text/plain": [
              "<Figure size 576x576 with 2 Axes>"
            ],
            "image/png": "[encoded data removed]"
          },
          "metadata": {
            "needs_background": "light"
          }
        }
      ]
    },
    {
      "cell_type": "markdown",
      "source": [
        "## Observations"
      ],
      "metadata": {
        "id": "pFFpul9pAsSb"
      }
    },
    {
      "cell_type": "markdown",
      "source": [
        "\n",
        "\n",
        "1.   As observed, the accuracy of the model on training dataset after 20 epochs is 77.16% whereas validation accuracy stands at 53.24%.\n",
        "2.   Also, training loss is 0.6226 whereas validation loss is 1.8682.\n",
        "3.   This shows that validation accuracy cant keep up with training accuracy. \n",
        "4.   In other words, it indicates an overfitting tendency.\n",
        "5.   To rectify this, we can add some drop out layers and take out the batch normalization layers.\n",
        "6.   We also can try to extract more features by adding more layers.\n",
        "\n",
        "\n",
        "\n"
      ],
      "metadata": {
        "id": "stlMCbQOBR0m"
      }
    },
    {
      "cell_type": "markdown",
      "source": [
        "### Model #2"
      ],
      "metadata": {
        "id": "TmaYEGQLC2V5"
      }
    },
    {
      "cell_type": "code",
      "source": [
        "model_2=Sequential([\n",
        "    tf.keras.layers.experimental.preprocessing.Rescaling(scale=1./255., offset=0.0,),         \n",
        "                             \n",
        "    Conv2D(32,(3,3),input_shape=(img_height,img_width,3),activation='relu',padding='same'),\n",
        "    Conv2D(32,(3,3),activation='relu'),\n",
        "    MaxPooling2D(pool_size=(2,2)),\n",
        "    Dropout(0.7),\n",
        "    \n",
        "    Conv2D(64,(3,3),activation='relu',padding='same'),\n",
        "    Conv2D(64,(3,3),activation='relu'),\n",
        "    MaxPooling2D(pool_size=(2,2)),\n",
        "    Dropout(0.7),\n",
        "    \n",
        "    Conv2D(128,(3,3),activation='relu',padding='same'),\n",
        "    Conv2D(128,(3,3),activation='relu'),\n",
        "    MaxPooling2D(pool_size=(2,2)),\n",
        "    Dropout(0.7),\n",
        "    \n",
        "    Flatten(),\n",
        "    Dense(100, activation='relu'),\n",
        "    Dropout(0.25),   \n",
        "    Dense(9, activation='softmax')\n",
        "])"
      ],
      "metadata": {
        "id": "4j9fUXe5Aj8d"
      },
      "execution_count": 18,
      "outputs": []
    },
    {
      "cell_type": "markdown",
      "source": [
        "### Compiling  model #2"
      ],
      "metadata": {
        "id": "pPfg7xmAC_No"
      }
    },
    {
      "cell_type": "code",
      "source": [
        "model_2.compile(optimizer='adam',\n",
        "              loss='categorical_crossentropy',\n",
        "              metrics='accuracy')"
      ],
      "metadata": {
        "id": "zPvdIBhAC7ke"
      },
      "execution_count": 19,
      "outputs": []
    },
    {
      "cell_type": "markdown",
      "source": [
        "### Training model #2"
      ],
      "metadata": {
        "id": "gSUPT_xQDLNO"
      }
    },
    {
      "cell_type": "code",
      "source": [
        "epochs = 20\n",
        "history = model_2.fit(\n",
        "  train_ds,\n",
        "  validation_data=val_ds,\n",
        "  epochs=epochs\n",
        ")"
      ],
      "metadata": {
        "colab": {
          "base_uri": "https://localhost:8080/"
        },
        "id": "aIdLo9ZLDIU_",
        "outputId": "a24419a6-6ede-497c-e258-848a39c657aa"
      },
      "execution_count": 20,
      "outputs": [
        {
          "output_type": "stream",
          "name": "stdout",
          "text": [
            "Epoch 1/20\n",
            "57/57 [==============================] - 12s 125ms/step - loss: 2.2529 - accuracy: 0.1833 - val_loss: 2.0606 - val_accuracy: 0.1875\n",
            "Epoch 2/20\n",
            "57/57 [==============================] - 6s 112ms/step - loss: 2.0397 - accuracy: 0.1983 - val_loss: 2.0329 - val_accuracy: 0.1875\n",
            "Epoch 3/20\n",
            "57/57 [==============================] - 7s 119ms/step - loss: 1.9893 - accuracy: 0.2323 - val_loss: 1.8821 - val_accuracy: 0.3817\n",
            "Epoch 4/20\n",
            "57/57 [==============================] - 6s 111ms/step - loss: 1.9108 - accuracy: 0.2986 - val_loss: 1.8791 - val_accuracy: 0.2790\n",
            "Epoch 5/20\n",
            "57/57 [==============================] - 6s 112ms/step - loss: 1.7242 - accuracy: 0.3738 - val_loss: 1.7764 - val_accuracy: 0.3326\n",
            "Epoch 6/20\n",
            "57/57 [==============================] - 6s 111ms/step - loss: 1.6937 - accuracy: 0.3744 - val_loss: 1.6445 - val_accuracy: 0.3661\n",
            "Epoch 7/20\n",
            "57/57 [==============================] - 7s 117ms/step - loss: 1.6946 - accuracy: 0.3883 - val_loss: 1.7189 - val_accuracy: 0.3638\n",
            "Epoch 8/20\n",
            "57/57 [==============================] - 6s 110ms/step - loss: 1.6188 - accuracy: 0.4067 - val_loss: 1.6461 - val_accuracy: 0.4085\n",
            "Epoch 9/20\n",
            "57/57 [==============================] - 6s 110ms/step - loss: 1.6249 - accuracy: 0.4145 - val_loss: 1.5581 - val_accuracy: 0.4442\n",
            "Epoch 10/20\n",
            "57/57 [==============================] - 6s 114ms/step - loss: 1.6413 - accuracy: 0.3944 - val_loss: 1.5970 - val_accuracy: 0.4375\n",
            "Epoch 11/20\n",
            "57/57 [==============================] - 6s 110ms/step - loss: 1.6355 - accuracy: 0.4089 - val_loss: 1.5419 - val_accuracy: 0.4643\n",
            "Epoch 12/20\n",
            "57/57 [==============================] - 6s 110ms/step - loss: 1.5883 - accuracy: 0.4262 - val_loss: 1.5720 - val_accuracy: 0.3817\n",
            "Epoch 13/20\n",
            "57/57 [==============================] - 6s 110ms/step - loss: 1.5974 - accuracy: 0.4206 - val_loss: 1.5862 - val_accuracy: 0.4330\n",
            "Epoch 14/20\n",
            "57/57 [==============================] - 6s 110ms/step - loss: 1.5503 - accuracy: 0.4479 - val_loss: 1.4651 - val_accuracy: 0.4821\n",
            "Epoch 15/20\n",
            "57/57 [==============================] - 6s 111ms/step - loss: 1.5026 - accuracy: 0.4741 - val_loss: 1.4849 - val_accuracy: 0.4732\n",
            "Epoch 16/20\n",
            "57/57 [==============================] - 6s 112ms/step - loss: 1.4665 - accuracy: 0.4791 - val_loss: 1.4745 - val_accuracy: 0.4665\n",
            "Epoch 17/20\n",
            "57/57 [==============================] - 6s 110ms/step - loss: 1.4538 - accuracy: 0.4808 - val_loss: 1.4642 - val_accuracy: 0.4442\n",
            "Epoch 18/20\n",
            "57/57 [==============================] - 6s 110ms/step - loss: 1.4412 - accuracy: 0.4741 - val_loss: 1.4647 - val_accuracy: 0.4621\n",
            "Epoch 19/20\n",
            "57/57 [==============================] - 7s 116ms/step - loss: 1.4172 - accuracy: 0.4925 - val_loss: 1.5201 - val_accuracy: 0.4509\n",
            "Epoch 20/20\n",
            "57/57 [==============================] - 6s 110ms/step - loss: 1.4335 - accuracy: 0.4908 - val_loss: 1.4372 - val_accuracy: 0.4799\n"
          ]
        }
      ]
    },
    {
      "cell_type": "markdown",
      "source": [
        "### Visualizing model #2 results"
      ],
      "metadata": {
        "id": "-a6lDRalEoaH"
      }
    },
    {
      "cell_type": "code",
      "source": [
        "acc = history.history['accuracy']\n",
        "val_acc = history.history['val_accuracy']\n",
        "\n",
        "loss = history.history['loss']\n",
        "val_loss = history.history['val_loss']\n",
        "\n",
        "epochs_range = range(epochs)\n",
        "\n",
        "plt.figure(figsize=(8, 8))\n",
        "plt.subplot(1, 2, 1)\n",
        "plt.plot(epochs_range, acc, label='Training Accuracy')\n",
        "plt.plot(epochs_range, val_acc, label='Validation Accuracy')\n",
        "plt.legend(loc='lower right')\n",
        "plt.title('Training and Validation Accuracy')\n",
        "\n",
        "plt.subplot(1, 2, 2)\n",
        "plt.plot(epochs_range, loss, label='Training Loss')\n",
        "plt.plot(epochs_range, val_loss, label='Validation Loss')\n",
        "plt.legend(loc='upper right')\n",
        "plt.title('Training and Validation Loss')\n",
        "plt.show()"
      ],
      "metadata": {
        "colab": {
          "base_uri": "https://localhost:8080/",
          "height": 499
        },
        "id": "nYiwRP_hDRgs",
        "outputId": "bac52d30-81f1-467b-acaf-568a57239ac9"
      },
      "execution_count": 22,
      "outputs": [
        {
          "output_type": "display_data",
          "data": {
            "text/plain": [
              "<Figure size 576x576 with 2 Axes>"
            ],
            "image/png": "[encoded data removed]"
          },
          "metadata": {
            "needs_background": "light"
          }
        }
      ]
    },
    {
      "cell_type": "markdown",
      "source": [
        "### Model #2 Observations"
      ],
      "metadata": {
        "id": "dZPfXawjFCTt"
      }
    },
    {
      "cell_type": "markdown",
      "source": [
        "\n",
        "\n",
        "1.   The training and validation accuracies are almost in same value range, training accuracy = 49.08% and  Validation accuracy= 47.99%\n",
        "2.   Thus there is no Overfitting \n",
        "3.   This is a much better model than the previous one.\n",
        "4.   But it is observed that overall accuracy is very less.\n",
        "5.   We have to choose the right augmentation technique to improve accuracy.\n",
        "\n",
        "\n",
        "\n",
        "\n",
        "\n",
        "\n"
      ],
      "metadata": {
        "id": "deMar90bFL75"
      }
    },
    {
      "cell_type": "markdown",
      "source": [
        "### Checking for class imbalance"
      ],
      "metadata": {
        "id": "NPLUEJtOHSOb"
      }
    },
    {
      "cell_type": "code",
      "source": [
        "for i in class_names:\n",
        "    directory =train_path+i+'/'\n",
        "    class_directory = pathlib.Path(directory)\n",
        "    length=len(list(class_directory.glob('*.jpg')))\n",
        "    print(f'{i} has {length} samples.')"
      ],
      "metadata": {
        "colab": {
          "base_uri": "https://localhost:8080/"
        },
        "id": "L3hGGbitEuRz",
        "outputId": "c5b561a3-3061-49d8-d0d2-b6ba82d9c598"
      },
      "execution_count": 23,
      "outputs": [
        {
          "output_type": "stream",
          "name": "stdout",
          "text": [
            "actinic keratosis has 114 samples.\n",
            "basal cell carcinoma has 376 samples.\n",
            "dermatofibroma has 95 samples.\n",
            "melanoma has 438 samples.\n",
            "nevus has 357 samples.\n",
            "pigmented benign keratosis has 466 samples.\n",
            "seborrheic keratosis has 77 samples.\n",
            "squamous cell carcinoma has 181 samples.\n",
            "vascular lesion has 139 samples.\n"
          ]
        }
      ]
    },
    {
      "cell_type": "markdown",
      "source": [
        "\n",
        "\n",
        "1.   We can see that there is a significant amount of class imbalance in the data.\n",
        "2.   seborrheic keratosis has just 77 samples and has the least number of samples in the data.\n",
        "3.  pigmented benign keratosis has 466 samples and has the most number of samples in the data.\n",
        "\n",
        "\n",
        "Hence we need to use techniques like Data Augmentation to corrrect the class imbalance in data.\n",
        "\n",
        "\n",
        "\n",
        "\n"
      ],
      "metadata": {
        "id": "DcYNn03mHeFi"
      }
    },
    {
      "cell_type": "markdown",
      "source": [
        "### Data Augmentation"
      ],
      "metadata": {
        "id": "2q-286M7INAQ"
      }
    },
    {
      "cell_type": "code",
      "source": [
        "\n",
        "!pip install Augmentor"
      ],
      "metadata": {
        "colab": {
          "base_uri": "https://localhost:8080/"
        },
        "id": "n4QTKAygHYFh",
        "outputId": "3f451f8c-c94f-43cd-ef16-03b29138fd24"
      },
      "execution_count": 24,
      "outputs": [
        {
          "output_type": "stream",
          "name": "stdout",
          "text": [
            "Looking in indexes: https://pypi.org/simple, https://us-python.pkg.dev/colab-wheels/public/simple/\n",
            "Collecting Augmentor\n",
            "  Downloading Augmentor-0.2.10-py2.py3-none-any.whl (38 kB)\n",
            "Requirement already satisfied: tqdm>=4.9.0 in /usr/local/lib/python3.8/dist-packages (from Augmentor) (4.64.1)\n",
            "Requirement already satisfied: future>=0.16.0 in /usr/local/lib/python3.8/dist-packages (from Augmentor) (0.16.0)\n",
            "Requirement already satisfied: numpy>=1.11.0 in /usr/local/lib/python3.8/dist-packages (from Augmentor) (1.21.6)\n",
            "Requirement already satisfied: Pillow>=5.2.0 in /usr/local/lib/python3.8/dist-packages (from Augmentor) (7.1.2)\n",
            "Installing collected packages: Augmentor\n",
            "Successfully installed Augmentor-0.2.10\n"
          ]
        }
      ]
    },
    {
      "cell_type": "markdown",
      "source": [
        "To use Augmentor, the following general procedure is followed:\n",
        "\n",
        "Instantiate a Pipeline object pointing to a directory containing your initial image data set.\n",
        "Define a number of operations to perform on this data set using your Pipeline object.\n",
        "Execute these operations by calling the Pipeline’s sample() method."
      ],
      "metadata": {
        "id": "ZR6xcMUJIiQ-"
      }
    },
    {
      "cell_type": "code",
      "source": [
        "path_to_training_dataset=train_path\n",
        "import Augmentor\n",
        "for i in class_names:\n",
        "    p = Augmentor.Pipeline(path_to_training_dataset + i)\n",
        "    p.rotate(probability=0.7, max_left_rotation=10, max_right_rotation=10)\n",
        "    p.sample(500) ## We are adding 500 samples per class to make sure that none of the classes are sparse."
      ],
      "metadata": {
        "colab": {
          "base_uri": "https://localhost:8080/"
        },
        "id": "vgdpoNRSITv1",
        "outputId": "279e3188-8089-484a-ef1f-0570cf07cd6e"
      },
      "execution_count": 25,
      "outputs": [
        {
          "output_type": "stream",
          "name": "stdout",
          "text": [
            "Initialised with 114 image(s) found.\n",
            "Output directory set to gdrive/My Drive/CNN_assignment/Train/actinic keratosis/output."
          ]
        },
        {
          "output_type": "stream",
          "name": "stderr",
          "text": [
            "Processing <PIL.JpegImagePlugin.JpegImageFile image mode=RGB size=600x450 at 0x7F1883AFA7C0>: 100%|██████████| 500/500 [00:22<00:00, 21.91 Samples/s]\n"
          ]
        },
        {
          "output_type": "stream",
          "name": "stdout",
          "text": [
            "Initialised with 376 image(s) found.\n",
            "Output directory set to gdrive/My Drive/CNN_assignment/Train/basal cell carcinoma/output."
          ]
        },
        {
          "output_type": "stream",
          "name": "stderr",
          "text": [
            "Processing <PIL.Image.Image image mode=RGB size=600x450 at 0x7F1883A3D880>: 100%|██████████| 500/500 [00:21<00:00, 23.46 Samples/s]\n"
          ]
        },
        {
          "output_type": "stream",
          "name": "stdout",
          "text": [
            "Initialised with 95 image(s) found.\n",
            "Output directory set to gdrive/My Drive/CNN_assignment/Train/dermatofibroma/output."
          ]
        },
        {
          "output_type": "stream",
          "name": "stderr",
          "text": [
            "Processing <PIL.JpegImagePlugin.JpegImageFile image mode=RGB size=600x450 at 0x7F1883AA4DF0>: 100%|██████████| 500/500 [00:22<00:00, 22.19 Samples/s]\n"
          ]
        },
        {
          "output_type": "stream",
          "name": "stdout",
          "text": [
            "Initialised with 438 image(s) found.\n",
            "Output directory set to gdrive/My Drive/CNN_assignment/Train/melanoma/output."
          ]
        },
        {
          "output_type": "stream",
          "name": "stderr",
          "text": [
            "Processing <PIL.JpegImagePlugin.JpegImageFile image mode=RGB size=1024x768 at 0x7F188DB44FD0>: 100%|██████████| 500/500 [01:52<00:00,  4.43 Samples/s]\n"
          ]
        },
        {
          "output_type": "stream",
          "name": "stdout",
          "text": [
            "Initialised with 357 image(s) found.\n",
            "Output directory set to gdrive/My Drive/CNN_assignment/Train/nevus/output."
          ]
        },
        {
          "output_type": "stream",
          "name": "stderr",
          "text": [
            "Processing <PIL.Image.Image image mode=RGB size=962x671 at 0x7F190C4EF580>: 100%|██████████| 500/500 [01:35<00:00,  5.25 Samples/s]\n"
          ]
        },
        {
          "output_type": "stream",
          "name": "stdout",
          "text": [
            "Initialised with 466 image(s) found.\n",
            "Output directory set to gdrive/My Drive/CNN_assignment/Train/pigmented benign keratosis/output."
          ]
        },
        {
          "output_type": "stream",
          "name": "stderr",
          "text": [
            "Processing <PIL.JpegImagePlugin.JpegImageFile image mode=RGB size=600x450 at 0x7F1883A758B0>: 100%|██████████| 500/500 [00:22<00:00, 22.25 Samples/s]\n"
          ]
        },
        {
          "output_type": "stream",
          "name": "stdout",
          "text": [
            "Initialised with 77 image(s) found.\n",
            "Output directory set to gdrive/My Drive/CNN_assignment/Train/seborrheic keratosis/output."
          ]
        },
        {
          "output_type": "stream",
          "name": "stderr",
          "text": [
            "Processing <PIL.JpegImagePlugin.JpegImageFile image mode=RGB size=1024x768 at 0x7F18F0051670>: 100%|██████████| 500/500 [00:47<00:00, 10.63 Samples/s]\n"
          ]
        },
        {
          "output_type": "stream",
          "name": "stdout",
          "text": [
            "Initialised with 181 image(s) found.\n",
            "Output directory set to gdrive/My Drive/CNN_assignment/Train/squamous cell carcinoma/output."
          ]
        },
        {
          "output_type": "stream",
          "name": "stderr",
          "text": [
            "Processing <PIL.Image.Image image mode=RGB size=600x450 at 0x7F1883A8C4F0>: 100%|██████████| 500/500 [00:24<00:00, 20.29 Samples/s]\n"
          ]
        },
        {
          "output_type": "stream",
          "name": "stdout",
          "text": [
            "Initialised with 139 image(s) found.\n",
            "Output directory set to gdrive/My Drive/CNN_assignment/Train/vascular lesion/output."
          ]
        },
        {
          "output_type": "stream",
          "name": "stderr",
          "text": [
            "Processing <PIL.JpegImagePlugin.JpegImageFile image mode=RGB size=600x450 at 0x7F1883ADE820>: 100%|██████████| 500/500 [00:20<00:00, 24.96 Samples/s]\n"
          ]
        }
      ]
    },
    {
      "cell_type": "markdown",
      "source": [
        "Augmentor has stored the augmented images in the output sub-directory of each of the sub-directories of skin cancer types.. Lets take a look at total count of augmented images."
      ],
      "metadata": {
        "id": "WmSMB2DTLGYM"
      }
    },
    {
      "cell_type": "code",
      "source": [
        "\n",
        "image_count_train = len(list(data_dir_train.glob('*/output/*.jpg')))\n",
        "print(image_count_train)"
      ],
      "metadata": {
        "colab": {
          "base_uri": "https://localhost:8080/"
        },
        "id": "zSVFBdQqIn1L",
        "outputId": "1aed644b-dc75-41b7-824d-465377b60b16"
      },
      "execution_count": 27,
      "outputs": [
        {
          "output_type": "stream",
          "name": "stdout",
          "text": [
            "4500\n"
          ]
        }
      ]
    },
    {
      "cell_type": "markdown",
      "source": [
        "Lets see the distribution of augmented data after adding new images to the original training data."
      ],
      "metadata": {
        "id": "iOCV3QYrLXeo"
      }
    },
    {
      "cell_type": "code",
      "source": [
        "path_list = [x for x in glob(os.path.join(data_dir_train, '*','output', '*.jpg'))]\n",
        "path_list"
      ],
      "metadata": {
        "colab": {
          "base_uri": "https://localhost:8080/"
        },
        "id": "-4c5OyoSLE-2",
        "outputId": "cb31ed20-ea16-4180-d5d6-f8fa151480a8"
      },
      "execution_count": 28,
      "outputs": [
        {
          "output_type": "execute_result",
          "data": {
            "text/plain": [
              "['gdrive/My Drive/CNN_assignment/Train/melanoma/output/melanoma_original_ISIC_0011139.jpg_6ec38011-426e-4520-b037-4ea551af9914.jpg',\n",
              " 'gdrive/My Drive/CNN_assignment/Train/melanoma/output/melanoma_original_ISIC_0010576.jpg_42827ace-e7b2-4490-8332-2026d61a4ecc.jpg',\n",
              " 'gdrive/My Drive/CNN_assignment/Train/melanoma/output/melanoma_original_ISIC_0010413.jpg_3d6fe5f1-0878-4e1d-b28b-49b290b597b0.jpg',\n",
              " 'gdrive/My Drive/CNN_assignment/Train/melanoma/output/melanoma_original_ISIC_0010934.jpg_7c56d30e-77cf-490e-984b-5dacdde17d43.jpg',\n",
              " 'gdrive/My Drive/CNN_assignment/Train/melanoma/output/melanoma_original_ISIC_0010081.jpg_316d7d3d-03b4-4fae-a110-8e3a2b5d7ec7.jpg',\n",
              " 'gdrive/My Drive/CNN_assignment/Train/melanoma/output/melanoma_original_ISIC_0010690.jpg_5cc5fca9-53a0-4f07-bca6-897c1776573a.jpg',\n",
              " 'gdrive/My Drive/CNN_assignment/Train/melanoma/output/melanoma_original_ISIC_0010194.jpg_6d5671af-de97-4b77-909c-b557e1f1a15e.jpg',\n",
              " 'gdrive/My Drive/CNN_assignment/Train/melanoma/output/melanoma_original_ISIC_0000291.jpg_7b8d96dd-ae47-4281-a4b2-8fa9cc11f070.jpg',\n",
              " 'gdrive/My Drive/CNN_assignment/Train/melanoma/output/melanoma_original_ISIC_0010283.jpg_d6d6e2ec-5107-4117-a85e-259c615e2a3b.jpg',\n",
              " 'gdrive/My Drive/CNN_assignment/Train/melanoma/output/melanoma_original_ISIC_0000170.jpg_cbb35dc2-d3ac-408d-99b9-227f9191ce14.jpg',\n",
              " 'gdrive/My Drive/CNN_assignment/Train/melanoma/output/melanoma_original_ISIC_0009989.jpg_509f48af-80d5-42f1-ade0-b0d269c78720.jpg',\n",
              " 'gdrive/My Drive/CNN_assignment/Train/melanoma/output/melanoma_original_ISIC_0010393.jpg_6609d767-08ca-4480-963f-88822bcbcd41.jpg',\n",
              " 'gdrive/My Drive/CNN_assignment/Train/melanoma/output/melanoma_original_ISIC_0010900.jpg_8541ee4c-51e4-4ed4-82a2-4d08a31ec19c.jpg',\n",
              " 'gdrive/My Drive/CNN_assignment/Train/melanoma/output/melanoma_original_ISIC_0000143.jpg_2e106faa-ffa8-4f6b-b5b3-9947031ccc08.jpg',\n",
              " 'gdrive/My Drive/CNN_assignment/Train/melanoma/output/melanoma_original_ISIC_0009950.jpg_dd837a19-15e2-441b-9772-5641e283bf03.jpg',\n",
              " 'gdrive/My Drive/CNN_assignment/Train/melanoma/output/melanoma_original_ISIC_0010089.jpg_0bbf1ecd-de90-42a6-94cb-f6410a31da2c.jpg',\n",
              " 'gdrive/My Drive/CNN_assignment/Train/melanoma/output/melanoma_original_ISIC_0010564.jpg_52961d85-f55d-498f-b5f3-85bab3134b56.jpg',\n",
              " 'gdrive/My Drive/CNN_assignment/Train/melanoma/output/melanoma_original_ISIC_0000405.jpg_16a087d2-993d-44e6-b2f0-11f69cb067dd.jpg',\n",
              " 'gdrive/My Drive/CNN_assignment/Train/melanoma/output/melanoma_original_ISIC_0001119.jpg_2034393c-4c5e-4d5d-8b42-55eaea55ada7.jpg',\n",
              " 'gdrive/My Drive/CNN_assignment/Train/melanoma/output/melanoma_original_ISIC_0001103.jpg_01b627b8-2330-4657-8da6-2d63f8ce1b73.jpg',\n",
              " 'gdrive/My Drive/CNN_assignment/Train/melanoma/output/melanoma_original_ISIC_0010321.jpg_ec3f40fe-9ab3-4935-9878-d2252ceaa25e.jpg',\n",
              " 'gdrive/My Drive/CNN_assignment/Train/melanoma/output/melanoma_original_ISIC_0010366.jpg_fa95dc99-a4dd-4fa6-be17-2de1c3e831e2.jpg',\n",
              " 'gdrive/My Drive/CNN_assignment/Train/melanoma/output/melanoma_original_ISIC_0010049.jpg_116a3521-af7d-4cd7-bbb4-adb03655f8c8.jpg',\n",
              " 'gdrive/My Drive/CNN_assignment/Train/melanoma/output/melanoma_original_ISIC_0010723.jpg_9d1c69ea-e7a9-4bad-8cab-cff68f240526.jpg',\n",
              " 'gdrive/My Drive/CNN_assignment/Train/melanoma/output/melanoma_original_ISIC_0001132.jpg_d8f63bb4-0454-4d4a-b9d3-3a092c409ed3.jpg',\n",
              " 'gdrive/My Drive/CNN_assignment/Train/melanoma/output/melanoma_original_ISIC_0001154.jpg_e780b0ea-0f39-4739-ad9f-081e923d9e6f.jpg',\n",
              " 'gdrive/My Drive/CNN_assignment/Train/melanoma/output/melanoma_original_ISIC_0010714.jpg_7ed38c9a-c323-44b5-be4e-29edf5d364a1.jpg',\n",
              " 'gdrive/My Drive/CNN_assignment/Train/melanoma/output/melanoma_original_ISIC_0010546.jpg_9c4976c9-2766-4203-bb6c-c6d7a7665988.jpg',\n",
              " 'gdrive/My Drive/CNN_assignment/Train/melanoma/output/melanoma_original_ISIC_0001137.jpg_f2699d83-6219-4d12-959a-c39f5d352c49.jpg',\n",
              " 'gdrive/My Drive/CNN_assignment/Train/melanoma/output/melanoma_original_ISIC_0000550.jpg_0612e376-6928-42b7-8ab3-58736ec9f7ee.jpg',\n",
              " 'gdrive/My Drive/CNN_assignment/Train/melanoma/output/melanoma_original_ISIC_0010094.jpg_bed1c896-3271-4b96-ba31-a57f31fe85c1.jpg',\n",
              " 'gdrive/My Drive/CNN_assignment/Train/melanoma/output/melanoma_original_ISIC_0001103.jpg_29c14995-c5c0-4089-bbd3-e4c33a0ee041.jpg',\n",
              " 'gdrive/My Drive/CNN_assignment/Train/melanoma/output/melanoma_original_ISIC_0010036.jpg_0b6fab09-344b-48c3-923f-2c005372b927.jpg',\n",
              " 'gdrive/My Drive/CNN_assignment/Train/melanoma/output/melanoma_original_ISIC_0010089.jpg_593b0cc2-29dd-470f-bab8-a04259a89a22.jpg',\n",
              " 'gdrive/My Drive/CNN_assignment/Train/melanoma/output/melanoma_original_ISIC_0010416.jpg_085a7940-fac4-4374-a40c-ab4b3d339ae9.jpg',\n",
              " 'gdrive/My Drive/CNN_assignment/Train/melanoma/output/melanoma_original_ISIC_0000517.jpg_18c01abd-ba3a-473c-ba59-f6afa284e88a.jpg',\n",
              " 'gdrive/My Drive/CNN_assignment/Train/melanoma/output/melanoma_original_ISIC_0010175.jpg_b671c024-ac98-4821-a100-2339e07c6a1b.jpg',\n",
              " 'gdrive/My Drive/CNN_assignment/Train/melanoma/output/melanoma_original_ISIC_0010808.jpg_ae3a2abd-8e0f-4360-885e-5de51c57d5ce.jpg',\n",
              " 'gdrive/My Drive/CNN_assignment/Train/melanoma/output/melanoma_original_ISIC_0010299.jpg_722027a4-ee1d-4c0c-81ac-e4127e15588b.jpg',\n",
              " 'gdrive/My Drive/CNN_assignment/Train/melanoma/output/melanoma_original_ISIC_0000289.jpg_975951ff-8f0f-4ff8-9e69-40e29bba970c.jpg',\n",
              " 'gdrive/My Drive/CNN_assignment/Train/melanoma/output/melanoma_original_ISIC_0000175.jpg_575d1bb6-6345-41bb-a27a-0bc55b4e7576.jpg',\n",
              " 'gdrive/My Drive/CNN_assignment/Train/melanoma/output/melanoma_original_ISIC_0000502.jpg_d067ec76-38bf-4a01-9ccb-1eb1f6949e24.jpg',\n",
              " 'gdrive/My Drive/CNN_assignment/Train/melanoma/output/melanoma_original_ISIC_0010596.jpg_73da47e5-17c0-4256-9cc7-9620fa07a52d.jpg',\n",
              " 'gdrive/My Drive/CNN_assignment/Train/melanoma/output/melanoma_original_ISIC_0000299.jpg_803cc15f-197b-4e29-b13c-cdd6f1f24a6c.jpg',\n",
              " 'gdrive/My Drive/CNN_assignment/Train/melanoma/output/melanoma_original_ISIC_0010655.jpg_45ab7f20-1c3b-4267-bf27-1bed327c2670.jpg',\n",
              " 'gdrive/My Drive/CNN_assignment/Train/melanoma/output/melanoma_original_ISIC_0000420.jpg_57f40b7d-bc6d-4331-9536-da07cfa5b7f8.jpg',\n",
              " 'gdrive/My Drive/CNN_assignment/Train/melanoma/output/melanoma_original_ISIC_0000395.jpg_594028d6-20a0-470a-bd6f-e82051acf1ec.jpg',\n",
              " 'gdrive/My Drive/CNN_assignment/Train/melanoma/output/melanoma_original_ISIC_0010789.jpg_3a557f31-c5e9-4670-a6a9-cd5187e0c95d.jpg',\n",
              " 'gdrive/My Drive/CNN_assignment/Train/melanoma/output/melanoma_original_ISIC_0010890.jpg_7ad52b83-ede2-4718-afdd-72c6e0a83a95.jpg',\n",
              " 'gdrive/My Drive/CNN_assignment/Train/melanoma/output/melanoma_original_ISIC_0000522.jpg_9d601514-cfc4-4b49-82a5-6e01521f1d36.jpg',\n",
              " 'gdrive/My Drive/CNN_assignment/Train/melanoma/output/melanoma_original_ISIC_0010400.jpg_6cddbf61-7c71-428b-be35-8f8be56697bb.jpg',\n",
              " 'gdrive/My Drive/CNN_assignment/Train/melanoma/output/melanoma_original_ISIC_0010792.jpg_4a1d7ae8-3439-48fc-ba2c-4ab6a1f994dc.jpg',\n",
              " 'gdrive/My Drive/CNN_assignment/Train/melanoma/output/melanoma_original_ISIC_0010728.jpg_8a85e821-a47d-4acc-9710-cb123c6a92ba.jpg',\n",
              " 'gdrive/My Drive/CNN_assignment/Train/melanoma/output/melanoma_original_ISIC_0000158.jpg_47be79e1-5b12-4213-9fdb-37823cd40269.jpg',\n",
              " 'gdrive/My Drive/CNN_assignment/Train/melanoma/output/melanoma_original_ISIC_0009992.jpg_5bd9e0b2-9e56-4afb-94c1-53621d5f1c28.jpg',\n",
              " 'gdrive/My Drive/CNN_assignment/Train/melanoma/output/melanoma_original_ISIC_0010148.jpg_3c8a88bc-0742-4e6f-9e9b-97bcf37db93b.jpg',\n",
              " 'gdrive/My Drive/CNN_assignment/Train/melanoma/output/melanoma_original_ISIC_0010376.jpg_cddb95cb-aa91-48d7-b4c0-5848a6c85898.jpg',\n",
              " 'gdrive/My Drive/CNN_assignment/Train/melanoma/output/melanoma_original_ISIC_0000521.jpg_fa5255f7-89e6-4733-ae71-e694c5169173.jpg',\n",
              " 'gdrive/My Drive/CNN_assignment/Train/melanoma/output/melanoma_original_ISIC_0010503.jpg_77ca1d56-54fe-4885-bd70-61e2b9fca318.jpg',\n",
              " 'gdrive/My Drive/CNN_assignment/Train/melanoma/output/melanoma_original_ISIC_0009950.jpg_c028fd76-8308-477a-9b1c-ea2e3933cc2a.jpg',\n",
              " 'gdrive/My Drive/CNN_assignment/Train/melanoma/output/melanoma_original_ISIC_0010516.jpg_673fd605-5643-413e-b324-4c48a67ea9de.jpg',\n",
              " 'gdrive/My Drive/CNN_assignment/Train/melanoma/output/melanoma_original_ISIC_0011136.jpg_f31fe1df-f746-487a-b1c1-a77f0d46ee16.jpg',\n",
              " 'gdrive/My Drive/CNN_assignment/Train/melanoma/output/melanoma_original_ISIC_0010559.jpg_fdead973-c13a-4d70-b47a-478cbb1708a4.jpg',\n",
              " 'gdrive/My Drive/CNN_assignment/Train/melanoma/output/melanoma_original_ISIC_0000303.jpg_2eac62de-f191-4d72-a96e-6b56dbe4519f.jpg',\n",
              " 'gdrive/My Drive/CNN_assignment/Train/melanoma/output/melanoma_original_ISIC_0010231.jpg_687224ba-c487-4729-890b-53a3a819f0da.jpg',\n",
              " 'gdrive/My Drive/CNN_assignment/Train/melanoma/output/melanoma_original_ISIC_0000151.jpg_2fe2179a-96b2-473c-ad5d-7dd26fab9f2c.jpg',\n",
              " 'gdrive/My Drive/CNN_assignment/Train/melanoma/output/melanoma_original_ISIC_0010652.jpg_1972fe0b-6fbc-4050-a2b5-090069453bed.jpg',\n",
              " 'gdrive/My Drive/CNN_assignment/Train/melanoma/output/melanoma_original_ISIC_0010777.jpg_1cd540ff-50bf-417c-a2cc-c513f39c0ada.jpg',\n",
              " 'gdrive/My Drive/CNN_assignment/Train/melanoma/output/melanoma_original_ISIC_0000289.jpg_9dc6de90-7967-49bd-b10b-1d89aa6580cb.jpg',\n",
              " 'gdrive/My Drive/CNN_assignment/Train/melanoma/output/melanoma_original_ISIC_0001102.jpg_13142d6b-1a47-493b-86fe-767a13b97b4e.jpg',\n",
              " 'gdrive/My Drive/CNN_assignment/Train/melanoma/output/melanoma_original_ISIC_0010942.jpg_0ec77431-4dac-45ad-83e3-39c6d305c0fa.jpg',\n",
              " 'gdrive/My Drive/CNN_assignment/Train/melanoma/output/melanoma_original_ISIC_0001116.jpg_d047d6b3-5e05-4848-a272-96be2c5e945d.jpg',\n",
              " 'gdrive/My Drive/CNN_assignment/Train/melanoma/output/melanoma_original_ISIC_0011187.jpg_2dffc975-3e91-403d-a62b-71de5c7c2e2b.jpg',\n",
              " 'gdrive/My Drive/CNN_assignment/Train/melanoma/output/melanoma_original_ISIC_0010120.jpg_0f37451f-5a12-4d09-86e5-8677629fad30.jpg',\n",
              " 'gdrive/My Drive/CNN_assignment/Train/melanoma/output/melanoma_original_ISIC_0001118.jpg_0f0f42d7-57cd-454a-b6e3-e4265304b9ca.jpg',\n",
              " 'gdrive/My Drive/CNN_assignment/Train/melanoma/output/melanoma_original_ISIC_0000152.jpg_8c88270e-f4fb-4d78-9585-ccd37eeba9a7.jpg',\n",
              " 'gdrive/My Drive/CNN_assignment/Train/melanoma/output/melanoma_original_ISIC_0000161.jpg_9287c148-948f-44a0-b5bf-6ba1cb9ed91f.jpg',\n",
              " 'gdrive/My Drive/CNN_assignment/Train/melanoma/output/melanoma_original_ISIC_0010392.jpg_29444ffe-3378-4239-8820-731852acff3f.jpg',\n",
              " 'gdrive/My Drive/CNN_assignment/Train/melanoma/output/melanoma_original_ISIC_0010321.jpg_f75e046f-38f3-4788-a369-e0b83d9fa914.jpg',\n",
              " 'gdrive/My Drive/CNN_assignment/Train/melanoma/output/melanoma_original_ISIC_0011128.jpg_c1ea39d3-7fb3-4732-b648-05f5743cafef.jpg',\n",
              " 'gdrive/My Drive/CNN_assignment/Train/melanoma/output/melanoma_original_ISIC_0011077.jpg_a19093c8-42b3-4393-ab31-60a358b69889.jpg',\n",
              " 'gdrive/My Drive/CNN_assignment/Train/melanoma/output/melanoma_original_ISIC_0010729.jpg_56aeb76c-7d22-41af-8939-2eeb0ca801c5.jpg',\n",
              " 'gdrive/My Drive/CNN_assignment/Train/melanoma/output/melanoma_original_ISIC_0010299.jpg_9e770eed-1825-4287-bd4b-659acfadefc9.jpg',\n",
              " 'gdrive/My Drive/CNN_assignment/Train/melanoma/output/melanoma_original_ISIC_0010982.jpg_67a57dce-4da3-4b5a-8ee8-cbd76dd4710f.jpg',\n",
              " 'gdrive/My Drive/CNN_assignment/Train/melanoma/output/melanoma_original_ISIC_0000412.jpg_d8fd5415-e969-4d81-b0cc-4165512cea6e.jpg',\n",
              " 'gdrive/My Drive/CNN_assignment/Train/melanoma/output/melanoma_original_ISIC_0010516.jpg_d88d2c1c-63d3-42af-93ee-2a452daf599e.jpg',\n",
              " 'gdrive/My Drive/CNN_assignment/Train/melanoma/output/melanoma_original_ISIC_0000533.jpg_013d0d39-a57f-49db-b951-3a882a7a8d83.jpg',\n",
              " 'gdrive/My Drive/CNN_assignment/Train/melanoma/output/melanoma_original_ISIC_0000410.jpg_bccabf70-52a8-4212-a279-ec83d09bba75.jpg',\n",
              " 'gdrive/My Drive/CNN_assignment/Train/melanoma/output/melanoma_original_ISIC_0010597.jpg_762ea40e-a02e-4e0c-91b0-4cdee0b09f3b.jpg',\n",
              " 'gdrive/My Drive/CNN_assignment/Train/melanoma/output/melanoma_original_ISIC_0011094.jpg_117c4f70-43fb-41b3-9347-80798c5d08b6.jpg',\n",
              " 'gdrive/My Drive/CNN_assignment/Train/melanoma/output/melanoma_original_ISIC_0010119.jpg_2f8be1d2-4904-4848-941f-e5079d5b50ca.jpg',\n",
              " 'gdrive/My Drive/CNN_assignment/Train/melanoma/output/melanoma_original_ISIC_0010792.jpg_1857671a-1dea-49ec-a172-4c0ecdd4b92f.jpg',\n",
              " 'gdrive/My Drive/CNN_assignment/Train/melanoma/output/melanoma_original_ISIC_0010392.jpg_76dc9d12-96c1-4869-a0dc-fead2cbf333b.jpg',\n",
              " 'gdrive/My Drive/CNN_assignment/Train/melanoma/output/melanoma_original_ISIC_0010120.jpg_65338508-b9da-46be-83bb-de7d492b6577.jpg',\n",
              " 'gdrive/My Drive/CNN_assignment/Train/melanoma/output/melanoma_original_ISIC_0011094.jpg_5cf102ea-edae-4309-9f91-b951bf9da36b.jpg',\n",
              " 'gdrive/My Drive/CNN_assignment/Train/melanoma/output/melanoma_original_ISIC_0010559.jpg_f7db9ba4-8dcd-412f-beb3-e4e85ba5caaa.jpg',\n",
              " 'gdrive/My Drive/CNN_assignment/Train/melanoma/output/melanoma_original_ISIC_0000398.jpg_31ede9ee-95bc-4c7f-9842-85924ffdf09e.jpg',\n",
              " 'gdrive/My Drive/CNN_assignment/Train/melanoma/output/melanoma_original_ISIC_0000162.jpg_ff50f0ef-2212-404a-a55b-286b1427e5be.jpg',\n",
              " 'gdrive/My Drive/CNN_assignment/Train/melanoma/output/melanoma_original_ISIC_0010514.jpg_74f5574e-4fdc-44d9-9457-6b924edf5f52.jpg',\n",
              " 'gdrive/My Drive/CNN_assignment/Train/melanoma/output/melanoma_original_ISIC_0010909.jpg_ae5c8a44-1cee-482c-b133-92f98539d0ac.jpg',\n",
              " 'gdrive/My Drive/CNN_assignment/Train/melanoma/output/melanoma_original_ISIC_0010979.jpg_72a8ebb2-09b1-4c72-9791-053115a181f8.jpg',\n",
              " 'gdrive/My Drive/CNN_assignment/Train/melanoma/output/melanoma_original_ISIC_0000548.jpg_71d88958-a2de-4f6a-a7ad-a13c0e8b0e32.jpg',\n",
              " 'gdrive/My Drive/CNN_assignment/Train/melanoma/output/melanoma_original_ISIC_0010295.jpg_5331cff3-4de8-4054-a9f6-10d543a42799.jpg',\n",
              " 'gdrive/My Drive/CNN_assignment/Train/melanoma/output/melanoma_original_ISIC_0010359.jpg_9f62feaf-6e92-4035-a3d7-1e3dc468133b.jpg',\n",
              " 'gdrive/My Drive/CNN_assignment/Train/melanoma/output/melanoma_original_ISIC_0011136.jpg_bc5bcf80-63dc-429f-b9f1-8d5f48d0fd3b.jpg',\n",
              " 'gdrive/My Drive/CNN_assignment/Train/melanoma/output/melanoma_original_ISIC_0011185.jpg_78938711-0962-4bd9-82da-ad2d8784d918.jpg',\n",
              " 'gdrive/My Drive/CNN_assignment/Train/melanoma/output/melanoma_original_ISIC_0000309.jpg_7c022bb4-3749-4fa5-93e5-9d183ac9312e.jpg',\n",
              " 'gdrive/My Drive/CNN_assignment/Train/melanoma/output/melanoma_original_ISIC_0010799.jpg_8314c8aa-e1f8-4f74-b7b1-b580af7bf5ce.jpg',\n",
              " 'gdrive/My Drive/CNN_assignment/Train/melanoma/output/melanoma_original_ISIC_0010380.jpg_5d23a788-847f-4959-ac87-4cef0b614cc2.jpg',\n",
              " 'gdrive/My Drive/CNN_assignment/Train/melanoma/output/melanoma_original_ISIC_0010119.jpg_cf9ac948-e658-40bb-82f9-8c824c2b61e6.jpg',\n",
              " 'gdrive/My Drive/CNN_assignment/Train/melanoma/output/melanoma_original_ISIC_0000312.jpg_d7f11b71-4a2e-4d5d-aa19-947ef5dd58c7.jpg',\n",
              " 'gdrive/My Drive/CNN_assignment/Train/melanoma/output/melanoma_original_ISIC_0010056.jpg_759a37a9-d81c-4a0c-abb8-fe75d3eb30c1.jpg',\n",
              " 'gdrive/My Drive/CNN_assignment/Train/melanoma/output/melanoma_original_ISIC_0010080.jpg_642e663e-fbad-4c5a-9636-185363e772be.jpg',\n",
              " 'gdrive/My Drive/CNN_assignment/Train/melanoma/output/melanoma_original_ISIC_0010757.jpg_20e802c0-03ff-4e84-a31d-8e44c09dd3f0.jpg',\n",
              " 'gdrive/My Drive/CNN_assignment/Train/melanoma/output/melanoma_original_ISIC_0000519.jpg_d183d753-594a-47e8-a1ca-ba5d723d3c0d.jpg',\n",
              " 'gdrive/My Drive/CNN_assignment/Train/melanoma/output/melanoma_original_ISIC_0010925.jpg_5c702ec6-1a4a-41c4-98d8-3ea0477af5a3.jpg',\n",
              " 'gdrive/My Drive/CNN_assignment/Train/melanoma/output/melanoma_original_ISIC_0011057.jpg_283ddc62-706b-4606-8849-b74eda598cdc.jpg',\n",
              " 'gdrive/My Drive/CNN_assignment/Train/melanoma/output/melanoma_original_ISIC_0009992.jpg_3ced377c-e6c1-4d73-b7b1-7478d0ffe750.jpg',\n",
              " 'gdrive/My Drive/CNN_assignment/Train/melanoma/output/melanoma_original_ISIC_0010797.jpg_6a6e1135-08e2-4170-9d45-66cf61154385.jpg',\n",
              " 'gdrive/My Drive/CNN_assignment/Train/melanoma/output/melanoma_original_ISIC_0000399.jpg_af471b1d-3bab-41f4-bdf5-4c6ac5937204.jpg',\n",
              " 'gdrive/My Drive/CNN_assignment/Train/melanoma/output/melanoma_original_ISIC_0010094.jpg_c111acb3-d9e2-405f-86e2-58594a585a08.jpg',\n",
              " 'gdrive/My Drive/CNN_assignment/Train/melanoma/output/melanoma_original_ISIC_0010754.jpg_2204c364-5638-424c-b193-af1435413055.jpg',\n",
              " 'gdrive/My Drive/CNN_assignment/Train/melanoma/output/melanoma_original_ISIC_0010782.jpg_d35e559c-b72d-4f55-84dd-ae4054c377ba.jpg',\n",
              " 'gdrive/My Drive/CNN_assignment/Train/melanoma/output/melanoma_original_ISIC_0000147.jpg_b2fc9d21-9c53-466e-940d-86c5cd8d75c2.jpg',\n",
              " 'gdrive/My Drive/CNN_assignment/Train/melanoma/output/melanoma_original_ISIC_0010148.jpg_2d8e53c1-1b03-446d-a3ca-f082c7f15071.jpg',\n",
              " 'gdrive/My Drive/CNN_assignment/Train/melanoma/output/melanoma_original_ISIC_0010295.jpg_58f3ccff-dd5c-4221-a679-cc3c7e6b2289.jpg',\n",
              " 'gdrive/My Drive/CNN_assignment/Train/melanoma/output/melanoma_original_ISIC_0010349.jpg_40b3519c-8e98-492b-a4ee-8c739a44af48.jpg',\n",
              " 'gdrive/My Drive/CNN_assignment/Train/melanoma/output/melanoma_original_ISIC_0010207.jpg_5679eba9-51d3-417b-8612-3446a8aaf167.jpg',\n",
              " 'gdrive/My Drive/CNN_assignment/Train/melanoma/output/melanoma_original_ISIC_0010609.jpg_27abae94-b6c1-4eb7-9f7f-b96ab7325043.jpg',\n",
              " 'gdrive/My Drive/CNN_assignment/Train/melanoma/output/melanoma_original_ISIC_0010322.jpg_15666561-7632-4e7f-a426-578b0c29ccae.jpg',\n",
              " 'gdrive/My Drive/CNN_assignment/Train/melanoma/output/melanoma_original_ISIC_0011166.jpg_a903b3a3-1cee-47e3-905d-3eee39a2b9d1.jpg',\n",
              " 'gdrive/My Drive/CNN_assignment/Train/melanoma/output/melanoma_original_ISIC_0010784.jpg_2b1fa0d6-7c01-4b3a-b090-90c346a74fd7.jpg',\n",
              " 'gdrive/My Drive/CNN_assignment/Train/melanoma/output/melanoma_original_ISIC_0010729.jpg_d2d18ccd-b725-432c-bf4f-367e567fea84.jpg',\n",
              " 'gdrive/My Drive/CNN_assignment/Train/melanoma/output/melanoma_original_ISIC_0001121.jpg_b9a47289-8fd2-466e-a630-edfc4a6e9acc.jpg',\n",
              " 'gdrive/My Drive/CNN_assignment/Train/melanoma/output/melanoma_original_ISIC_0010011.jpg_04e73de8-baa3-4b8a-be6a-3c766863aeff.jpg',\n",
              " 'gdrive/My Drive/CNN_assignment/Train/melanoma/output/melanoma_original_ISIC_0010470.jpg_543558d1-4755-4abd-9c3f-eb604695e1e7.jpg',\n",
              " 'gdrive/My Drive/CNN_assignment/Train/melanoma/output/melanoma_original_ISIC_0010516.jpg_c415cdd0-cb3b-476a-8130-201e428e0ffe.jpg',\n",
              " 'gdrive/My Drive/CNN_assignment/Train/melanoma/output/melanoma_original_ISIC_0000415.jpg_12bb80a0-f3dd-43e2-a3ba-92bee46af3fd.jpg',\n",
              " 'gdrive/My Drive/CNN_assignment/Train/melanoma/output/melanoma_original_ISIC_0011094.jpg_fb7bfc03-a57e-45da-8bb5-ad8970efc567.jpg',\n",
              " 'gdrive/My Drive/CNN_assignment/Train/melanoma/output/melanoma_original_ISIC_0010754.jpg_80435551-5b00-4e1b-bc2f-6e55395e9cbd.jpg',\n",
              " 'gdrive/My Drive/CNN_assignment/Train/melanoma/output/melanoma_original_ISIC_0000446.jpg_9948cb40-9e29-4509-84e1-aab562c6e5a5.jpg',\n",
              " 'gdrive/My Drive/CNN_assignment/Train/melanoma/output/melanoma_original_ISIC_0000526.jpg_c79f3606-b6b7-4daa-a26d-e57aa3e84733.jpg',\n",
              " 'gdrive/My Drive/CNN_assignment/Train/melanoma/output/melanoma_original_ISIC_0000548.jpg_49b97bd1-8fc1-4a30-a783-1daeeb7aaf03.jpg',\n",
              " 'gdrive/My Drive/CNN_assignment/Train/melanoma/output/melanoma_original_ISIC_0010414.jpg_0be9d12e-04f3-4cc3-b5ce-a4276ea0990d.jpg',\n",
              " 'gdrive/My Drive/CNN_assignment/Train/melanoma/output/melanoma_original_ISIC_0010289.jpg_9c2a7859-ae5f-4507-ac02-6bef5e641cf3.jpg',\n",
              " 'gdrive/My Drive/CNN_assignment/Train/melanoma/output/melanoma_original_ISIC_0000302.jpg_7a527ab5-288e-4d92-93b8-96a00dd4674a.jpg',\n",
              " 'gdrive/My Drive/CNN_assignment/Train/melanoma/output/melanoma_original_ISIC_0000446.jpg_0583a578-5240-47c0-b971-dfd0e2190f66.jpg',\n",
              " 'gdrive/My Drive/CNN_assignment/Train/melanoma/output/melanoma_original_ISIC_0010468.jpg_ea141560-8f35-4f28-b978-e0e877b66f0f.jpg',\n",
              " 'gdrive/My Drive/CNN_assignment/Train/melanoma/output/melanoma_original_ISIC_0010194.jpg_701d9ead-e8fd-4cde-8b38-afa981307acc.jpg',\n",
              " 'gdrive/My Drive/CNN_assignment/Train/melanoma/output/melanoma_original_ISIC_0009989.jpg_3a0a9ad2-4269-42ac-aa2a-e549179c9403.jpg',\n",
              " 'gdrive/My Drive/CNN_assignment/Train/melanoma/output/melanoma_original_ISIC_0010803.jpg_fffa1eb3-8b4d-4f41-b66e-400765254894.jpg',\n",
              " 'gdrive/My Drive/CNN_assignment/Train/melanoma/output/melanoma_original_ISIC_0009908.jpg_5b4b9a8c-1b60-4429-ba1e-0cc60940fbf7.jpg',\n",
              " 'gdrive/My Drive/CNN_assignment/Train/melanoma/output/melanoma_original_ISIC_0011095.jpg_b05a6738-1021-4b2d-96aa-4bdbca54439d.jpg',\n",
              " 'gdrive/My Drive/CNN_assignment/Train/melanoma/output/melanoma_original_ISIC_0010280.jpg_d3c9f108-e30e-4a93-9d94-63b3c48a672a.jpg',\n",
              " 'gdrive/My Drive/CNN_assignment/Train/melanoma/output/melanoma_original_ISIC_0010359.jpg_f33a8c30-7348-42ff-a54d-749797e1144e.jpg',\n",
              " 'gdrive/My Drive/CNN_assignment/Train/melanoma/output/melanoma_original_ISIC_0011039.jpg_a65ed791-3384-452f-b4ac-0fb247478fab.jpg',\n",
              " 'gdrive/My Drive/CNN_assignment/Train/melanoma/output/melanoma_original_ISIC_0001140.jpg_20c30627-8522-4ad0-a208-3e0649062d7f.jpg',\n",
              " 'gdrive/My Drive/CNN_assignment/Train/melanoma/output/melanoma_original_ISIC_0000295.jpg_ed96f4e0-cb11-4781-b6f6-7ea660749ddb.jpg',\n",
              " 'gdrive/My Drive/CNN_assignment/Train/melanoma/output/melanoma_original_ISIC_0011112.jpg_ab0ee407-6a2b-4369-af0e-dd623336cc2b.jpg',\n",
              " 'gdrive/My Drive/CNN_assignment/Train/melanoma/output/melanoma_original_ISIC_0010652.jpg_9f24319f-5712-4bda-a349-021bebe16270.jpg',\n",
              " 'gdrive/My Drive/CNN_assignment/Train/melanoma/output/melanoma_original_ISIC_0000300.jpg_e34ef139-2bbf-4f9c-bcee-ffeec50d705c.jpg',\n",
              " 'gdrive/My Drive/CNN_assignment/Train/melanoma/output/melanoma_original_ISIC_0011039.jpg_4816089d-dc1c-4436-8a25-2307ca6015f0.jpg',\n",
              " 'gdrive/My Drive/CNN_assignment/Train/melanoma/output/melanoma_original_ISIC_0010883.jpg_39972e9e-2817-48c1-8119-dcd9665dbbec.jpg',\n",
              " 'gdrive/My Drive/CNN_assignment/Train/melanoma/output/melanoma_original_ISIC_0010080.jpg_8392affa-f518-4a92-9700-b085751286a0.jpg',\n",
              " 'gdrive/My Drive/CNN_assignment/Train/melanoma/output/melanoma_original_ISIC_0001132.jpg_c3605253-b2f2-4b08-a8fc-3ae580e7cc5b.jpg',\n",
              " 'gdrive/My Drive/CNN_assignment/Train/melanoma/output/melanoma_original_ISIC_0000293.jpg_15b9e3d0-cc94-409d-9d8b-c250914bd510.jpg',\n",
              " 'gdrive/My Drive/CNN_assignment/Train/melanoma/output/melanoma_original_ISIC_0010746.jpg_24db4248-6143-4a1d-9f0a-41f75b3dadc5.jpg',\n",
              " 'gdrive/My Drive/CNN_assignment/Train/melanoma/output/melanoma_original_ISIC_0000157.jpg_3bd0ce7b-8524-4897-9894-7ddb0fd1809b.jpg',\n",
              " 'gdrive/My Drive/CNN_assignment/Train/melanoma/output/melanoma_original_ISIC_0011042.jpg_9e338ede-f019-45a2-97f0-62384a9cf4fc.jpg',\n",
              " 'gdrive/My Drive/CNN_assignment/Train/melanoma/output/melanoma_original_ISIC_0010784.jpg_74b39c0b-6702-48d0-87eb-27e1604ecb07.jpg',\n",
              " 'gdrive/My Drive/CNN_assignment/Train/melanoma/output/melanoma_original_ISIC_0000306.jpg_dc1f6992-45bb-4dac-bd36-fa0bba5fd039.jpg',\n",
              " 'gdrive/My Drive/CNN_assignment/Train/melanoma/output/melanoma_original_ISIC_0000280.jpg_08c363ea-dc70-4d96-8d9a-9ec060452694.jpg',\n",
              " 'gdrive/My Drive/CNN_assignment/Train/melanoma/output/melanoma_original_ISIC_0011057.jpg_bf0ba39f-f73a-4dc6-9d7a-0d6323673c09.jpg',\n",
              " 'gdrive/My Drive/CNN_assignment/Train/melanoma/output/melanoma_original_ISIC_0010789.jpg_a2a00a61-3e98-4318-8c78-42b7e1dd19a9.jpg',\n",
              " 'gdrive/My Drive/CNN_assignment/Train/melanoma/output/melanoma_original_ISIC_0010782.jpg_35343157-e576-4389-94dc-46e6167da4fc.jpg',\n",
              " 'gdrive/My Drive/CNN_assignment/Train/melanoma/output/melanoma_original_ISIC_0010834.jpg_67e6bdbb-c5de-48e5-b37c-1e278f8b5c6f.jpg',\n",
              " 'gdrive/My Drive/CNN_assignment/Train/melanoma/output/melanoma_original_ISIC_0010596.jpg_618d6322-2d6f-4044-b96d-f2ebc2d6ed0c.jpg',\n",
              " 'gdrive/My Drive/CNN_assignment/Train/melanoma/output/melanoma_original_ISIC_0010812.jpg_cfdb6432-8ba5-4d84-b6b1-9ac1a15b627d.jpg',\n",
              " 'gdrive/My Drive/CNN_assignment/Train/melanoma/output/melanoma_original_ISIC_0011166.jpg_3cb16bd1-ff1a-4a0f-be40-1024a4b6ebaa.jpg',\n",
              " 'gdrive/My Drive/CNN_assignment/Train/melanoma/output/melanoma_original_ISIC_0000549.jpg_0fe2ec96-9e74-44ea-867d-e13f18485325.jpg',\n",
              " 'gdrive/My Drive/CNN_assignment/Train/melanoma/output/melanoma_original_ISIC_0000289.jpg_77863d3a-0045-4b21-bdfb-9950914889c4.jpg',\n",
              " 'gdrive/My Drive/CNN_assignment/Train/melanoma/output/melanoma_original_ISIC_0000411.jpg_5fefc5d5-e115-4470-ac69-bd0ff9a6538b.jpg',\n",
              " 'gdrive/My Drive/CNN_assignment/Train/melanoma/output/melanoma_original_ISIC_0001138.jpg_0eb7c681-b79e-41af-954c-e86829359df2.jpg',\n",
              " 'gdrive/My Drive/CNN_assignment/Train/melanoma/output/melanoma_original_ISIC_0010486.jpg_703ed69e-01fe-4f56-913c-96d4d2e31b88.jpg',\n",
              " 'gdrive/My Drive/CNN_assignment/Train/melanoma/output/melanoma_original_ISIC_0000139.jpg_2cf25220-fdd8-41e9-92e0-632073f02557.jpg',\n",
              " 'gdrive/My Drive/CNN_assignment/Train/melanoma/output/melanoma_original_ISIC_0010171.jpg_9f9ea39c-2d29-42b9-b139-8166751f10e7.jpg',\n",
              " 'gdrive/My Drive/CNN_assignment/Train/melanoma/output/melanoma_original_ISIC_0010979.jpg_73d27934-7b94-4849-9d89-b4b3883d5b46.jpg',\n",
              " 'gdrive/My Drive/CNN_assignment/Train/melanoma/output/melanoma_original_ISIC_0010034.jpg_25b178f6-2c78-4bdb-964f-de06f2b18624.jpg',\n",
              " 'gdrive/My Drive/CNN_assignment/Train/melanoma/output/melanoma_original_ISIC_0000434.jpg_37d83129-7f02-4eb9-9f01-7ca859e3d0b3.jpg',\n",
              " 'gdrive/My Drive/CNN_assignment/Train/melanoma/output/melanoma_original_ISIC_0001134.jpg_8c3b315d-75b4-4436-b631-a09d62678e45.jpg',\n",
              " 'gdrive/My Drive/CNN_assignment/Train/melanoma/output/melanoma_original_ISIC_0009934.jpg_68951acb-1a9a-4020-8a67-657e43ad6ac9.jpg',\n",
              " 'gdrive/My Drive/CNN_assignment/Train/melanoma/output/melanoma_original_ISIC_0000462.jpg_41f03366-13a7-4276-9c04-66d88c28e091.jpg',\n",
              " 'gdrive/My Drive/CNN_assignment/Train/melanoma/output/melanoma_original_ISIC_0000440.jpg_90bb7c36-b3d3-4d04-a2c5-315fddce77ba.jpg',\n",
              " 'gdrive/My Drive/CNN_assignment/Train/melanoma/output/melanoma_original_ISIC_0001116.jpg_28d2c01b-c544-405e-91d5-bd8023bbaf94.jpg',\n",
              " 'gdrive/My Drive/CNN_assignment/Train/melanoma/output/melanoma_original_ISIC_0001103.jpg_d8b2a57f-c9e3-4e86-a1a5-36a88edcb71e.jpg',\n",
              " 'gdrive/My Drive/CNN_assignment/Train/melanoma/output/melanoma_original_ISIC_0010648.jpg_fcd98c0b-e220-4a81-b8c6-21201afe849b.jpg',\n",
              " 'gdrive/My Drive/CNN_assignment/Train/melanoma/output/melanoma_original_ISIC_0011057.jpg_8334582b-7487-417e-89d7-88dcaf9d656e.jpg',\n",
              " 'gdrive/My Drive/CNN_assignment/Train/melanoma/output/melanoma_original_ISIC_0010271.jpg_29eb768b-17ba-464b-9f30-57c02a6c7327.jpg',\n",
              " 'gdrive/My Drive/CNN_assignment/Train/melanoma/output/melanoma_original_ISIC_0000487.jpg_749c11d4-bdda-4187-9d6f-0a097f2b9cb8.jpg',\n",
              " 'gdrive/My Drive/CNN_assignment/Train/melanoma/output/melanoma_original_ISIC_0000155.jpg_362eadb3-8b21-4fdd-bcd3-28dfcbc45321.jpg',\n",
              " 'gdrive/My Drive/CNN_assignment/Train/melanoma/output/melanoma_original_ISIC_0010089.jpg_ed883ae1-0915-41c8-bdbb-6680a3eeba9d.jpg',\n",
              " 'gdrive/My Drive/CNN_assignment/Train/melanoma/output/melanoma_original_ISIC_0000151.jpg_e1404ad9-618e-4073-960a-e1c49908c96d.jpg',\n",
              " 'gdrive/My Drive/CNN_assignment/Train/melanoma/output/melanoma_original_ISIC_0000308.jpg_b9dcb407-d465-4f42-bf45-5946bf13ef12.jpg',\n",
              " 'gdrive/My Drive/CNN_assignment/Train/melanoma/output/melanoma_original_ISIC_0010777.jpg_98b1ea2b-e91f-487e-88f8-c67b3ae55ed1.jpg',\n",
              " 'gdrive/My Drive/CNN_assignment/Train/melanoma/output/melanoma_original_ISIC_0000168.jpg_a9ce7441-c1b5-49d5-ba2f-5eaf9c87f4da.jpg',\n",
              " 'gdrive/My Drive/CNN_assignment/Train/melanoma/output/melanoma_original_ISIC_0010938.jpg_f46f66f2-b5bb-4e76-9e48-f826f69b2a0e.jpg',\n",
              " 'gdrive/My Drive/CNN_assignment/Train/melanoma/output/melanoma_original_ISIC_0000441.jpg_3a98d1b6-e520-4091-ba3c-c68538eceacb.jpg',\n",
              " 'gdrive/My Drive/CNN_assignment/Train/melanoma/output/melanoma_original_ISIC_0001118.jpg_6132d2e8-4a29-42cd-869b-ad12dd1def1d.jpg',\n",
              " 'gdrive/My Drive/CNN_assignment/Train/melanoma/output/melanoma_original_ISIC_0010597.jpg_f0ada651-6e91-4b34-b2d2-b58046e16a3c.jpg',\n",
              " 'gdrive/My Drive/CNN_assignment/Train/melanoma/output/melanoma_original_ISIC_0010423.jpg_3f33762b-ea83-4e46-91f7-059076fa6151.jpg',\n",
              " 'gdrive/My Drive/CNN_assignment/Train/melanoma/output/melanoma_original_ISIC_0010164.jpg_8a3e9657-87ad-4607-8db7-2e02d6083141.jpg',\n",
              " 'gdrive/My Drive/CNN_assignment/Train/melanoma/output/melanoma_original_ISIC_0010321.jpg_5211ac18-5b9a-430f-a8c2-37b25e7eda45.jpg',\n",
              " 'gdrive/My Drive/CNN_assignment/Train/melanoma/output/melanoma_original_ISIC_0010909.jpg_14929084-05e8-4595-b952-42cb3cb38d59.jpg',\n",
              " 'gdrive/My Drive/CNN_assignment/Train/melanoma/output/melanoma_original_ISIC_0009890.jpg_804bb47c-9d7b-4faf-bb01-ea95e1a41e32.jpg',\n",
              " 'gdrive/My Drive/CNN_assignment/Train/melanoma/output/melanoma_original_ISIC_0011042.jpg_bda9b7b3-6881-4ee2-a691-552375877375.jpg',\n",
              " 'gdrive/My Drive/CNN_assignment/Train/melanoma/output/melanoma_original_ISIC_0000301.jpg_0fc7cdb8-d258-4e3a-96ac-0e013fbf4948.jpg',\n",
              " 'gdrive/My Drive/CNN_assignment/Train/melanoma/output/melanoma_original_ISIC_0010175.jpg_1b77526a-6ef0-474f-adbb-14d3cc68aedd.jpg',\n",
              " 'gdrive/My Drive/CNN_assignment/Train/melanoma/output/melanoma_original_ISIC_0000155.jpg_3b0d9d19-f027-4a9c-bf35-87253a6daf3e.jpg',\n",
              " 'gdrive/My Drive/CNN_assignment/Train/melanoma/output/melanoma_original_ISIC_0000300.jpg_67b65b9a-a4c5-49e4-9692-ec45bff652d2.jpg',\n",
              " 'gdrive/My Drive/CNN_assignment/Train/melanoma/output/melanoma_original_ISIC_0011137.jpg_734c8c99-2406-41b2-ad68-38fe5321b2e0.jpg',\n",
              " 'gdrive/My Drive/CNN_assignment/Train/melanoma/output/melanoma_original_ISIC_0010288.jpg_60434191-c624-4e3c-93fc-61aacaa44f07.jpg',\n",
              " 'gdrive/My Drive/CNN_assignment/Train/melanoma/output/melanoma_original_ISIC_0000309.jpg_9e0e00a9-f8eb-4fe8-ba8b-e161d5a12216.jpg',\n",
              " 'gdrive/My Drive/CNN_assignment/Train/melanoma/output/melanoma_original_ISIC_0010550.jpg_313be951-7a3a-4354-851d-b23739a15fdf.jpg',\n",
              " 'gdrive/My Drive/CNN_assignment/Train/melanoma/output/melanoma_original_ISIC_0010597.jpg_e585a3dc-de76-462a-a3f1-88c307895c24.jpg',\n",
              " 'gdrive/My Drive/CNN_assignment/Train/melanoma/output/melanoma_original_ISIC_0000313.jpg_d9b8f88e-f189-4e26-8e5c-20cef0a55c4f.jpg',\n",
              " 'gdrive/My Drive/CNN_assignment/Train/melanoma/output/melanoma_original_ISIC_0010024.jpg_6d0718b4-2681-4860-8281-a43a284dc933.jpg',\n",
              " 'gdrive/My Drive/CNN_assignment/Train/melanoma/output/melanoma_original_ISIC_0000394.jpg_31ebc12a-d5a1-45b9-9276-e7193cfc2165.jpg',\n",
              " 'gdrive/My Drive/CNN_assignment/Train/melanoma/output/melanoma_original_ISIC_0000285.jpg_7444b3e9-494d-48fb-a76e-16c2f3c63221.jpg',\n",
              " 'gdrive/My Drive/CNN_assignment/Train/melanoma/output/melanoma_original_ISIC_0000303.jpg_fa546bbb-2c30-41b0-95a4-09f5807ba0b2.jpg',\n",
              " 'gdrive/My Drive/CNN_assignment/Train/melanoma/output/melanoma_original_ISIC_0001157.jpg_4f98ddb3-a514-4426-aa37-1b4590eeb3c0.jpg',\n",
              " 'gdrive/My Drive/CNN_assignment/Train/melanoma/output/melanoma_original_ISIC_0000552.jpg_3561df91-17b3-4d32-99bd-ccec9479e22c.jpg',\n",
              " 'gdrive/My Drive/CNN_assignment/Train/melanoma/output/melanoma_original_ISIC_0000466.jpg_39b6dd9a-7bf1-4963-a167-82db178b6426.jpg',\n",
              " 'gdrive/My Drive/CNN_assignment/Train/melanoma/output/melanoma_original_ISIC_0011040.jpg_2358016a-864b-4044-8791-41a7141e450e.jpg',\n",
              " 'gdrive/My Drive/CNN_assignment/Train/melanoma/output/melanoma_original_ISIC_0009989.jpg_2a9b0ab8-b4d2-4425-8f7a-5d4ec74254f7.jpg',\n",
              " 'gdrive/My Drive/CNN_assignment/Train/melanoma/output/melanoma_original_ISIC_0010777.jpg_1f8e9a3c-e9d3-481c-ba9f-95f6e2c0a7a3.jpg',\n",
              " 'gdrive/My Drive/CNN_assignment/Train/melanoma/output/melanoma_original_ISIC_0010295.jpg_0d6ec0ed-81e4-444d-ab82-32b2e9bc7eb7.jpg',\n",
              " 'gdrive/My Drive/CNN_assignment/Train/melanoma/output/melanoma_original_ISIC_0000413.jpg_0f872ff6-643a-47e9-a092-4d593582a682.jpg',\n",
              " 'gdrive/My Drive/CNN_assignment/Train/melanoma/output/melanoma_original_ISIC_0010131.jpg_cbdf80df-1a0d-426c-a80e-0ce919b75836.jpg',\n",
              " 'gdrive/My Drive/CNN_assignment/Train/melanoma/output/melanoma_original_ISIC_0010094.jpg_0f8d3f9d-4fe4-4d81-84e3-e8beda24c3ff.jpg',\n",
              " 'gdrive/My Drive/CNN_assignment/Train/melanoma/output/melanoma_original_ISIC_0010156.jpg_0fb8db08-a32a-4182-b0f6-857a8a5d577e.jpg',\n",
              " 'gdrive/My Drive/CNN_assignment/Train/melanoma/output/melanoma_original_ISIC_0011040.jpg_3370e512-56b5-492b-8137-54c7888ee374.jpg',\n",
              " 'gdrive/My Drive/CNN_assignment/Train/melanoma/output/melanoma_original_ISIC_0000533.jpg_bb0fb598-6f2c-4516-8e44-efd481998d1e.jpg',\n",
              " 'gdrive/My Drive/CNN_assignment/Train/melanoma/output/melanoma_original_ISIC_0000157.jpg_b1c4ad5f-7551-4cb9-866c-a74684678f96.jpg',\n",
              " 'gdrive/My Drive/CNN_assignment/Train/melanoma/output/melanoma_original_ISIC_0000412.jpg_e00377c5-c7ff-4890-9a90-803bfba3ab09.jpg',\n",
              " 'gdrive/My Drive/CNN_assignment/Train/melanoma/output/melanoma_original_ISIC_0010872.jpg_db5a2246-7ada-472e-95da-d1e5a6bbf575.jpg',\n",
              " 'gdrive/My Drive/CNN_assignment/Train/melanoma/output/melanoma_original_ISIC_0000482.jpg_8bcc743f-f232-453f-953b-6843e2683e5a.jpg',\n",
              " 'gdrive/My Drive/CNN_assignment/Train/melanoma/output/melanoma_original_ISIC_0000531.jpg_106ac38a-c4a3-46ce-9b62-f64c8faab34e.jpg',\n",
              " 'gdrive/My Drive/CNN_assignment/Train/melanoma/output/melanoma_original_ISIC_0010766.jpg_8c84d09f-6578-40e0-8d49-093098004b48.jpg',\n",
              " 'gdrive/My Drive/CNN_assignment/Train/melanoma/output/melanoma_original_ISIC_0010765.jpg_1906d745-b035-4bc2-93b7-131d435d6b39.jpg',\n",
              " 'gdrive/My Drive/CNN_assignment/Train/melanoma/output/melanoma_original_ISIC_0010322.jpg_a49feab8-a78d-4538-89df-8736b15bc6a9.jpg',\n",
              " 'gdrive/My Drive/CNN_assignment/Train/melanoma/output/melanoma_original_ISIC_0001142.jpg_4e856379-cef2-48d9-aa21-220ba0a6682a.jpg',\n",
              " 'gdrive/My Drive/CNN_assignment/Train/melanoma/output/melanoma_original_ISIC_0000310.jpg_9ed86142-fe19-48cd-8932-54b228914812.jpg',\n",
              " 'gdrive/My Drive/CNN_assignment/Train/melanoma/output/melanoma_original_ISIC_0000428.jpg_6ad2896f-0c86-43f8-a263-6e0e1a2b121b.jpg',\n",
              " 'gdrive/My Drive/CNN_assignment/Train/melanoma/output/melanoma_original_ISIC_0010470.jpg_3e3966c5-94ac-4ae9-a126-1851a6bc4331.jpg',\n",
              " 'gdrive/My Drive/CNN_assignment/Train/melanoma/output/melanoma_original_ISIC_0000405.jpg_49a2611d-6cd4-4fca-be1b-3563b58b63c9.jpg',\n",
              " 'gdrive/My Drive/CNN_assignment/Train/melanoma/output/melanoma_original_ISIC_0000526.jpg_b0da09b1-4385-4857-93a8-65d8ba6a6be8.jpg',\n",
              " 'gdrive/My Drive/CNN_assignment/Train/melanoma/output/melanoma_original_ISIC_0010313.jpg_1bc31111-de10-4b55-94ad-54dabd53d5e5.jpg',\n",
              " 'gdrive/My Drive/CNN_assignment/Train/melanoma/output/melanoma_original_ISIC_0001102.jpg_13208ef0-b426-4493-aa86-f93ec45582e3.jpg',\n",
              " 'gdrive/My Drive/CNN_assignment/Train/melanoma/output/melanoma_original_ISIC_0011077.jpg_7b9ddc4b-b221-4e13-b02f-401933ec8de1.jpg',\n",
              " 'gdrive/My Drive/CNN_assignment/Train/melanoma/output/melanoma_original_ISIC_0000513.jpg_3fe6f14d-de09-4764-a760-772214e56448.jpg',\n",
              " 'gdrive/My Drive/CNN_assignment/Train/melanoma/output/melanoma_original_ISIC_0010039.jpg_b2643249-73d4-449a-8d1a-01a494bc9e95.jpg',\n",
              " 'gdrive/My Drive/CNN_assignment/Train/melanoma/output/melanoma_original_ISIC_0010271.jpg_0ec10363-e2b3-4fe1-8af7-b6a84625f21e.jpg',\n",
              " 'gdrive/My Drive/CNN_assignment/Train/melanoma/output/melanoma_original_ISIC_0010240.jpg_02a69cc8-7009-4578-8d82-a88de6ebd775.jpg',\n",
              " 'gdrive/My Drive/CNN_assignment/Train/melanoma/output/melanoma_original_ISIC_0010414.jpg_6841fd27-1848-492c-9b71-63895342c1e3.jpg',\n",
              " 'gdrive/My Drive/CNN_assignment/Train/melanoma/output/melanoma_original_ISIC_0000152.jpg_6a1c4d16-c4e5-4f98-b062-9dd9521cebe1.jpg',\n",
              " 'gdrive/My Drive/CNN_assignment/Train/melanoma/output/melanoma_original_ISIC_0010803.jpg_af14ff42-2701-499f-a720-069bc4a7c593.jpg',\n",
              " 'gdrive/My Drive/CNN_assignment/Train/melanoma/output/melanoma_original_ISIC_0000148.jpg_bdfc1a49-16d0-4648-a5d4-ee330dc4d202.jpg',\n",
              " 'gdrive/My Drive/CNN_assignment/Train/melanoma/output/melanoma_original_ISIC_0010349.jpg_261af913-005d-458b-83ee-e446b9349508.jpg',\n",
              " 'gdrive/My Drive/CNN_assignment/Train/melanoma/output/melanoma_original_ISIC_0010767.jpg_9ea3d687-31a0-4282-8503-ac5710597b4a.jpg',\n",
              " 'gdrive/My Drive/CNN_assignment/Train/melanoma/output/melanoma_original_ISIC_0010094.jpg_88122b32-911b-4437-8add-c51be31b45ff.jpg',\n",
              " 'gdrive/My Drive/CNN_assignment/Train/melanoma/output/melanoma_original_ISIC_0000152.jpg_cb191a9c-3502-478e-84d7-55041dce7735.jpg',\n",
              " 'gdrive/My Drive/CNN_assignment/Train/melanoma/output/melanoma_original_ISIC_0010934.jpg_e34bc196-240e-4912-a347-a1e049bf5deb.jpg',\n",
              " 'gdrive/My Drive/CNN_assignment/Train/melanoma/output/melanoma_original_ISIC_0009955.jpg_8efcecd5-3478-4efd-b6a6-52242defeab4.jpg',\n",
              " 'gdrive/My Drive/CNN_assignment/Train/melanoma/output/melanoma_original_ISIC_0001140.jpg_40f3f894-848a-45b1-9c52-c14f300dfa94.jpg',\n",
              " 'gdrive/My Drive/CNN_assignment/Train/melanoma/output/melanoma_original_ISIC_0001118.jpg_04cdff49-f329-4988-9254-95edeb13561e.jpg',\n",
              " 'gdrive/My Drive/CNN_assignment/Train/melanoma/output/melanoma_original_ISIC_0000300.jpg_94eae4d7-ef49-4651-a8fb-cff0c0727361.jpg',\n",
              " 'gdrive/My Drive/CNN_assignment/Train/melanoma/output/melanoma_original_ISIC_0010016.jpg_b07988ed-e800-4b2b-b06d-193f90974983.jpg',\n",
              " 'gdrive/My Drive/CNN_assignment/Train/melanoma/output/melanoma_original_ISIC_0011031.jpg_954a237a-09c5-47a1-9005-2f15593a1bf1.jpg',\n",
              " 'gdrive/My Drive/CNN_assignment/Train/melanoma/output/melanoma_original_ISIC_0000487.jpg_5a67b13b-0c51-4896-ae2f-b59f9f80a01a.jpg',\n",
              " 'gdrive/My Drive/CNN_assignment/Train/melanoma/output/melanoma_original_ISIC_0000161.jpg_4f03c09f-93f8-4f93-82d0-49a7a865a684.jpg',\n",
              " 'gdrive/My Drive/CNN_assignment/Train/melanoma/output/melanoma_original_ISIC_0000143.jpg_6b353518-78f9-4ade-8ccc-271a14a6b853.jpg',\n",
              " 'gdrive/My Drive/CNN_assignment/Train/melanoma/output/melanoma_original_ISIC_0010036.jpg_c5b24e66-ade2-4c18-9231-ce6d005397fc.jpg',\n",
              " 'gdrive/My Drive/CNN_assignment/Train/melanoma/output/melanoma_original_ISIC_0010164.jpg_13f87b40-69d0-44a7-a1c5-63cd19e1145e.jpg',\n",
              " 'gdrive/My Drive/CNN_assignment/Train/melanoma/output/melanoma_original_ISIC_0000441.jpg_4f8d246d-df57-48bf-b27c-42c464525057.jpg',\n",
              " 'gdrive/My Drive/CNN_assignment/Train/melanoma/output/melanoma_original_ISIC_0010391.jpg_2ce1abd8-8e47-4d1b-b02f-0e1380ae005a.jpg',\n",
              " 'gdrive/My Drive/CNN_assignment/Train/melanoma/output/melanoma_original_ISIC_0011007.jpg_564a4d05-395a-41d1-b5e0-61b6c208145f.jpg',\n",
              " 'gdrive/My Drive/CNN_assignment/Train/melanoma/output/melanoma_original_ISIC_0000393.jpg_834b2dfe-ce53-4bad-b8c1-34360b84c1b4.jpg',\n",
              " 'gdrive/My Drive/CNN_assignment/Train/melanoma/output/melanoma_original_ISIC_0010482.jpg_3117f268-dd62-40ff-916a-97e1382dda1f.jpg',\n",
              " 'gdrive/My Drive/CNN_assignment/Train/melanoma/output/melanoma_original_ISIC_0010267.jpg_db1c2a92-2e1f-4e08-a098-32b679c9a216.jpg',\n",
              " 'gdrive/My Drive/CNN_assignment/Train/melanoma/output/melanoma_original_ISIC_0010630.jpg_bd3146c7-d5b2-4c6e-b6ae-f9098c4af0eb.jpg',\n",
              " 'gdrive/My Drive/CNN_assignment/Train/melanoma/output/melanoma_original_ISIC_0010912.jpg_f306a572-e891-4aa0-9fb2-0d2710bdc395.jpg',\n",
              " 'gdrive/My Drive/CNN_assignment/Train/melanoma/output/melanoma_original_ISIC_0010546.jpg_e144a1e9-521a-4d2f-b55c-eb084bfa1230.jpg',\n",
              " 'gdrive/My Drive/CNN_assignment/Train/melanoma/output/melanoma_original_ISIC_0001101.jpg_100dec9e-e110-4293-b38c-590461166212.jpg',\n",
              " 'gdrive/My Drive/CNN_assignment/Train/melanoma/output/melanoma_original_ISIC_0010162.jpg_f12b6469-19d6-4364-a38d-b3b8b55c2d5d.jpg',\n",
              " 'gdrive/My Drive/CNN_assignment/Train/melanoma/output/melanoma_original_ISIC_0001148.jpg_ad8d15ef-d927-4fd0-a42e-de34a5c1e08d.jpg',\n",
              " 'gdrive/My Drive/CNN_assignment/Train/melanoma/output/melanoma_original_ISIC_0000142.jpg_da9f03dd-3311-47e9-97ef-c50a980bf096.jpg',\n",
              " 'gdrive/My Drive/CNN_assignment/Train/melanoma/output/melanoma_original_ISIC_0010007.jpg_011b7388-0910-47e2-b4a3-e4781db08b30.jpg',\n",
              " 'gdrive/My Drive/CNN_assignment/Train/melanoma/output/melanoma_original_ISIC_0001152.jpg_ca1c884d-2d1e-4b0e-bdce-879cd77ee9a0.jpg',\n",
              " 'gdrive/My Drive/CNN_assignment/Train/melanoma/output/melanoma_original_ISIC_0000516.jpg_111734ac-e565-45eb-9349-4d40d6badf80.jpg',\n",
              " 'gdrive/My Drive/CNN_assignment/Train/melanoma/output/melanoma_original_ISIC_0010812.jpg_325ee93a-5bc1-40ba-881e-8af562b53bdb.jpg',\n",
              " 'gdrive/My Drive/CNN_assignment/Train/melanoma/output/melanoma_original_ISIC_0001140.jpg_f565785f-6fbc-48d7-9d91-95871186d75b.jpg',\n",
              " 'gdrive/My Drive/CNN_assignment/Train/melanoma/output/melanoma_original_ISIC_0000518.jpg_e794b276-e39e-4cb8-aa2c-4b4044158675.jpg',\n",
              " 'gdrive/My Drive/CNN_assignment/Train/melanoma/output/melanoma_original_ISIC_0001128.jpg_486504c0-0e7d-46aa-b7b7-edd58fb38fc5.jpg',\n",
              " 'gdrive/My Drive/CNN_assignment/Train/melanoma/output/melanoma_original_ISIC_0010883.jpg_79136d88-5e40-480c-bdc9-d1fd24bd4449.jpg',\n",
              " 'gdrive/My Drive/CNN_assignment/Train/melanoma/output/melanoma_original_ISIC_0010225.jpg_7d901a0e-a219-4cd7-99b6-216bd19f5036.jpg',\n",
              " 'gdrive/My Drive/CNN_assignment/Train/melanoma/output/melanoma_original_ISIC_0010546.jpg_3a78ffe0-a662-4337-8aec-9418176b16c1.jpg',\n",
              " 'gdrive/My Drive/CNN_assignment/Train/melanoma/output/melanoma_original_ISIC_0000291.jpg_93795d73-5851-4a10-8331-a48ac155c793.jpg',\n",
              " 'gdrive/My Drive/CNN_assignment/Train/melanoma/output/melanoma_original_ISIC_0000482.jpg_23864d9d-c48b-4501-a983-445958c6e7a5.jpg',\n",
              " 'gdrive/My Drive/CNN_assignment/Train/melanoma/output/melanoma_original_ISIC_0010391.jpg_0f25a9fa-9c6d-4da3-b28e-69dbe10f306d.jpg',\n",
              " 'gdrive/My Drive/CNN_assignment/Train/melanoma/output/melanoma_original_ISIC_0000531.jpg_a5190ad4-1e6a-4a8f-af68-16cf086f8530.jpg',\n",
              " 'gdrive/My Drive/CNN_assignment/Train/melanoma/output/melanoma_original_ISIC_0000400.jpg_a0b210a7-b544-475a-9dcf-14dccdbd9dca.jpg',\n",
              " 'gdrive/My Drive/CNN_assignment/Train/melanoma/output/melanoma_original_ISIC_0010410.jpg_ffaa3c94-6d32-4318-8b21-2024bb398081.jpg',\n",
              " 'gdrive/My Drive/CNN_assignment/Train/melanoma/output/melanoma_original_ISIC_0010596.jpg_498507b1-41b2-4fa9-b1f8-e01dfdc7533f.jpg',\n",
              " 'gdrive/My Drive/CNN_assignment/Train/melanoma/output/melanoma_original_ISIC_0001124.jpg_a0457824-7a66-4339-ad0c-f825f63636bd.jpg',\n",
              " 'gdrive/My Drive/CNN_assignment/Train/melanoma/output/melanoma_original_ISIC_0011099.jpg_6ddd4419-3a0e-451a-8ec2-be26d251c2f9.jpg',\n",
              " 'gdrive/My Drive/CNN_assignment/Train/melanoma/output/melanoma_original_ISIC_0000312.jpg_7dd6338e-4ba7-44c8-8917-bd6f8cea119f.jpg',\n",
              " 'gdrive/My Drive/CNN_assignment/Train/melanoma/output/melanoma_original_ISIC_0011130.jpg_30a2ced3-c7ec-45e7-8129-610139fcd5ef.jpg',\n",
              " 'gdrive/My Drive/CNN_assignment/Train/melanoma/output/melanoma_original_ISIC_0010630.jpg_168ce811-a5e5-49fa-ba37-5e907f23b070.jpg',\n",
              " 'gdrive/My Drive/CNN_assignment/Train/melanoma/output/melanoma_original_ISIC_0000432.jpg_3c87713c-e94b-47db-8b89-dda2e9b6ba76.jpg',\n",
              " 'gdrive/My Drive/CNN_assignment/Train/melanoma/output/melanoma_original_ISIC_0009993.jpg_e167f59c-c45b-408f-a312-e0ea70d99f71.jpg',\n",
              " 'gdrive/My Drive/CNN_assignment/Train/melanoma/output/melanoma_original_ISIC_0010468.jpg_2e60a057-c55c-4da8-ac48-424246c8234d.jpg',\n",
              " 'gdrive/My Drive/CNN_assignment/Train/melanoma/output/melanoma_original_ISIC_0010283.jpg_5b50cd63-520b-4e93-b825-d2df4f848555.jpg',\n",
              " 'gdrive/My Drive/CNN_assignment/Train/melanoma/output/melanoma_original_ISIC_0000297.jpg_f68c7188-a60e-4279-b0a1-ed54853c842d.jpg',\n",
              " 'gdrive/My Drive/CNN_assignment/Train/melanoma/output/melanoma_original_ISIC_0000522.jpg_6e156dd6-e495-4288-a1f0-b04264215d69.jpg',\n",
              " 'gdrive/My Drive/CNN_assignment/Train/melanoma/output/melanoma_original_ISIC_0011057.jpg_0a3160e4-566a-40ba-8bc9-b5dc0da59cae.jpg',\n",
              " 'gdrive/My Drive/CNN_assignment/Train/melanoma/output/melanoma_original_ISIC_0000502.jpg_b7278e68-d93c-47c7-a508-5e1f5dc52475.jpg',\n",
              " 'gdrive/My Drive/CNN_assignment/Train/melanoma/output/melanoma_original_ISIC_0011136.jpg_5ab88cac-9f37-4647-9a2c-1c369f0ac574.jpg',\n",
              " 'gdrive/My Drive/CNN_assignment/Train/melanoma/output/melanoma_original_ISIC_0000285.jpg_16f134a7-a1dd-4758-b5b0-819c89ff0770.jpg',\n",
              " 'gdrive/My Drive/CNN_assignment/Train/melanoma/output/melanoma_original_ISIC_0010583.jpg_46a6e0ad-4b8e-4907-b4fe-f7d3a4ba8b00.jpg',\n",
              " 'gdrive/My Drive/CNN_assignment/Train/melanoma/output/melanoma_original_ISIC_0000157.jpg_dc23b02c-144b-44c3-adbf-d4a82eebfbb6.jpg',\n",
              " 'gdrive/My Drive/CNN_assignment/Train/melanoma/output/melanoma_original_ISIC_0000169.jpg_e0a6f93f-7dc6-45ff-b05b-170ef2941587.jpg',\n",
              " 'gdrive/My Drive/CNN_assignment/Train/melanoma/output/melanoma_original_ISIC_0010757.jpg_e853b8c0-a6d6-47d4-aab0-69c5825da01b.jpg',\n",
              " 'gdrive/My Drive/CNN_assignment/Train/melanoma/output/melanoma_original_ISIC_0009971.jpg_17989949-9122-4c6a-8395-69c57d1de2cc.jpg',\n",
              " 'gdrive/My Drive/CNN_assignment/Train/melanoma/output/melanoma_original_ISIC_0001154.jpg_a17935ac-2077-4487-b8f4-063da263dccd.jpg',\n",
              " 'gdrive/My Drive/CNN_assignment/Train/melanoma/output/melanoma_original_ISIC_0001124.jpg_f6a474a4-617b-4864-8630-7cf42ccc67b3.jpg',\n",
              " 'gdrive/My Drive/CNN_assignment/Train/melanoma/output/melanoma_original_ISIC_0001106.jpg_61c74030-9cf2-45d2-b9bf-0d00a665584f.jpg',\n",
              " 'gdrive/My Drive/CNN_assignment/Train/melanoma/output/melanoma_original_ISIC_0011112.jpg_b63f75ce-1111-4ab6-9de2-940621bdfa20.jpg',\n",
              " 'gdrive/My Drive/CNN_assignment/Train/melanoma/output/melanoma_original_ISIC_0010917.jpg_5260dda0-187d-4b4d-9872-206a08a7db2c.jpg',\n",
              " 'gdrive/My Drive/CNN_assignment/Train/melanoma/output/melanoma_original_ISIC_0000513.jpg_cd9086df-3a88-4f98-aa52-610d2b58d5c1.jpg',\n",
              " 'gdrive/My Drive/CNN_assignment/Train/melanoma/output/melanoma_original_ISIC_0010546.jpg_9a0fc2d5-9e3b-44c9-8839-0bd9a7ec06d1.jpg',\n",
              " 'gdrive/My Drive/CNN_assignment/Train/melanoma/output/melanoma_original_ISIC_0000395.jpg_a85315de-29ad-4e8a-bdd1-99631c59d0fd.jpg',\n",
              " 'gdrive/My Drive/CNN_assignment/Train/melanoma/output/melanoma_original_ISIC_0000441.jpg_65d32d5b-ad93-48ee-a9d8-cc55df9b1b41.jpg',\n",
              " 'gdrive/My Drive/CNN_assignment/Train/melanoma/output/melanoma_original_ISIC_0000401.jpg_f53a48b6-14d4-4631-8f11-6ace56841f01.jpg',\n",
              " 'gdrive/My Drive/CNN_assignment/Train/melanoma/output/melanoma_original_ISIC_0000280.jpg_961e335f-6e89-445a-bd67-74a49eaac95b.jpg',\n",
              " 'gdrive/My Drive/CNN_assignment/Train/melanoma/output/melanoma_original_ISIC_0010516.jpg_c4f5cbb0-716b-449a-a570-5e26afc406b9.jpg',\n",
              " 'gdrive/My Drive/CNN_assignment/Train/melanoma/output/melanoma_original_ISIC_0010783.jpg_61303849-49b9-49d5-8363-8950d022a687.jpg',\n",
              " 'gdrive/My Drive/CNN_assignment/Train/melanoma/output/melanoma_original_ISIC_0000552.jpg_07ac9cf4-5016-4a2e-8070-a575ed017055.jpg',\n",
              " 'gdrive/My Drive/CNN_assignment/Train/melanoma/output/melanoma_original_ISIC_0010469.jpg_1b904ddd-6f40-4158-b79d-4573a7489640.jpg',\n",
              " 'gdrive/My Drive/CNN_assignment/Train/melanoma/output/melanoma_original_ISIC_0000309.jpg_6fcbb2f3-fa23-4571-97ee-fbed87bb66cd.jpg',\n",
              " 'gdrive/My Drive/CNN_assignment/Train/melanoma/output/melanoma_original_ISIC_0000526.jpg_b7102c82-49c9-4713-9c0e-d3d4567ab860.jpg',\n",
              " 'gdrive/My Drive/CNN_assignment/Train/melanoma/output/melanoma_original_ISIC_0000502.jpg_4f4cae3a-653d-4dbd-8368-e46c0c12eb8e.jpg',\n",
              " 'gdrive/My Drive/CNN_assignment/Train/melanoma/output/melanoma_original_ISIC_0001112.jpg_0b2dd1f3-38a0-4ab0-a971-3f9f17a9f23e.jpg',\n",
              " 'gdrive/My Drive/CNN_assignment/Train/melanoma/output/melanoma_original_ISIC_0010546.jpg_e5285789-b878-4bea-93a8-23f559e0c29f.jpg',\n",
              " 'gdrive/My Drive/CNN_assignment/Train/melanoma/output/melanoma_original_ISIC_0010210.jpg_f7a25be9-63fe-4947-b985-a22de1136207.jpg',\n",
              " 'gdrive/My Drive/CNN_assignment/Train/melanoma/output/melanoma_original_ISIC_0010533.jpg_468c2334-65da-46fd-86c3-67aa03d8405e.jpg',\n",
              " 'gdrive/My Drive/CNN_assignment/Train/melanoma/output/melanoma_original_ISIC_0000161.jpg_908506e9-9f1d-4338-b2a8-c46203a85536.jpg',\n",
              " 'gdrive/My Drive/CNN_assignment/Train/melanoma/output/melanoma_original_ISIC_0011121.jpg_7e7d227c-50bf-4230-944b-bdfd2008c714.jpg',\n",
              " 'gdrive/My Drive/CNN_assignment/Train/melanoma/output/melanoma_original_ISIC_0010355.jpg_becc6a12-3089-49fb-a025-492791b4fe33.jpg',\n",
              " 'gdrive/My Drive/CNN_assignment/Train/melanoma/output/melanoma_original_ISIC_0010358.jpg_8111d591-d0d0-45c5-9e4e-a4fb16195c31.jpg',\n",
              " 'gdrive/My Drive/CNN_assignment/Train/melanoma/output/melanoma_original_ISIC_0000157.jpg_0afd5ea3-0e36-4f40-a40a-e38361c48e7f.jpg',\n",
              " 'gdrive/My Drive/CNN_assignment/Train/melanoma/output/melanoma_original_ISIC_0010982.jpg_c60752f4-8e2c-44d5-b00d-7ad7d01ae212.jpg',\n",
              " 'gdrive/My Drive/CNN_assignment/Train/melanoma/output/melanoma_original_ISIC_0010514.jpg_cc05140f-333e-44df-b841-c2a1ae0e1b3f.jpg',\n",
              " 'gdrive/My Drive/CNN_assignment/Train/melanoma/output/melanoma_original_ISIC_0010909.jpg_15ac5c2d-5c8d-4e69-80b9-25fefe8a3a1b.jpg',\n",
              " 'gdrive/My Drive/CNN_assignment/Train/melanoma/output/melanoma_original_ISIC_0000311.jpg_9ada29dc-943d-4795-a1c8-d010dcfdcdb2.jpg',\n",
              " 'gdrive/My Drive/CNN_assignment/Train/melanoma/output/melanoma_original_ISIC_0000169.jpg_14d18038-a7d6-4c5e-8b3b-ee7ff3a8460b.jpg',\n",
              " 'gdrive/My Drive/CNN_assignment/Train/melanoma/output/melanoma_original_ISIC_0000413.jpg_ac057153-7f03-4bb7-9919-41395da93c2b.jpg',\n",
              " 'gdrive/My Drive/CNN_assignment/Train/melanoma/output/melanoma_original_ISIC_0000294.jpg_c4b4cdff-fb36-4360-aff9-56aee3c6cd9a.jpg',\n",
              " 'gdrive/My Drive/CNN_assignment/Train/melanoma/output/melanoma_original_ISIC_0011128.jpg_2384a553-3744-4a68-a3a1-5c23fa939f33.jpg',\n",
              " 'gdrive/My Drive/CNN_assignment/Train/melanoma/output/melanoma_original_ISIC_0010056.jpg_1475221a-15a9-4838-be9b-26fa41f13097.jpg',\n",
              " 'gdrive/My Drive/CNN_assignment/Train/melanoma/output/melanoma_original_ISIC_0010441.jpg_54cafd98-5ffb-41ee-8445-c942919be81d.jpg',\n",
              " 'gdrive/My Drive/CNN_assignment/Train/melanoma/output/melanoma_original_ISIC_0010550.jpg_48b57001-9a9a-4b8b-8d4b-62f7e2fcfba0.jpg',\n",
              " 'gdrive/My Drive/CNN_assignment/Train/melanoma/output/melanoma_original_ISIC_0010394.jpg_2214b8fb-ae9c-4421-b55f-65b448cedf2a.jpg',\n",
              " 'gdrive/My Drive/CNN_assignment/Train/melanoma/output/melanoma_original_ISIC_0001140.jpg_c06c2418-bfa2-4b2d-a41a-d081780a67e7.jpg',\n",
              " 'gdrive/My Drive/CNN_assignment/Train/melanoma/output/melanoma_original_ISIC_0010267.jpg_6a365916-441a-492e-81f4-4f3af96b1d8f.jpg',\n",
              " 'gdrive/My Drive/CNN_assignment/Train/melanoma/output/melanoma_original_ISIC_0000394.jpg_dc9ac499-f33c-4a9c-a9c3-b3f983410714.jpg',\n",
              " 'gdrive/My Drive/CNN_assignment/Train/melanoma/output/melanoma_original_ISIC_0011121.jpg_62327f3b-aba8-40f3-a1bb-31b0f813f662.jpg',\n",
              " 'gdrive/My Drive/CNN_assignment/Train/melanoma/output/melanoma_original_ISIC_0010235.jpg_5cfa75c4-0862-4168-a8cd-b8dda6c80aaa.jpg',\n",
              " 'gdrive/My Drive/CNN_assignment/Train/melanoma/output/melanoma_original_ISIC_0000301.jpg_9b56e0f1-12c8-45ff-8353-b25a8be0e148.jpg',\n",
              " 'gdrive/My Drive/CNN_assignment/Train/melanoma/output/melanoma_original_ISIC_0000406.jpg_4d88d240-7576-405c-b4ff-1b43c38e480d.jpg',\n",
              " 'gdrive/My Drive/CNN_assignment/Train/melanoma/output/melanoma_original_ISIC_0010355.jpg_374e5504-3e7d-43a7-99c7-5ba05106310c.jpg',\n",
              " 'gdrive/My Drive/CNN_assignment/Train/melanoma/output/melanoma_original_ISIC_0000309.jpg_c1188daf-eaeb-4aaf-854b-9529c76c71be.jpg',\n",
              " 'gdrive/My Drive/CNN_assignment/Train/melanoma/output/melanoma_original_ISIC_0000298.jpg_862512d3-ee15-485e-9e53-00140f9ee741.jpg',\n",
              " 'gdrive/My Drive/CNN_assignment/Train/melanoma/output/melanoma_original_ISIC_0011128.jpg_d2169c91-d384-440e-a80a-7a1dc92d9cbe.jpg',\n",
              " 'gdrive/My Drive/CNN_assignment/Train/melanoma/output/melanoma_original_ISIC_0000522.jpg_00390520-ee02-4991-a912-d6c2ce5be687.jpg',\n",
              " 'gdrive/My Drive/CNN_assignment/Train/melanoma/output/melanoma_original_ISIC_0010143.jpg_c026d8f7-1129-4493-ac78-ef181cbbe114.jpg',\n",
              " 'gdrive/My Drive/CNN_assignment/Train/melanoma/output/melanoma_original_ISIC_0001143.jpg_56cd2732-e966-4060-88ac-86da88847118.jpg',\n",
              " 'gdrive/My Drive/CNN_assignment/Train/melanoma/output/melanoma_original_ISIC_0010783.jpg_f33d1259-ed6f-427d-8596-427f3fb2cd43.jpg',\n",
              " 'gdrive/My Drive/CNN_assignment/Train/melanoma/output/melanoma_original_ISIC_0010106.jpg_04a81a7c-d3c0-46a8-85e6-5a98ed7464f2.jpg',\n",
              " 'gdrive/My Drive/CNN_assignment/Train/melanoma/output/melanoma_original_ISIC_0000176.jpg_6d0a715a-e1e2-41ba-8e6e-6bc73000bbbd.jpg',\n",
              " 'gdrive/My Drive/CNN_assignment/Train/melanoma/output/melanoma_original_ISIC_0010011.jpg_71ac38a3-c135-4174-8888-d3d116bdac34.jpg',\n",
              " 'gdrive/My Drive/CNN_assignment/Train/melanoma/output/melanoma_original_ISIC_0000522.jpg_2b3e56fe-40b5-432d-af80-45953a591bbf.jpg',\n",
              " 'gdrive/My Drive/CNN_assignment/Train/melanoma/output/melanoma_original_ISIC_0011166.jpg_51883ce7-3454-463b-b12d-40ead114cea5.jpg',\n",
              " 'gdrive/My Drive/CNN_assignment/Train/melanoma/output/melanoma_original_ISIC_0010410.jpg_9f7e665e-edc8-4af2-88c7-88a3258f8b3d.jpg',\n",
              " 'gdrive/My Drive/CNN_assignment/Train/melanoma/output/melanoma_original_ISIC_0009989.jpg_bd1de338-b224-4732-ae57-c37089e07aa0.jpg',\n",
              " 'gdrive/My Drive/CNN_assignment/Train/melanoma/output/melanoma_original_ISIC_0010016.jpg_548cd790-d5e9-4642-9e00-16d536117c86.jpg',\n",
              " 'gdrive/My Drive/CNN_assignment/Train/melanoma/output/melanoma_original_ISIC_0010119.jpg_b161a63e-63a5-423a-89d7-6f1403d026e9.jpg',\n",
              " 'gdrive/My Drive/CNN_assignment/Train/melanoma/output/melanoma_original_ISIC_0010394.jpg_8f641b2f-316c-4fd4-8c75-904920236915.jpg',\n",
              " 'gdrive/My Drive/CNN_assignment/Train/melanoma/output/melanoma_original_ISIC_0000293.jpg_e97ad440-234c-4386-885e-087afd1864b9.jpg',\n",
              " 'gdrive/My Drive/CNN_assignment/Train/melanoma/output/melanoma_original_ISIC_0011056.jpg_81d8ee11-b917-479e-bfb3-3edf6f4d8446.jpg',\n",
              " 'gdrive/My Drive/CNN_assignment/Train/melanoma/output/melanoma_original_ISIC_0001140.jpg_bbfde0cb-e961-4a4c-ab12-e945f4fb0cab.jpg',\n",
              " 'gdrive/My Drive/CNN_assignment/Train/melanoma/output/melanoma_original_ISIC_0010148.jpg_2e2e1279-fb42-4aec-9d2b-208a073c1619.jpg',\n",
              " 'gdrive/My Drive/CNN_assignment/Train/melanoma/output/melanoma_original_ISIC_0001134.jpg_00f35039-9f35-4436-8ea2-0756b7bb99e1.jpg',\n",
              " 'gdrive/My Drive/CNN_assignment/Train/melanoma/output/melanoma_original_ISIC_0011039.jpg_39692c85-e8b7-43cd-8192-949da4979705.jpg',\n",
              " 'gdrive/My Drive/CNN_assignment/Train/melanoma/output/melanoma_original_ISIC_0000156.jpg_7c44f0e6-5ec5-4acd-a79a-38d6b56c7dfc.jpg',\n",
              " 'gdrive/My Drive/CNN_assignment/Train/melanoma/output/melanoma_original_ISIC_0001154.jpg_025f2216-d2d1-436d-85ea-d6b6a2ecab9d.jpg',\n",
              " 'gdrive/My Drive/CNN_assignment/Train/melanoma/output/melanoma_original_ISIC_0010174.jpg_b8677fe3-e99c-4710-bcb4-63b591fcee10.jpg',\n",
              " 'gdrive/My Drive/CNN_assignment/Train/melanoma/output/melanoma_original_ISIC_0010469.jpg_c509490f-fc66-45e6-9a6f-278ec51a22e6.jpg',\n",
              " 'gdrive/My Drive/CNN_assignment/Train/melanoma/output/melanoma_original_ISIC_0010210.jpg_bb923e81-fd65-4fb9-9f50-7b9030decb3f.jpg',\n",
              " 'gdrive/My Drive/CNN_assignment/Train/melanoma/output/melanoma_original_ISIC_0000164.jpg_8deb4b25-6a25-4a60-9b16-91cc0f16636b.jpg',\n",
              " 'gdrive/My Drive/CNN_assignment/Train/melanoma/output/melanoma_original_ISIC_0010175.jpg_ba0290a2-f201-429d-8945-8eb46570a236.jpg',\n",
              " 'gdrive/My Drive/CNN_assignment/Train/melanoma/output/melanoma_original_ISIC_0010011.jpg_bd850238-7b97-4dd6-9a51-937d39ceb54b.jpg',\n",
              " 'gdrive/My Drive/CNN_assignment/Train/melanoma/output/melanoma_original_ISIC_0010737.jpg_f4d9cb0d-f2ed-4a0f-ae84-30ea8d46d3b3.jpg',\n",
              " 'gdrive/My Drive/CNN_assignment/Train/melanoma/output/melanoma_original_ISIC_0010396.jpg_8882c29e-4fe9-4eaf-9fad-facdf871121b.jpg',\n",
              " 'gdrive/My Drive/CNN_assignment/Train/melanoma/output/melanoma_original_ISIC_0010029.jpg_02504a66-fd7d-43c7-93a3-21302998735e.jpg',\n",
              " 'gdrive/My Drive/CNN_assignment/Train/melanoma/output/melanoma_original_ISIC_0010834.jpg_01266009-33e9-4809-8f5e-abe749775dfc.jpg',\n",
              " 'gdrive/My Drive/CNN_assignment/Train/melanoma/output/melanoma_original_ISIC_0010400.jpg_897f5399-0348-4102-abe8-8b260bbb1c76.jpg',\n",
              " 'gdrive/My Drive/CNN_assignment/Train/melanoma/output/melanoma_original_ISIC_0010812.jpg_a9ed2865-18f6-433b-87f4-e6bbe3207402.jpg',\n",
              " 'gdrive/My Drive/CNN_assignment/Train/melanoma/output/melanoma_original_ISIC_0000444.jpg_73b0d145-0389-4ac2-b024-7f845816366d.jpg',\n",
              " 'gdrive/My Drive/CNN_assignment/Train/melanoma/output/melanoma_original_ISIC_0010912.jpg_95fb7c61-509b-4056-898f-b912c640dc38.jpg',\n",
              " 'gdrive/My Drive/CNN_assignment/Train/melanoma/output/melanoma_original_ISIC_0000142.jpg_18057152-405e-4881-b6f0-2e8b7439251c.jpg',\n",
              " 'gdrive/My Drive/CNN_assignment/Train/melanoma/output/melanoma_original_ISIC_0010106.jpg_d82941cd-048d-49ce-a3b8-97a25440c614.jpg',\n",
              " 'gdrive/My Drive/CNN_assignment/Train/melanoma/output/melanoma_original_ISIC_0010866.jpg_7370ceff-347b-40d8-9153-8790f0562ac4.jpg',\n",
              " 'gdrive/My Drive/CNN_assignment/Train/melanoma/output/melanoma_original_ISIC_0010653.jpg_137c19a7-fb96-4283-ba72-d733577ad58d.jpg',\n",
              " 'gdrive/My Drive/CNN_assignment/Train/melanoma/output/melanoma_original_ISIC_0001102.jpg_643390d2-a2b1-40f4-88ae-8092cda51b06.jpg',\n",
              " 'gdrive/My Drive/CNN_assignment/Train/melanoma/output/melanoma_original_ISIC_0010772.jpg_ce3443b7-ac1a-43b4-8c44-e568ba59c2eb.jpg',\n",
              " 'gdrive/My Drive/CNN_assignment/Train/melanoma/output/melanoma_original_ISIC_0000163.jpg_91cee1a1-82e2-40cc-b336-98c57c26caa4.jpg',\n",
              " 'gdrive/My Drive/CNN_assignment/Train/melanoma/output/melanoma_original_ISIC_0000547.jpg_81667fa1-d631-466c-b9e3-79bffadfc8a4.jpg',\n",
              " 'gdrive/My Drive/CNN_assignment/Train/melanoma/output/melanoma_original_ISIC_0001157.jpg_8d9388aa-f36f-47b4-bbfe-0db6d240f367.jpg',\n",
              " 'gdrive/My Drive/CNN_assignment/Train/melanoma/output/melanoma_original_ISIC_0010934.jpg_31fe2c77-ce42-4f0b-96b3-317d7575dd44.jpg',\n",
              " 'gdrive/My Drive/CNN_assignment/Train/melanoma/output/melanoma_original_ISIC_0011112.jpg_8ceba587-888a-4a7a-9ba4-5c85fee825cc.jpg',\n",
              " 'gdrive/My Drive/CNN_assignment/Train/melanoma/output/melanoma_original_ISIC_0000163.jpg_e505ea56-47bb-432c-9bb0-c2ca59f5dd7d.jpg',\n",
              " 'gdrive/My Drive/CNN_assignment/Train/melanoma/output/melanoma_original_ISIC_0011031.jpg_93e30c95-f85f-406d-b69d-4bc9787d2c5d.jpg',\n",
              " 'gdrive/My Drive/CNN_assignment/Train/melanoma/output/melanoma_original_ISIC_0000168.jpg_16b9635c-77dc-4309-a6fa-c728d7acbb6d.jpg',\n",
              " 'gdrive/My Drive/CNN_assignment/Train/melanoma/output/melanoma_original_ISIC_0000149.jpg_195824cd-9519-473e-8965-b0f39a32c20f.jpg',\n",
              " 'gdrive/My Drive/CNN_assignment/Train/melanoma/output/melanoma_original_ISIC_0009918.jpg_db48cda6-05f9-4aa3-a24b-3a81fcba5732.jpg',\n",
              " 'gdrive/My Drive/CNN_assignment/Train/melanoma/output/melanoma_original_ISIC_0010407.jpg_37c9d073-9328-4f27-a2cf-3a74cfeb0603.jpg',\n",
              " 'gdrive/My Drive/CNN_assignment/Train/melanoma/output/melanoma_original_ISIC_0001119.jpg_1c9932c4-ac8a-4d5a-9e08-a62bc14ff2f5.jpg',\n",
              " 'gdrive/My Drive/CNN_assignment/Train/melanoma/output/melanoma_original_ISIC_0011178.jpg_e56be124-1516-4442-8cce-54e13f912fa4.jpg',\n",
              " 'gdrive/My Drive/CNN_assignment/Train/melanoma/output/melanoma_original_ISIC_0010394.jpg_27e4496d-05d0-45e0-99d1-2ca73f8fc718.jpg',\n",
              " 'gdrive/My Drive/CNN_assignment/Train/melanoma/output/melanoma_original_ISIC_0010737.jpg_7dfb53c1-b6e2-4375-9b60-f97b74d8deea.jpg',\n",
              " 'gdrive/My Drive/CNN_assignment/Train/melanoma/output/melanoma_original_ISIC_0001112.jpg_1e84085a-2486-4012-b280-0742f2d707ab.jpg',\n",
              " 'gdrive/My Drive/CNN_assignment/Train/melanoma/output/melanoma_original_ISIC_0009984.jpg_28c8346b-98ea-4419-93e7-597b6714c2bf.jpg',\n",
              " 'gdrive/My Drive/CNN_assignment/Train/melanoma/output/melanoma_original_ISIC_0010898.jpg_6ac46ef8-1af9-4183-84d9-00c6b786c291.jpg',\n",
              " 'gdrive/My Drive/CNN_assignment/Train/melanoma/output/melanoma_original_ISIC_0010587.jpg_35d98439-5274-45d1-a96c-f49d9653d194.jpg',\n",
              " 'gdrive/My Drive/CNN_assignment/Train/melanoma/output/melanoma_original_ISIC_0010359.jpg_e23af183-7fb2-43f3-b513-5eb1a58dfa8b.jpg',\n",
              " 'gdrive/My Drive/CNN_assignment/Train/melanoma/output/melanoma_original_ISIC_0010156.jpg_105bb518-7f04-418f-80c1-663c21602fad.jpg',\n",
              " 'gdrive/My Drive/CNN_assignment/Train/melanoma/output/melanoma_original_ISIC_0000156.jpg_30b46141-b3e7-4f4d-82a0-30e65f1ab74d.jpg',\n",
              " 'gdrive/My Drive/CNN_assignment/Train/melanoma/output/melanoma_original_ISIC_0010609.jpg_e48e5c92-0e73-4aa6-b946-3cdd177e38da.jpg',\n",
              " 'gdrive/My Drive/CNN_assignment/Train/melanoma/output/melanoma_original_ISIC_0000291.jpg_e1ffefc8-5c5d-4632-b5c4-7fa983f65e88.jpg',\n",
              " 'gdrive/My Drive/CNN_assignment/Train/melanoma/output/melanoma_original_ISIC_0000402.jpg_2ae3e5fb-a3e2-4ad8-8c7e-c821c11be3cf.jpg',\n",
              " 'gdrive/My Drive/CNN_assignment/Train/melanoma/output/melanoma_original_ISIC_0000143.jpg_fbd0d1b3-4e6f-4ee8-a128-9355438689d3.jpg',\n",
              " 'gdrive/My Drive/CNN_assignment/Train/melanoma/output/melanoma_original_ISIC_0009890.jpg_a017298d-c5e4-4d57-b93c-2972ecbf5644.jpg',\n",
              " 'gdrive/My Drive/CNN_assignment/Train/melanoma/output/melanoma_original_ISIC_0010050.jpg_aab75d1a-5f04-4c13-8c18-841f89a6e726.jpg',\n",
              " 'gdrive/My Drive/CNN_assignment/Train/melanoma/output/melanoma_original_ISIC_0010400.jpg_4bc8e4da-739c-43ca-935c-c29e257921a2.jpg',\n",
              " 'gdrive/My Drive/CNN_assignment/Train/melanoma/output/melanoma_original_ISIC_0000139.jpg_18125a07-ce2b-4e8f-b493-4e86677c018c.jpg',\n",
              " 'gdrive/My Drive/CNN_assignment/Train/melanoma/output/melanoma_original_ISIC_0010609.jpg_fb14decc-c11f-479e-9bc0-dc4111d385b4.jpg',\n",
              " 'gdrive/My Drive/CNN_assignment/Train/melanoma/output/melanoma_original_ISIC_0010283.jpg_8ebee6f6-f23f-4c7f-a198-05c18d9a936f.jpg',\n",
              " 'gdrive/My Drive/CNN_assignment/Train/melanoma/output/melanoma_original_ISIC_0010537.jpg_f3becb8f-ef1c-4e4e-bfe7-e38b4750da9a.jpg',\n",
              " 'gdrive/My Drive/CNN_assignment/Train/melanoma/output/melanoma_original_ISIC_0010785.jpg_7331271c-c59b-4241-97bc-2883b3967724.jpg',\n",
              " 'gdrive/My Drive/CNN_assignment/Train/melanoma/output/melanoma_original_ISIC_0010723.jpg_343c6e83-7e9f-41fd-89c6-c7b37681edca.jpg',\n",
              " 'gdrive/My Drive/CNN_assignment/Train/melanoma/output/melanoma_original_ISIC_0010765.jpg_11794106-40d4-4bf4-a84a-f0d408b0be83.jpg',\n",
              " 'gdrive/My Drive/CNN_assignment/Train/melanoma/output/melanoma_original_ISIC_0010707.jpg_9645ab10-0411-4adb-96f8-be96f91634df.jpg',\n",
              " 'gdrive/My Drive/CNN_assignment/Train/melanoma/output/melanoma_original_ISIC_0010397.jpg_0ba9ba7f-d6bb-4c63-b927-df4eb0b9c2cb.jpg',\n",
              " 'gdrive/My Drive/CNN_assignment/Train/melanoma/output/melanoma_original_ISIC_0000285.jpg_24ca4e9d-2f7d-4a17-a73d-e61911c5d480.jpg',\n",
              " 'gdrive/My Drive/CNN_assignment/Train/melanoma/output/melanoma_original_ISIC_0001119.jpg_217f5975-6944-46ca-a7a2-2c8649d2f835.jpg',\n",
              " 'gdrive/My Drive/CNN_assignment/Train/melanoma/output/melanoma_original_ISIC_0009984.jpg_d962c826-330a-4797-affc-f90463ccdbf1.jpg',\n",
              " 'gdrive/My Drive/CNN_assignment/Train/melanoma/output/melanoma_original_ISIC_0010209.jpg_a94b3e61-5799-41c7-b7ae-c913c0cdbd87.jpg',\n",
              " 'gdrive/My Drive/CNN_assignment/Train/melanoma/output/melanoma_original_ISIC_0010809.jpg_76f5f162-dc52-436c-ae1a-eb4648eb7d9c.jpg',\n",
              " 'gdrive/My Drive/CNN_assignment/Train/melanoma/output/melanoma_original_ISIC_0011125.jpg_851cf349-26f1-4513-843f-4c90dca2e649.jpg',\n",
              " 'gdrive/My Drive/CNN_assignment/Train/melanoma/output/melanoma_original_ISIC_0010407.jpg_af8908fd-5350-426c-b6f7-500cbe902cce.jpg',\n",
              " 'gdrive/My Drive/CNN_assignment/Train/melanoma/output/melanoma_original_ISIC_0000292.jpg_5357e512-249b-4d94-8745-69b3e7889baf.jpg',\n",
              " 'gdrive/My Drive/CNN_assignment/Train/melanoma/output/melanoma_original_ISIC_0000307.jpg_4f721209-bf9f-4011-9476-383ce5ea1560.jpg',\n",
              " 'gdrive/My Drive/CNN_assignment/Train/melanoma/output/melanoma_original_ISIC_0000548.jpg_6a6ee6b6-4f5b-4364-ac63-e54fb9d5db32.jpg',\n",
              " 'gdrive/My Drive/CNN_assignment/Train/melanoma/output/melanoma_original_ISIC_0010120.jpg_2b6c829b-95a1-448e-b5e2-4b646f9d8308.jpg',\n",
              " 'gdrive/My Drive/CNN_assignment/Train/melanoma/output/melanoma_original_ISIC_0000146.jpg_c089ba59-e232-44f5-80b8-2c298774d35c.jpg',\n",
              " 'gdrive/My Drive/CNN_assignment/Train/melanoma/output/melanoma_original_ISIC_0010302.jpg_c57c8e4d-f2d1-4e4a-8f1d-1eee0c4f46ab.jpg',\n",
              " 'gdrive/My Drive/CNN_assignment/Train/melanoma/output/melanoma_original_ISIC_0010559.jpg_eb474e0d-e37a-4aba-864c-f2f5476b822b.jpg',\n",
              " 'gdrive/My Drive/CNN_assignment/Train/melanoma/output/melanoma_original_ISIC_0010175.jpg_7f7da237-531a-430c-92af-3d95ba9e88fc.jpg',\n",
              " 'gdrive/My Drive/CNN_assignment/Train/melanoma/output/melanoma_original_ISIC_0010797.jpg_e142f79b-b23b-4752-936f-acdd7cfb591c.jpg',\n",
              " 'gdrive/My Drive/CNN_assignment/Train/melanoma/output/melanoma_original_ISIC_0010416.jpg_885ec663-88e9-451d-9906-773881769acb.jpg',\n",
              " 'gdrive/My Drive/CNN_assignment/Train/melanoma/output/melanoma_original_ISIC_0010207.jpg_4f16f56c-462d-4a50-b8c4-a4bf83cfdf23.jpg',\n",
              " 'gdrive/My Drive/CNN_assignment/Train/melanoma/output/melanoma_original_ISIC_0011099.jpg_111bf37d-0d51-47fc-a1a6-258db8114901.jpg',\n",
              " 'gdrive/My Drive/CNN_assignment/Train/melanoma/output/melanoma_original_ISIC_0010225.jpg_ecfd9a8e-a4fb-448b-b2be-089aa868fc66.jpg',\n",
              " 'gdrive/My Drive/CNN_assignment/Train/melanoma/output/melanoma_original_ISIC_0000165.jpg_5fc66130-c716-4ed4-bab5-cc74d0dd78ef.jpg',\n",
              " 'gdrive/My Drive/CNN_assignment/Train/melanoma/output/melanoma_original_ISIC_0010790.jpg_4a6f41ff-cbec-4232-a166-c02c62969ffa.jpg',\n",
              " 'gdrive/My Drive/CNN_assignment/Train/melanoma/output/melanoma_original_ISIC_0010486.jpg_f9703edb-aecd-4f2c-85fa-559e4ab4f270.jpg',\n",
              " 'gdrive/My Drive/CNN_assignment/Train/melanoma/output/melanoma_original_ISIC_0010912.jpg_4a7f611f-33d5-4899-9ca3-e72f360edd4c.jpg',\n",
              " 'gdrive/My Drive/CNN_assignment/Train/melanoma/output/melanoma_original_ISIC_0000526.jpg_e540f188-480a-4a4b-b859-2167dbb75c60.jpg',\n",
              " 'gdrive/My Drive/CNN_assignment/Train/melanoma/output/melanoma_original_ISIC_0011158.jpg_b46b259e-2b3c-4155-9c5c-4693a88d4eff.jpg',\n",
              " 'gdrive/My Drive/CNN_assignment/Train/melanoma/output/melanoma_original_ISIC_0011031.jpg_92c2e19b-fa8d-490a-82fa-6f5907dfa728.jpg',\n",
              " 'gdrive/My Drive/CNN_assignment/Train/melanoma/output/melanoma_original_ISIC_0010754.jpg_9ce8b131-b86a-4488-881b-4037446e864c.jpg',\n",
              " 'gdrive/My Drive/CNN_assignment/Train/melanoma/output/melanoma_original_ISIC_0000161.jpg_624436ad-6034-4d0d-923c-e7d7edc20900.jpg',\n",
              " 'gdrive/My Drive/CNN_assignment/Train/melanoma/output/melanoma_original_ISIC_0010631.jpg_cef95734-dd21-4daf-84e3-1b1532948ff4.jpg',\n",
              " 'gdrive/My Drive/CNN_assignment/Train/melanoma/output/melanoma_original_ISIC_0010591.jpg_cd2d0549-2bc0-4c1d-a22e-e7766793785f.jpg',\n",
              " 'gdrive/My Drive/CNN_assignment/Train/melanoma/output/melanoma_original_ISIC_0011161.jpg_b3c3ee6b-9ddd-463c-bca9-f33dfe66bc94.jpg',\n",
              " 'gdrive/My Drive/CNN_assignment/Train/melanoma/output/melanoma_original_ISIC_0010729.jpg_d362e888-6c38-4e9d-a313-6129421b054d.jpg',\n",
              " 'gdrive/My Drive/CNN_assignment/Train/melanoma/output/melanoma_original_ISIC_0000550.jpg_39946dcc-5534-43d5-9e3b-b45d755cd6a9.jpg',\n",
              " 'gdrive/My Drive/CNN_assignment/Train/melanoma/output/melanoma_original_ISIC_0001128.jpg_40825c6c-c5b5-4093-be89-4ad292d04f1c.jpg',\n",
              " 'gdrive/My Drive/CNN_assignment/Train/melanoma/output/melanoma_original_ISIC_0010583.jpg_8a8502ac-b3ad-4616-a141-ed938192221f.jpg',\n",
              " 'gdrive/My Drive/CNN_assignment/Train/melanoma/output/melanoma_original_ISIC_0011095.jpg_7f6aff1f-e185-4bc1-863c-e9c2f8b8c2f1.jpg',\n",
              " 'gdrive/My Drive/CNN_assignment/Train/nevus/output/nevus_original_ISIC_0026857.jpg_99185ea3-3d70-4d25-a847-e60fe72d2bfc.jpg',\n",
              " 'gdrive/My Drive/CNN_assignment/Train/nevus/output/nevus_original_ISIC_0027334.jpg_501ca676-b15c-42e2-9fea-221944efecd9.jpg',\n",
              " 'gdrive/My Drive/CNN_assignment/Train/nevus/output/nevus_original_ISIC_0024470.jpg_aef6b985-587b-4870-a48b-675eaa8cac61.jpg',\n",
              " 'gdrive/My Drive/CNN_assignment/Train/nevus/output/nevus_original_ISIC_0000053.jpg_cee9c733-31b3-45db-8dbe-f242d939ebb0.jpg',\n",
              " 'gdrive/My Drive/CNN_assignment/Train/nevus/output/nevus_original_ISIC_0000092.jpg_79cd1702-8422-4547-8188-7d57681e2c67.jpg',\n",
              " 'gdrive/My Drive/CNN_assignment/Train/nevus/output/nevus_original_ISIC_0028063.jpg_315f8b14-b38e-4479-8f0c-266716830077.jpg',\n",
              " 'gdrive/My Drive/CNN_assignment/Train/nevus/output/nevus_original_ISIC_0000443.jpg_5890419f-7fb1-44a1-bcfb-34850c38f8b3.jpg',\n",
              " 'gdrive/My Drive/CNN_assignment/Train/nevus/output/nevus_original_ISIC_0000063.jpg_1357df68-1659-462a-9029-18a3247660a8.jpg',\n",
              " 'gdrive/My Drive/CNN_assignment/Train/nevus/output/nevus_original_ISIC_0000051.jpg_25abffff-f908-4239-a5f1-38c07a0842ad.jpg',\n",
              " 'gdrive/My Drive/CNN_assignment/Train/nevus/output/nevus_original_ISIC_0026468.jpg_e3bde335-e3db-419b-a922-1791d928d65e.jpg',\n",
              " 'gdrive/My Drive/CNN_assignment/Train/nevus/output/nevus_original_ISIC_0025427.jpg_1121148d-4f1a-42d8-b1bb-42d36ac90b68.jpg',\n",
              " 'gdrive/My Drive/CNN_assignment/Train/nevus/output/nevus_original_ISIC_0000460.jpg_611357e2-8271-49de-b49a-86f0c5191aae.jpg',\n",
              " 'gdrive/My Drive/CNN_assignment/Train/nevus/output/nevus_original_ISIC_0000051.jpg_02d2e0be-6157-4b92-864f-62bf1c31bfd3.jpg',\n",
              " 'gdrive/My Drive/CNN_assignment/Train/nevus/output/nevus_original_ISIC_0000081.jpg_39daa4a2-341c-4220-b666-d0be7b4bc88c.jpg',\n",
              " 'gdrive/My Drive/CNN_assignment/Train/nevus/output/nevus_original_ISIC_0000061.jpg_a0255f99-0f41-4009-a0a8-32f3c76622e5.jpg',\n",
              " 'gdrive/My Drive/CNN_assignment/Train/nevus/output/nevus_original_ISIC_0000362.jpg_13818f60-f559-44ef-b6fe-8993e2cdaad6.jpg',\n",
              " 'gdrive/My Drive/CNN_assignment/Train/nevus/output/nevus_original_ISIC_0000506.jpg_b33bb1a0-47bb-4dbb-bfa0-78b3b0f6d1ae.jpg',\n",
              " 'gdrive/My Drive/CNN_assignment/Train/nevus/output/nevus_original_ISIC_0028393.jpg_a859f8af-9a40-4d1a-953a-3b64ebed060c.jpg',\n",
              " 'gdrive/My Drive/CNN_assignment/Train/nevus/output/nevus_original_ISIC_0025803.jpg_892b2354-82b9-4bd0-a8db-8db5069470ac.jpg',\n",
              " 'gdrive/My Drive/CNN_assignment/Train/nevus/output/nevus_original_ISIC_0000501.jpg_5a785cf1-e028-486b-afe2-f439b9b22fe0.jpg',\n",
              " 'gdrive/My Drive/CNN_assignment/Train/nevus/output/nevus_original_ISIC_0000475.jpg_a0c2395d-69f0-4090-8342-d0adb9bd863c.jpg',\n",
              " 'gdrive/My Drive/CNN_assignment/Train/nevus/output/nevus_original_ISIC_0000263.jpg_4bb383a9-0b8e-4def-9b73-240231068812.jpg',\n",
              " 'gdrive/My Drive/CNN_assignment/Train/nevus/output/nevus_original_ISIC_0010512.jpg_7a1f784f-b630-4c05-83b7-e737b7268984.jpg',\n",
              " 'gdrive/My Drive/CNN_assignment/Train/nevus/output/nevus_original_ISIC_0000443.jpg_b9593561-88ef-4afe-aec5-8c14b1d37700.jpg',\n",
              " 'gdrive/My Drive/CNN_assignment/Train/nevus/output/nevus_original_ISIC_0000425.jpg_705443fb-81a4-482b-9e57-8f8d8a008347.jpg',\n",
              " 'gdrive/My Drive/CNN_assignment/Train/nevus/output/nevus_original_ISIC_0000088.jpg_91c991af-cdb8-4bd2-9e62-7306b0ac0539.jpg',\n",
              " 'gdrive/My Drive/CNN_assignment/Train/nevus/output/nevus_original_ISIC_0000490.jpg_0ea3388f-ad17-4556-ad41-fc9fa6a63f31.jpg',\n",
              " 'gdrive/My Drive/CNN_assignment/Train/nevus/output/nevus_original_ISIC_0025368.jpg_1643f6be-1ec4-4427-abdc-0d81864abd4e.jpg',\n",
              " 'gdrive/My Drive/CNN_assignment/Train/nevus/output/nevus_original_ISIC_0000494.jpg_82bc1058-5828-422c-a89e-6ef86c6c99fe.jpg',\n",
              " 'gdrive/My Drive/CNN_assignment/Train/nevus/output/nevus_original_ISIC_0000222.jpg_60348e57-3489-4e59-899b-9034ec441e34.jpg',\n",
              " 'gdrive/My Drive/CNN_assignment/Train/nevus/output/nevus_original_ISIC_0000539.jpg_61531b02-27f0-4d97-af29-cb6b1d20a9aa.jpg',\n",
              " 'gdrive/My Drive/CNN_assignment/Train/nevus/output/nevus_original_ISIC_0000443.jpg_7a203ce6-cb3f-413c-ac23-6963bccbcce2.jpg',\n",
              " 'gdrive/My Drive/CNN_assignment/Train/nevus/output/nevus_original_ISIC_0000436.jpg_23f0dd92-31fe-4aca-80b2-d949fe05c880.jpg',\n",
              " 'gdrive/My Drive/CNN_assignment/Train/nevus/output/nevus_original_ISIC_0000034.jpg_5994542d-1ecb-4709-a042-a4b4aa7ceae3.jpg',\n",
              " 'gdrive/My Drive/CNN_assignment/Train/nevus/output/nevus_original_ISIC_0000335.jpg_0925e61d-5477-4853-8021-01cb8a32cdd6.jpg',\n",
              " 'gdrive/My Drive/CNN_assignment/Train/nevus/output/nevus_original_ISIC_0000379.jpg_0c7b9906-b55e-471e-9ac6-24035e54ef6f.jpg',\n",
              " 'gdrive/My Drive/CNN_assignment/Train/nevus/output/nevus_original_ISIC_0000364.jpg_109f64a8-365b-4cb2-8613-20fc9635a734.jpg',\n",
              " 'gdrive/My Drive/CNN_assignment/Train/nevus/output/nevus_original_ISIC_0024763.jpg_97cb4188-8f2c-4807-8b53-6ca15fed3135.jpg',\n",
              " 'gdrive/My Drive/CNN_assignment/Train/nevus/output/nevus_original_ISIC_0000021.jpg_e16f3985-21b3-48db-9a8c-1354264d398f.jpg',\n",
              " 'gdrive/My Drive/CNN_assignment/Train/nevus/output/nevus_original_ISIC_0000097.jpg_7182b71b-1ba3-4f73-bf4f-dd9b668a77f9.jpg',\n",
              " 'gdrive/My Drive/CNN_assignment/Train/nevus/output/nevus_original_ISIC_0025427.jpg_82aa1c71-010a-4a15-a4de-9de76614c1c1.jpg',\n",
              " 'gdrive/My Drive/CNN_assignment/Train/nevus/output/nevus_original_ISIC_0028854.jpg_24a12cd1-5417-4d9d-9bdc-537d70363287.jpg',\n",
              " 'gdrive/My Drive/CNN_assignment/Train/nevus/output/nevus_original_ISIC_0000436.jpg_3acb3506-9fe5-4183-920a-683e26aea9d5.jpg',\n",
              " 'gdrive/My Drive/CNN_assignment/Train/nevus/output/nevus_original_ISIC_0010889.jpg_61bdf538-1860-4618-9521-f6a1fa5faf3a.jpg',\n",
              " 'gdrive/My Drive/CNN_assignment/Train/nevus/output/nevus_original_ISIC_0025957.jpg_786b8a64-8ab3-4338-97e8-94c0d11840f5.jpg',\n",
              " 'gdrive/My Drive/CNN_assignment/Train/nevus/output/nevus_original_ISIC_0000317.jpg_6bd32240-728e-4a9e-9e1a-21dfe0181ce5.jpg',\n",
              " 'gdrive/My Drive/CNN_assignment/Train/nevus/output/nevus_original_ISIC_0000079.jpg_c225189b-1ee7-42e9-a314-cdccf5263427.jpg',\n",
              " 'gdrive/My Drive/CNN_assignment/Train/nevus/output/nevus_original_ISIC_0000321.jpg_13c27fd1-31a0-4e79-bb9b-07216f181108.jpg',\n",
              " 'gdrive/My Drive/CNN_assignment/Train/nevus/output/nevus_original_ISIC_0000499.jpg_d3904b61-6eab-45eb-b7cd-1a36331b7ec0.jpg',\n",
              " 'gdrive/My Drive/CNN_assignment/Train/nevus/output/nevus_original_ISIC_0000318.jpg_47b104aa-6c05-43ca-bbc6-2fde15ed1e81.jpg',\n",
              " 'gdrive/My Drive/CNN_assignment/Train/nevus/output/nevus_original_ISIC_0000341.jpg_160a7bed-7a70-42d7-9db9-de31f0508624.jpg',\n",
              " 'gdrive/My Drive/CNN_assignment/Train/nevus/output/nevus_original_ISIC_0000473.jpg_fc997b0a-7cac-4286-af28-cd14f07900ac.jpg',\n",
              " 'gdrive/My Drive/CNN_assignment/Train/nevus/output/nevus_original_ISIC_0025825.jpg_bdc56375-ad51-4268-9ad3-f4d16628e6e3.jpg',\n",
              " 'gdrive/My Drive/CNN_assignment/Train/nevus/output/nevus_original_ISIC_0000505.jpg_8e829b9a-2aaf-4c18-a832-6cbd2555ef3d.jpg',\n",
              " 'gdrive/My Drive/CNN_assignment/Train/nevus/output/nevus_original_ISIC_0000471.jpg_fb2e18a7-bd0b-4c24-983c-93ea5548f5ef.jpg',\n",
              " 'gdrive/My Drive/CNN_assignment/Train/nevus/output/nevus_original_ISIC_0000082.jpg_2180689e-6e18-4b62-850e-7643e5ad42c2.jpg',\n",
              " 'gdrive/My Drive/CNN_assignment/Train/nevus/output/nevus_original_ISIC_0000267.jpg_14158734-5d6d-414a-af14-995b3628a630.jpg',\n",
              " 'gdrive/My Drive/CNN_assignment/Train/nevus/output/nevus_original_ISIC_0000378.jpg_73bc7775-eb30-4812-b7e7-0e4c45f5d8a5.jpg',\n",
              " 'gdrive/My Drive/CNN_assignment/Train/nevus/output/nevus_original_ISIC_0027452.jpg_5b070122-2149-4855-9e8f-adf2c3091499.jpg',\n",
              " 'gdrive/My Drive/CNN_assignment/Train/nevus/output/nevus_original_ISIC_0000408.jpg_8954b361-e685-46f5-817a-40e6eaee3243.jpg',\n",
              " 'gdrive/My Drive/CNN_assignment/Train/nevus/output/nevus_original_ISIC_0000535.jpg_71986c1a-6166-4bda-9f13-e4339a765825.jpg',\n",
              " 'gdrive/My Drive/CNN_assignment/Train/nevus/output/nevus_original_ISIC_0027615.jpg_30101431-3956-4519-b54d-98b08b36545d.jpg',\n",
              " 'gdrive/My Drive/CNN_assignment/Train/nevus/output/nevus_original_ISIC_0000058.jpg_c0704fbd-6196-4804-9ddb-c345014bacab.jpg',\n",
              " 'gdrive/My Drive/CNN_assignment/Train/nevus/output/nevus_original_ISIC_0000235.jpg_cfaac009-30cf-41cf-8036-7e48154f6f21.jpg',\n",
              " 'gdrive/My Drive/CNN_assignment/Train/nevus/output/nevus_original_ISIC_0000529.jpg_0d00ab0f-4b2f-4f06-bee1-1eeeb781bec4.jpg',\n",
              " 'gdrive/My Drive/CNN_assignment/Train/nevus/output/nevus_original_ISIC_0000265.jpg_61b6147f-ade2-454a-ac10-acf038a4e177.jpg',\n",
              " 'gdrive/My Drive/CNN_assignment/Train/nevus/output/nevus_original_ISIC_0000327.jpg_827b912e-c744-4abc-b55e-a5140156589d.jpg',\n",
              " 'gdrive/My Drive/CNN_assignment/Train/nevus/output/nevus_original_ISIC_0029025.jpg_9586e2c7-db54-4088-b290-5a9be5f2031f.jpg',\n",
              " 'gdrive/My Drive/CNN_assignment/Train/nevus/output/nevus_original_ISIC_0026040.jpg_ffae3902-e2d9-4333-b449-b8f6bc52a50e.jpg',\n",
              " 'gdrive/My Drive/CNN_assignment/Train/nevus/output/nevus_original_ISIC_0000388.jpg_006b2ac6-ac8c-4424-86bd-b3b3c0f63213.jpg',\n",
              " 'gdrive/My Drive/CNN_assignment/Train/nevus/output/nevus_original_ISIC_0000501.jpg_4f7f527b-604a-4113-ba7c-3727f2ce484d.jpg',\n",
              " 'gdrive/My Drive/CNN_assignment/Train/nevus/output/nevus_original_ISIC_0000527.jpg_c090b3a9-6c42-4c56-aaea-9bf1ea007a9f.jpg',\n",
              " 'gdrive/My Drive/CNN_assignment/Train/nevus/output/nevus_original_ISIC_0000430.jpg_38ac92f6-22c3-4c5b-83c9-9938f5d0bc30.jpg',\n",
              " 'gdrive/My Drive/CNN_assignment/Train/nevus/output/nevus_original_ISIC_0000053.jpg_71042518-436a-4698-b0fd-4db918be421f.jpg',\n",
              " 'gdrive/My Drive/CNN_assignment/Train/nevus/output/nevus_original_ISIC_0000266.jpg_4ba7b1a6-1e92-4b14-8c5e-602967108a5f.jpg',\n",
              " 'gdrive/My Drive/CNN_assignment/Train/nevus/output/nevus_original_ISIC_0000236.jpg_2cab9f2a-ce5e-428e-bd43-fad248a3fa04.jpg',\n",
              " 'gdrive/My Drive/CNN_assignment/Train/nevus/output/nevus_original_ISIC_0000368.jpg_a22c3599-a353-4113-878f-7d13fca71c26.jpg',\n",
              " 'gdrive/My Drive/CNN_assignment/Train/nevus/output/nevus_original_ISIC_0000058.jpg_5b850261-6ed8-4a21-b706-60f22efbd6f2.jpg',\n",
              " 'gdrive/My Drive/CNN_assignment/Train/nevus/output/nevus_original_ISIC_0000468.jpg_f39addaa-a46d-41c3-8fe6-d2069c2c06b2.jpg',\n",
              " 'gdrive/My Drive/CNN_assignment/Train/nevus/output/nevus_original_ISIC_0000322.jpg_1536d946-4285-4c12-9850-b28fdac3a8dc.jpg',\n",
              " 'gdrive/My Drive/CNN_assignment/Train/nevus/output/nevus_original_ISIC_0000536.jpg_a5edbb50-0b94-4fc2-8113-bb50cca55b88.jpg',\n",
              " 'gdrive/My Drive/CNN_assignment/Train/nevus/output/nevus_original_ISIC_0000527.jpg_7be99a27-bfd9-4ea4-8876-ae0b3dfbc871.jpg',\n",
              " 'gdrive/My Drive/CNN_assignment/Train/nevus/output/nevus_original_ISIC_0000408.jpg_dacf97a6-19df-4666-ac4f-51eedf3c4c23.jpg',\n",
              " 'gdrive/My Drive/CNN_assignment/Train/nevus/output/nevus_original_ISIC_0000092.jpg_976e0f11-ba50-44e6-b52c-fea245a0ee07.jpg',\n",
              " 'gdrive/My Drive/CNN_assignment/Train/nevus/output/nevus_original_ISIC_0000319.jpg_4b4498a5-c606-4852-aed2-98170ea3d041.jpg',\n",
              " 'gdrive/My Drive/CNN_assignment/Train/nevus/output/nevus_original_ISIC_0000339.jpg_938f4ed7-57fc-4e47-a3af-71c676a8720e.jpg',\n",
              " 'gdrive/My Drive/CNN_assignment/Train/nevus/output/nevus_original_ISIC_0000051.jpg_4b3d2fe6-3fe3-4186-8460-8d3bcb4b267c.jpg',\n",
              " 'gdrive/My Drive/CNN_assignment/Train/nevus/output/nevus_original_ISIC_0000447.jpg_5696e4e9-f304-4fca-946d-f63b71a2b40e.jpg',\n",
              " 'gdrive/My Drive/CNN_assignment/Train/nevus/output/nevus_original_ISIC_0000377.jpg_e53ae1a8-1877-4bdc-83e4-dfe9789af383.jpg',\n",
              " 'gdrive/My Drive/CNN_assignment/Train/nevus/output/nevus_original_ISIC_0000451.jpg_5d0c2461-669d-4e75-ab3d-7817e467f71b.jpg',\n",
              " 'gdrive/My Drive/CNN_assignment/Train/nevus/output/nevus_original_ISIC_0000371.jpg_f928fe24-59d6-4dc5-a15a-f875d667bf77.jpg',\n",
              " 'gdrive/My Drive/CNN_assignment/Train/nevus/output/nevus_original_ISIC_0027447.jpg_9523f85c-23d7-4964-a572-9144c2b1fbb6.jpg',\n",
              " 'gdrive/My Drive/CNN_assignment/Train/nevus/output/nevus_original_ISIC_0000474.jpg_5d349700-60d9-4486-96ef-cdbbed24696a.jpg',\n",
              " 'gdrive/My Drive/CNN_assignment/Train/nevus/output/nevus_original_ISIC_0000426.jpg_3502cac6-2206-45e9-a7e0-1e7adf803b06.jpg',\n",
              " 'gdrive/My Drive/CNN_assignment/Train/nevus/output/nevus_original_ISIC_0000231.jpg_13807ee6-69e4-4c42-9643-ced68fc20067.jpg',\n",
              " 'gdrive/My Drive/CNN_assignment/Train/nevus/output/nevus_original_ISIC_0025825.jpg_b078edca-7019-4b51-85c4-4af2bc43e34e.jpg',\n",
              " 'gdrive/My Drive/CNN_assignment/Train/nevus/output/nevus_original_ISIC_0000236.jpg_dfbd498a-fe2c-4e82-a783-478892fd4e4d.jpg',\n",
              " 'gdrive/My Drive/CNN_assignment/Train/nevus/output/nevus_original_ISIC_0000365.jpg_9e1b80da-531e-4467-9b0d-c06cef761915.jpg',\n",
              " 'gdrive/My Drive/CNN_assignment/Train/nevus/output/nevus_original_ISIC_0027580.jpg_1c3b6217-9d35-4ba4-ac53-cbf4593ea3af.jpg',\n",
              " 'gdrive/My Drive/CNN_assignment/Train/nevus/output/nevus_original_ISIC_0000542.jpg_7b1060bd-8496-46c1-9d8f-9d75d60674bd.jpg',\n",
              " 'gdrive/My Drive/CNN_assignment/Train/nevus/output/nevus_original_ISIC_0000467.jpg_a815ea9d-b773-4278-9c01-1e0b842f25ea.jpg',\n",
              " 'gdrive/My Drive/CNN_assignment/Train/nevus/output/nevus_original_ISIC_0026575.jpg_42b6b12f-427d-4e1b-8530-fa853c66e1de.jpg',\n",
              " 'gdrive/My Drive/CNN_assignment/Train/nevus/output/nevus_original_ISIC_0000443.jpg_50888370-bac4-4c30-9811-4187ce55e2d3.jpg',\n",
              " 'gdrive/My Drive/CNN_assignment/Train/nevus/output/nevus_original_ISIC_0000337.jpg_334026d2-7b09-4277-8bd9-2c46970ef4a9.jpg',\n",
              " 'gdrive/My Drive/CNN_assignment/Train/nevus/output/nevus_original_ISIC_0000508.jpg_3ca3c7ab-ac87-4189-9f88-ead5cd70bc3c.jpg',\n",
              " 'gdrive/My Drive/CNN_assignment/Train/nevus/output/nevus_original_ISIC_0000319.jpg_baefe7d1-2af2-41d7-82c0-9f682848f45e.jpg',\n",
              " 'gdrive/My Drive/CNN_assignment/Train/nevus/output/nevus_original_ISIC_0000474.jpg_33223a1f-6101-491c-9bd4-4e7663c2a5ba.jpg',\n",
              " 'gdrive/My Drive/CNN_assignment/Train/nevus/output/nevus_original_ISIC_0026905.jpg_90a7409b-e5b6-403d-aaaa-eecb575cd6c4.jpg',\n",
              " 'gdrive/My Drive/CNN_assignment/Train/nevus/output/nevus_original_ISIC_0025992.jpg_3121bb16-6d10-411b-920e-ff86a0258593.jpg',\n",
              " 'gdrive/My Drive/CNN_assignment/Train/nevus/output/nevus_original_ISIC_0024771.jpg_7317d85c-d0f5-4d97-9af4-440d51531056.jpg',\n",
              " 'gdrive/My Drive/CNN_assignment/Train/nevus/output/nevus_original_ISIC_0028941.jpg_59ab7bc1-52cc-477e-a05b-1abcdc01c379.jpg',\n",
              " 'gdrive/My Drive/CNN_assignment/Train/nevus/output/nevus_original_ISIC_0000497.jpg_be548367-ba40-4407-95d0-c861a21cc101.jpg',\n",
              " 'gdrive/My Drive/CNN_assignment/Train/nevus/output/nevus_original_ISIC_0026709.jpg_9327f44d-ddd9-47e9-b301-6d7d09d42eb9.jpg',\n",
              " 'gdrive/My Drive/CNN_assignment/Train/nevus/output/nevus_original_ISIC_0000467.jpg_1a15cc6b-535a-4c98-a369-dc9a80b63063.jpg',\n",
              " 'gdrive/My Drive/CNN_assignment/Train/nevus/output/nevus_original_ISIC_0000237.jpg_2cbb587c-f66c-4c68-86a4-2ca8d2203c9e.jpg',\n",
              " 'gdrive/My Drive/CNN_assignment/Train/nevus/output/nevus_original_ISIC_0000467.jpg_5e9fb0c3-44f9-484b-a42e-c8222d7b73a2.jpg',\n",
              " 'gdrive/My Drive/CNN_assignment/Train/nevus/output/nevus_original_ISIC_0000344.jpg_043074ac-53d2-4dc2-ae23-10ab47248fad.jpg',\n",
              " 'gdrive/My Drive/CNN_assignment/Train/nevus/output/nevus_original_ISIC_0024511.jpg_8122b832-3fc8-4e2c-ba8b-17084d5c5721.jpg',\n",
              " 'gdrive/My Drive/CNN_assignment/Train/nevus/output/nevus_original_ISIC_0000039.jpg_cf83806d-2417-4ba0-a3b3-e9f5219dae45.jpg',\n",
              " 'gdrive/My Drive/CNN_assignment/Train/nevus/output/nevus_original_ISIC_0000478.jpg_0909a0ef-2305-4cd5-aef8-68421680d636.jpg',\n",
              " 'gdrive/My Drive/CNN_assignment/Train/nevus/output/nevus_original_ISIC_0000317.jpg_3a230a7d-48d7-4aa3-9eff-4b8abf440d96.jpg',\n",
              " 'gdrive/My Drive/CNN_assignment/Train/nevus/output/nevus_original_ISIC_0000512.jpg_a3cc2676-788c-4ac5-8036-d80398b73781.jpg',\n",
              " 'gdrive/My Drive/CNN_assignment/Train/nevus/output/nevus_original_ISIC_0000264.jpg_c7063a70-fcf8-4120-85c3-bbbf36656f96.jpg',\n",
              " 'gdrive/My Drive/CNN_assignment/Train/nevus/output/nevus_original_ISIC_0000227.jpg_2c09399d-e8ea-4b81-9d02-1d7554a0cc7d.jpg',\n",
              " 'gdrive/My Drive/CNN_assignment/Train/nevus/output/nevus_original_ISIC_0000345.jpg_517bd31a-70b1-4958-97fd-70909d445d93.jpg',\n",
              " 'gdrive/My Drive/CNN_assignment/Train/nevus/output/nevus_original_ISIC_0000367.jpg_48c7e9da-a5f7-4703-a203-2b67d33d3d4c.jpg',\n",
              " 'gdrive/My Drive/CNN_assignment/Train/nevus/output/nevus_original_ISIC_0000364.jpg_72f9628e-d166-4698-85e2-974aab057375.jpg',\n",
              " 'gdrive/My Drive/CNN_assignment/Train/nevus/output/nevus_original_ISIC_0029460.jpg_f306ad45-2af0-4725-915b-c80f8a506137.jpg',\n",
              " 'gdrive/My Drive/CNN_assignment/Train/nevus/output/nevus_original_ISIC_0000532.jpg_14608253-8412-4ba6-b4f1-c3f07784ad47.jpg',\n",
              " 'gdrive/My Drive/CNN_assignment/Train/nevus/output/nevus_original_ISIC_0026575.jpg_751c27ce-b73e-4e3c-8364-d4a30aeef2a4.jpg',\n",
              " 'gdrive/My Drive/CNN_assignment/Train/nevus/output/nevus_original_ISIC_0000371.jpg_90eed049-7643-45b3-9650-a51f503032f5.jpg',\n",
              " 'gdrive/My Drive/CNN_assignment/Train/nevus/output/nevus_original_ISIC_0000538.jpg_5ecbcbed-4535-400d-ae75-7c1aa99835cf.jpg',\n",
              " 'gdrive/My Drive/CNN_assignment/Train/nevus/output/nevus_original_ISIC_0000230.jpg_68fa9ba9-80dd-4287-a1d8-661ba8fd5451.jpg',\n",
              " 'gdrive/My Drive/CNN_assignment/Train/nevus/output/nevus_original_ISIC_0000079.jpg_6ee54bf0-244e-4612-9d87-b3ee167fe455.jpg',\n",
              " 'gdrive/My Drive/CNN_assignment/Train/nevus/output/nevus_original_ISIC_0000239.jpg_06102197-66a0-4842-b189-54bf315a9af0.jpg',\n",
              " 'gdrive/My Drive/CNN_assignment/Train/nevus/output/nevus_original_ISIC_0000457.jpg_acee21a6-6914-4b09-bc41-fa24a9b54156.jpg',\n",
              " 'gdrive/My Drive/CNN_assignment/Train/nevus/output/nevus_original_ISIC_0027896.jpg_a7a93dc8-c367-418d-a1a4-ec205333bdea.jpg',\n",
              " 'gdrive/My Drive/CNN_assignment/Train/nevus/output/nevus_original_ISIC_0000063.jpg_f0d81157-43c6-45b4-9d18-6e560f095a9b.jpg',\n",
              " 'gdrive/My Drive/CNN_assignment/Train/nevus/output/nevus_original_ISIC_0000543.jpg_c2d4d32d-e16c-4d6d-b643-28d49023d6d0.jpg',\n",
              " 'gdrive/My Drive/CNN_assignment/Train/nevus/output/nevus_original_ISIC_0000271.jpg_b9761402-3bad-4c79-adb6-4c04a324956f.jpg',\n",
              " 'gdrive/My Drive/CNN_assignment/Train/nevus/output/nevus_original_ISIC_0000346.jpg_b7f52360-d50a-4a61-8c53-3116916398a4.jpg',\n",
              " 'gdrive/My Drive/CNN_assignment/Train/nevus/output/nevus_original_ISIC_0000458.jpg_a1f028dc-1888-43cf-863d-7717d915ea60.jpg',\n",
              " 'gdrive/My Drive/CNN_assignment/Train/nevus/output/nevus_original_ISIC_0000353.jpg_5bdc0986-38a9-4cf2-8d0d-c0ed6fc17302.jpg',\n",
              " 'gdrive/My Drive/CNN_assignment/Train/nevus/output/nevus_original_ISIC_0000047.jpg_afa87f12-3888-47f1-9bb3-3fd16790f05c.jpg',\n",
              " 'gdrive/My Drive/CNN_assignment/Train/nevus/output/nevus_original_ISIC_0024800.jpg_769e5df0-8cf6-409c-b818-6ef1747a5e2d.jpg',\n",
              " 'gdrive/My Drive/CNN_assignment/Train/nevus/output/nevus_original_ISIC_0010889.jpg_c489ff3c-66e2-4644-9a36-d2ef694c0e92.jpg',\n",
              " 'gdrive/My Drive/CNN_assignment/Train/nevus/output/nevus_original_ISIC_0000377.jpg_28c3e3c3-cc04-4816-80f7-fdb7771934f7.jpg',\n",
              " 'gdrive/My Drive/CNN_assignment/Train/nevus/output/nevus_original_ISIC_0027254.jpg_a52956de-6d42-4371-9d7c-f2a2603d8b6a.jpg',\n",
              " 'gdrive/My Drive/CNN_assignment/Train/nevus/output/nevus_original_ISIC_0000460.jpg_d78ea6b6-c950-4b3e-9e4e-1c8489a4a549.jpg',\n",
              " 'gdrive/My Drive/CNN_assignment/Train/nevus/output/nevus_original_ISIC_0000094.jpg_688dccca-bd2c-42d5-9c03-39afc58acbfa.jpg',\n",
              " 'gdrive/My Drive/CNN_assignment/Train/nevus/output/nevus_original_ISIC_0000529.jpg_0e66a34a-785c-4313-8441-a8e3bcc97a6b.jpg',\n",
              " 'gdrive/My Drive/CNN_assignment/Train/nevus/output/nevus_original_ISIC_0026650.jpg_90e1cd2b-465b-4a0e-a836-dd4413ad22be.jpg',\n",
              " 'gdrive/My Drive/CNN_assignment/Train/nevus/output/nevus_original_ISIC_0029133.jpg_85e8fa82-10d5-453c-ae54-26cc59eec8cd.jpg',\n",
              " 'gdrive/My Drive/CNN_assignment/Train/nevus/output/nevus_original_ISIC_0000499.jpg_08f1c46e-5589-4c70-91bd-89714e967c3a.jpg',\n",
              " 'gdrive/My Drive/CNN_assignment/Train/nevus/output/nevus_original_ISIC_0026709.jpg_ed235b6f-3baa-4a35-b76b-4bc21325d06f.jpg',\n",
              " 'gdrive/My Drive/CNN_assignment/Train/nevus/output/nevus_original_ISIC_0000095.jpg_575d1c08-982a-4610-9bb2-2ad1bfec4159.jpg',\n",
              " 'gdrive/My Drive/CNN_assignment/Train/nevus/output/nevus_original_ISIC_0000089.jpg_da0ded51-8381-4360-9671-9636f4a46168.jpg',\n",
              " 'gdrive/My Drive/CNN_assignment/Train/nevus/output/nevus_original_ISIC_0027668.jpg_ec6bd7c5-fb34-4688-a5bb-db68fea46903.jpg',\n",
              " 'gdrive/My Drive/CNN_assignment/Train/nevus/output/nevus_original_ISIC_0000322.jpg_c9656ae1-1a9e-4bef-8b9e-de5d73d9d205.jpg',\n",
              " 'gdrive/My Drive/CNN_assignment/Train/nevus/output/nevus_original_ISIC_0026171.jpg_5bbf3c9c-0fb2-4d55-9a9a-9b8e77193394.jpg',\n",
              " 'gdrive/My Drive/CNN_assignment/Train/nevus/output/nevus_original_ISIC_0000423.jpg_9f1c589b-6092-4fd5-90f6-71a7f57f1a81.jpg',\n",
              " 'gdrive/My Drive/CNN_assignment/Train/nevus/output/nevus_original_ISIC_0000095.jpg_7e62e7a1-cebe-4c32-ae1a-839980d87ade.jpg',\n",
              " 'gdrive/My Drive/CNN_assignment/Train/nevus/output/nevus_original_ISIC_0000504.jpg_ab755a61-a968-4199-b109-61a0b9b0f53f.jpg',\n",
              " 'gdrive/My Drive/CNN_assignment/Train/nevus/output/nevus_original_ISIC_0000392.jpg_04fe7799-4ed3-48ef-9498-d23c1de05869.jpg',\n",
              " 'gdrive/My Drive/CNN_assignment/Train/nevus/output/nevus_original_ISIC_0000364.jpg_d3d3f7a8-8626-46be-9f62-106c16e9f789.jpg',\n",
              " 'gdrive/My Drive/CNN_assignment/Train/nevus/output/nevus_original_ISIC_0000528.jpg_0787f388-b4b5-4f71-964a-25734e2e8b7f.jpg',\n",
              " 'gdrive/My Drive/CNN_assignment/Train/nevus/output/nevus_original_ISIC_0000451.jpg_16618ff0-9c67-421b-93a2-73ce62536575.jpg',\n",
              " 'gdrive/My Drive/CNN_assignment/Train/nevus/output/nevus_original_ISIC_0000258.jpg_1649884a-b414-4041-b975-e3945527a9a7.jpg',\n",
              " 'gdrive/My Drive/CNN_assignment/Train/nevus/output/nevus_original_ISIC_0010512.jpg_8cb7ba47-e3e2-4ebe-86f3-be111d65feb5.jpg',\n",
              " 'gdrive/My Drive/CNN_assignment/Train/nevus/output/nevus_original_ISIC_0000245.jpg_fea2428e-18e3-4942-bb6f-a10f07c931b8.jpg',\n",
              " 'gdrive/My Drive/CNN_assignment/Train/nevus/output/nevus_original_ISIC_0000475.jpg_ebd21bf7-eb59-4639-8970-38cef577e15f.jpg',\n",
              " 'gdrive/My Drive/CNN_assignment/Train/nevus/output/nevus_original_ISIC_0027802.jpg_a3881bd7-dcb1-4c38-a829-4982ced3adc3.jpg',\n",
              " 'gdrive/My Drive/CNN_assignment/Train/nevus/output/nevus_original_ISIC_0000273.jpg_bf2a0696-d1f3-40d7-956e-2b83d5e43ac8.jpg',\n",
              " 'gdrive/My Drive/CNN_assignment/Train/nevus/output/nevus_original_ISIC_0028820.jpg_db28103c-adea-4976-8ee1-b8ba49c6ba4a.jpg',\n",
              " 'gdrive/My Drive/CNN_assignment/Train/nevus/output/nevus_original_ISIC_0000331.jpg_8efaf752-a86f-438f-82fa-d4c445dbe949.jpg',\n",
              " 'gdrive/My Drive/CNN_assignment/Train/nevus/output/nevus_original_ISIC_0000426.jpg_2984d629-36b8-4580-8e59-56d623e03c51.jpg',\n",
              " 'gdrive/My Drive/CNN_assignment/Train/nevus/output/nevus_original_ISIC_0000353.jpg_0173f180-2e3f-4a20-b0f8-6f5c22e8a1bf.jpg',\n",
              " 'gdrive/My Drive/CNN_assignment/Train/nevus/output/nevus_original_ISIC_0000388.jpg_346bc7c4-255b-40f7-8f72-851358315c48.jpg',\n",
              " 'gdrive/My Drive/CNN_assignment/Train/nevus/output/nevus_original_ISIC_0000491.jpg_4df1c1d9-75ef-4b5d-83e9-6cfbf8c20d13.jpg',\n",
              " 'gdrive/My Drive/CNN_assignment/Train/nevus/output/nevus_original_ISIC_0024948.jpg_ad4312ca-e2f8-4a76-8008-fdcbd9caa727.jpg',\n",
              " 'gdrive/My Drive/CNN_assignment/Train/nevus/output/nevus_original_ISIC_0000234.jpg_3eb83be4-efbe-4cd5-afcb-bee6b9ad9562.jpg',\n",
              " 'gdrive/My Drive/CNN_assignment/Train/nevus/output/nevus_original_ISIC_0000507.jpg_94ecdb8b-efd7-4873-bc88-4fe07d15242e.jpg',\n",
              " 'gdrive/My Drive/CNN_assignment/Train/nevus/output/nevus_original_ISIC_0000079.jpg_817d4d71-9b22-4592-8bf6-77db4a96eda4.jpg',\n",
              " 'gdrive/My Drive/CNN_assignment/Train/nevus/output/nevus_original_ISIC_0000042.jpg_e3507251-a23c-4b4e-81e4-dc0bd8f09683.jpg',\n",
              " 'gdrive/My Drive/CNN_assignment/Train/nevus/output/nevus_original_ISIC_0028820.jpg_a6323c73-ffd0-4262-990b-a0c3cb39ec85.jpg',\n",
              " 'gdrive/My Drive/CNN_assignment/Train/nevus/output/nevus_original_ISIC_0000034.jpg_aafd8428-00d7-4c59-8919-322444562fa9.jpg',\n",
              " 'gdrive/My Drive/CNN_assignment/Train/nevus/output/nevus_original_ISIC_0000489.jpg_9e12be8d-d311-4261-9505-6ed48f663996.jpg',\n",
              " 'gdrive/My Drive/CNN_assignment/Train/nevus/output/nevus_original_ISIC_0000423.jpg_f7e251aa-1c3d-4e66-9d21-d1a7c78e1b8c.jpg',\n",
              " 'gdrive/My Drive/CNN_assignment/Train/nevus/output/nevus_original_ISIC_0000377.jpg_230a4f8d-f709-4e18-b779-c5fda0632b2b.jpg',\n",
              " 'gdrive/My Drive/CNN_assignment/Train/nevus/output/nevus_original_ISIC_0000256.jpg_16f3eaed-5e6f-451f-84b1-0ba1feb7084c.jpg',\n",
              " 'gdrive/My Drive/CNN_assignment/Train/nevus/output/nevus_original_ISIC_0000034.jpg_c8862248-3f96-4fc3-8fef-dcf6dfc81c66.jpg',\n",
              " 'gdrive/My Drive/CNN_assignment/Train/nevus/output/nevus_original_ISIC_0028619.jpg_523c565d-0703-46e3-82a8-10dab7c40c1d.jpg',\n",
              " 'gdrive/My Drive/CNN_assignment/Train/nevus/output/nevus_original_ISIC_0000543.jpg_7b848871-a50d-4c83-928a-8a57e3936396.jpg',\n",
              " 'gdrive/My Drive/CNN_assignment/Train/nevus/output/nevus_original_ISIC_0028941.jpg_a99b2630-31da-4ec6-91fd-6becd1d8ff98.jpg',\n",
              " 'gdrive/My Drive/CNN_assignment/Train/nevus/output/nevus_original_ISIC_0000355.jpg_5bccc4e0-656e-4357-8478-1063e79b799d.jpg',\n",
              " 'gdrive/My Drive/CNN_assignment/Train/nevus/output/nevus_original_ISIC_0000359.jpg_92ac2350-7f91-4831-83ef-81e49496a22c.jpg',\n",
              " 'gdrive/My Drive/CNN_assignment/Train/nevus/output/nevus_original_ISIC_0000236.jpg_c6d4f110-ccac-4f71-84d3-4558809a68da.jpg',\n",
              " 'gdrive/My Drive/CNN_assignment/Train/nevus/output/nevus_original_ISIC_0000028.jpg_a3ea11cc-e894-4498-ad84-70d9198a6305.jpg',\n",
              " 'gdrive/My Drive/CNN_assignment/Train/nevus/output/nevus_original_ISIC_0027172.jpg_2d7cc226-29a3-40c5-a518-57ead948309d.jpg',\n",
              " 'gdrive/My Drive/CNN_assignment/Train/nevus/output/nevus_original_ISIC_0000363.jpg_c69c8c14-44e6-43dd-b371-126bdeb8bb93.jpg',\n",
              " 'gdrive/My Drive/CNN_assignment/Train/nevus/output/nevus_original_ISIC_0000025.jpg_3ce51ff4-63e6-44c6-b423-7d1ac3a2325f.jpg',\n",
              " 'gdrive/My Drive/CNN_assignment/Train/nevus/output/nevus_original_ISIC_0000263.jpg_2e260c51-98a6-436b-8646-de4b6ea2c1cc.jpg',\n",
              " 'gdrive/My Drive/CNN_assignment/Train/nevus/output/nevus_original_ISIC_0000354.jpg_159c27cb-93ac-4dc2-8e42-4d708e9176ce.jpg',\n",
              " 'gdrive/My Drive/CNN_assignment/Train/nevus/output/nevus_original_ISIC_0000236.jpg_57a42968-15a2-412f-bd4e-95d176f382b9.jpg',\n",
              " 'gdrive/My Drive/CNN_assignment/Train/nevus/output/nevus_original_ISIC_0000342.jpg_1dc939a0-de69-495b-98f7-afa51f6b6898.jpg',\n",
              " 'gdrive/My Drive/CNN_assignment/Train/nevus/output/nevus_original_ISIC_0000403.jpg_d3016fb2-b68d-45de-a0c2-f55c705c0e9d.jpg',\n",
              " 'gdrive/My Drive/CNN_assignment/Train/nevus/output/nevus_original_ISIC_0000063.jpg_e53027ff-b917-46fb-804a-d98b13f168fb.jpg',\n",
              " 'gdrive/My Drive/CNN_assignment/Train/nevus/output/nevus_original_ISIC_0000523.jpg_b189a8df-629c-41be-98f0-7b0fe74027ae.jpg',\n",
              " 'gdrive/My Drive/CNN_assignment/Train/nevus/output/nevus_original_ISIC_0000407.jpg_0a8f5344-d095-4874-a962-284cddf58f56.jpg',\n",
              " 'gdrive/My Drive/CNN_assignment/Train/nevus/output/nevus_original_ISIC_0000475.jpg_f1867515-c2b0-4753-b50f-1918bc15bc73.jpg',\n",
              " 'gdrive/My Drive/CNN_assignment/Train/nevus/output/nevus_original_ISIC_0000471.jpg_6bb9bc11-32f9-4b83-87cc-058a21bd3d8c.jpg',\n",
              " 'gdrive/My Drive/CNN_assignment/Train/nevus/output/nevus_original_ISIC_0000351.jpg_5c4cfdd3-68ce-48f9-b7ba-a6e4e9db158f.jpg',\n",
              " 'gdrive/My Drive/CNN_assignment/Train/nevus/output/nevus_original_ISIC_0000089.jpg_e27e95c6-4ada-4722-97cc-ba5b0bbf8e07.jpg',\n",
              " 'gdrive/My Drive/CNN_assignment/Train/nevus/output/nevus_original_ISIC_0000344.jpg_29420e7d-215e-401a-875f-ab88c25a55d4.jpg',\n",
              " 'gdrive/My Drive/CNN_assignment/Train/nevus/output/nevus_original_ISIC_0000024.jpg_1b03c4ff-1c12-408b-af0e-4f31ac5ed5d2.jpg',\n",
              " 'gdrive/My Drive/CNN_assignment/Train/nevus/output/nevus_original_ISIC_0000448.jpg_a20ca764-6257-411a-9ebb-1d0dac6e1125.jpg',\n",
              " 'gdrive/My Drive/CNN_assignment/Train/nevus/output/nevus_original_ISIC_0000248.jpg_03315845-e83a-452b-bec7-c9d2ba19e915.jpg',\n",
              " 'gdrive/My Drive/CNN_assignment/Train/nevus/output/nevus_original_ISIC_0000038.jpg_11b74a8a-c5e7-456b-ae4a-1e1f954c7ef8.jpg',\n",
              " 'gdrive/My Drive/CNN_assignment/Train/nevus/output/nevus_original_ISIC_0000340.jpg_2d9300df-0dd9-4f3e-a87f-de843b2f737f.jpg',\n",
              " 'gdrive/My Drive/CNN_assignment/Train/nevus/output/nevus_original_ISIC_0000461.jpg_054615f0-506e-41ce-9022-f7065d551611.jpg',\n",
              " 'gdrive/My Drive/CNN_assignment/Train/nevus/output/nevus_original_ISIC_0000240.jpg_f17c9147-b344-40b1-8908-017d80accc98.jpg',\n",
              " 'gdrive/My Drive/CNN_assignment/Train/nevus/output/nevus_original_ISIC_0000066.jpg_3417dee7-b4fc-4ffb-bdd2-2d9a0954b317.jpg',\n",
              " 'gdrive/My Drive/CNN_assignment/Train/nevus/output/nevus_original_ISIC_0000421.jpg_a1049e25-5ae0-4f73-8aa5-ad5f05844998.jpg',\n",
              " 'gdrive/My Drive/CNN_assignment/Train/nevus/output/nevus_original_ISIC_0000477.jpg_9c1d3310-d5ba-4b65-b72d-33d8c5b32b1e.jpg',\n",
              " 'gdrive/My Drive/CNN_assignment/Train/nevus/output/nevus_original_ISIC_0000535.jpg_a9b0edb7-b5eb-484e-8240-72fa01ffa749.jpg',\n",
              " 'gdrive/My Drive/CNN_assignment/Train/nevus/output/nevus_original_ISIC_0000248.jpg_50369691-b793-43fd-980b-61eceeffaa20.jpg',\n",
              " 'gdrive/My Drive/CNN_assignment/Train/nevus/output/nevus_original_ISIC_0000095.jpg_bf935e2c-b05e-4be2-841c-bc52699add5e.jpg',\n",
              " 'gdrive/My Drive/CNN_assignment/Train/nevus/output/nevus_original_ISIC_0000060.jpg_30a906fb-0a02-47ba-8886-3f510ecdb1a6.jpg',\n",
              " 'gdrive/My Drive/CNN_assignment/Train/nevus/output/nevus_original_ISIC_0000039.jpg_2407a3d1-524c-497c-b297-5b6c380daef5.jpg',\n",
              " 'gdrive/My Drive/CNN_assignment/Train/nevus/output/nevus_original_ISIC_0000538.jpg_320fbde3-01de-4eae-bbbc-a9ec8aa24cd9.jpg',\n",
              " 'gdrive/My Drive/CNN_assignment/Train/nevus/output/nevus_original_ISIC_0000240.jpg_854d0f44-ba86-4ed6-848f-bfbf8f8a905b.jpg',\n",
              " 'gdrive/My Drive/CNN_assignment/Train/nevus/output/nevus_original_ISIC_0024948.jpg_12b54c9d-afd2-44e4-baad-dacf528f0541.jpg',\n",
              " 'gdrive/My Drive/CNN_assignment/Train/nevus/output/nevus_original_ISIC_0000073.jpg_a6588f54-6672-4460-92a8-dbaca1c5bf58.jpg',\n",
              " 'gdrive/My Drive/CNN_assignment/Train/nevus/output/nevus_original_ISIC_0000465.jpg_3cac609d-98a3-4480-b980-e27f68ecef2f.jpg',\n",
              " 'gdrive/My Drive/CNN_assignment/Train/nevus/output/nevus_original_ISIC_0000088.jpg_2d07bed6-359a-434f-9cbf-111f7f2445fb.jpg',\n",
              " 'gdrive/My Drive/CNN_assignment/Train/nevus/output/nevus_original_ISIC_0000334.jpg_50081b98-57c8-4028-833d-536f1359aabc.jpg',\n",
              " 'gdrive/My Drive/CNN_assignment/Train/nevus/output/nevus_original_ISIC_0000331.jpg_7cf398a5-a669-45fc-9830-f8bdff2be05b.jpg',\n",
              " 'gdrive/My Drive/CNN_assignment/Train/nevus/output/nevus_original_ISIC_0028558.jpg_3043fca0-f690-46c9-ad92-3d287ab45187.jpg',\n",
              " 'gdrive/My Drive/CNN_assignment/Train/nevus/output/nevus_original_ISIC_0028314.jpg_70d79a66-9955-4887-8586-b4a9a0575c54.jpg',\n",
              " 'gdrive/My Drive/CNN_assignment/Train/nevus/output/nevus_original_ISIC_0024707.jpg_9fd59051-5b73-4ad8-9525-160991da43df.jpg',\n",
              " 'gdrive/My Drive/CNN_assignment/Train/nevus/output/nevus_original_ISIC_0000449.jpg_eb5b8231-02b0-4c53-addb-ddcb1fe78396.jpg',\n",
              " 'gdrive/My Drive/CNN_assignment/Train/nevus/output/nevus_original_ISIC_0000473.jpg_98c2d851-b5af-46f5-bcf6-1fc34cd5be12.jpg',\n",
              " 'gdrive/My Drive/CNN_assignment/Train/nevus/output/nevus_original_ISIC_0000472.jpg_4e1904b5-eae8-45f7-b98a-089a70e76167.jpg',\n",
              " 'gdrive/My Drive/CNN_assignment/Train/nevus/output/nevus_original_ISIC_0000271.jpg_7d00e24e-08d5-4190-a457-d8fee4ab6f16.jpg',\n",
              " 'gdrive/My Drive/CNN_assignment/Train/nevus/output/nevus_original_ISIC_0026905.jpg_19964e72-a677-4b8b-85d3-2d2aa413e6c8.jpg',\n",
              " 'gdrive/My Drive/CNN_assignment/Train/nevus/output/nevus_original_ISIC_0000530.jpg_4ba0fa01-d313-4ca4-966b-90204f8ae762.jpg',\n",
              " 'gdrive/My Drive/CNN_assignment/Train/nevus/output/nevus_original_ISIC_0000389.jpg_ac77f3bd-989a-4c56-a9e6-ac5e1755e9e8.jpg',\n",
              " 'gdrive/My Drive/CNN_assignment/Train/nevus/output/nevus_original_ISIC_0000387.jpg_5fbf3345-6fd6-4ff8-a584-637cd4044fa2.jpg',\n",
              " 'gdrive/My Drive/CNN_assignment/Train/nevus/output/nevus_original_ISIC_0000224.jpg_94e0c3eb-72e8-409a-9dc0-489c2cd73ac3.jpg',\n",
              " 'gdrive/My Drive/CNN_assignment/Train/nevus/output/nevus_original_ISIC_0000498.jpg_50902c6b-f25f-4334-ae61-1f7b8121bb94.jpg',\n",
              " 'gdrive/My Drive/CNN_assignment/Train/nevus/output/nevus_original_ISIC_0000379.jpg_dd318675-69aa-4e9b-8f1b-48e33a828426.jpg',\n",
              " 'gdrive/My Drive/CNN_assignment/Train/nevus/output/nevus_original_ISIC_0000238.jpg_388e8590-6b8a-4a93-bda2-0c8abe127bbe.jpg',\n",
              " 'gdrive/My Drive/CNN_assignment/Train/nevus/output/nevus_original_ISIC_0000341.jpg_0b6806f7-0ccf-4f06-8e5c-3f13cde2556e.jpg',\n",
              " 'gdrive/My Drive/CNN_assignment/Train/nevus/output/nevus_original_ISIC_0000388.jpg_4b018bb8-cbff-46ca-b146-9ee09c5b38bb.jpg',\n",
              " 'gdrive/My Drive/CNN_assignment/Train/nevus/output/nevus_original_ISIC_0000065.jpg_9144d8eb-358f-432b-a08c-2155d303159e.jpg',\n",
              " 'gdrive/My Drive/CNN_assignment/Train/nevus/output/nevus_original_ISIC_0027254.jpg_0d8c84bf-c7e1-41ea-98c5-d6a02af00225.jpg',\n",
              " 'gdrive/My Drive/CNN_assignment/Train/nevus/output/nevus_original_ISIC_0000265.jpg_57402362-8702-4bdb-ad3d-fb233e3c60fa.jpg',\n",
              " 'gdrive/My Drive/CNN_assignment/Train/nevus/output/nevus_original_ISIC_0000263.jpg_cae7d4f1-7fa9-406a-ba29-4126d72c0425.jpg',\n",
              " 'gdrive/My Drive/CNN_assignment/Train/nevus/output/nevus_original_ISIC_0000418.jpg_a5b26798-0fc6-4245-818d-8d40a6cee6e2.jpg',\n",
              " 'gdrive/My Drive/CNN_assignment/Train/nevus/output/nevus_original_ISIC_0025803.jpg_b8d7d27c-ddd7-4dcb-850e-4577eca47a67.jpg',\n",
              " 'gdrive/My Drive/CNN_assignment/Train/nevus/output/nevus_original_ISIC_0000086.jpg_7691308d-3f3b-494b-91ce-eb6e4f2096ff.jpg',\n",
              " 'gdrive/My Drive/CNN_assignment/Train/nevus/output/nevus_original_ISIC_0000460.jpg_c95f6761-feee-420b-8764-b0d41505b6a7.jpg',\n",
              " 'gdrive/My Drive/CNN_assignment/Train/nevus/output/nevus_original_ISIC_0000540.jpg_a935c1e1-3053-4736-9d64-861927dd2c39.jpg',\n",
              " 'gdrive/My Drive/CNN_assignment/Train/nevus/output/nevus_original_ISIC_0000027.jpg_18504cfa-d768-4207-a413-fe93aba2cfc2.jpg',\n",
              " 'gdrive/My Drive/CNN_assignment/Train/nevus/output/nevus_original_ISIC_0000318.jpg_a32f9173-22dd-4239-a6fb-e97054d2057b.jpg',\n",
              " 'gdrive/My Drive/CNN_assignment/Train/nevus/output/nevus_original_ISIC_0000508.jpg_5e09eda4-4feb-4bec-acf1-9ebf91825bde.jpg',\n",
              " 'gdrive/My Drive/CNN_assignment/Train/nevus/output/nevus_original_ISIC_0000324.jpg_26cb5856-e589-4074-99db-caf9ddd08529.jpg',\n",
              " 'gdrive/My Drive/CNN_assignment/Train/nevus/output/nevus_original_ISIC_0000027.jpg_e68c2150-b60f-4ecb-a981-b5012b7395a4.jpg',\n",
              " 'gdrive/My Drive/CNN_assignment/Train/nevus/output/nevus_original_ISIC_0000451.jpg_c03a2002-43fd-4bd5-9a67-f301fd3a1083.jpg',\n",
              " 'gdrive/My Drive/CNN_assignment/Train/nevus/output/nevus_original_ISIC_0000383.jpg_67feb6ba-f31c-42a6-a513-7d161e989689.jpg',\n",
              " 'gdrive/My Drive/CNN_assignment/Train/nevus/output/nevus_original_ISIC_0010889.jpg_c88430db-ed9e-4f38-8592-5ef71754242e.jpg',\n",
              " 'gdrive/My Drive/CNN_assignment/Train/nevus/output/nevus_original_ISIC_0000331.jpg_5ed99d11-3e8d-438c-adb1-b2d2c05e0136.jpg',\n",
              " 'gdrive/My Drive/CNN_assignment/Train/nevus/output/nevus_original_ISIC_0000505.jpg_e26fc215-6886-4161-afeb-6a9f432de34e.jpg',\n",
              " 'gdrive/My Drive/CNN_assignment/Train/nevus/output/nevus_original_ISIC_0000094.jpg_fd21328d-52bb-4e10-8d2b-dca912ceeae5.jpg',\n",
              " 'gdrive/My Drive/CNN_assignment/Train/nevus/output/nevus_original_ISIC_0000363.jpg_36fd4be6-4764-491f-abb4-e6961a4c37c4.jpg',\n",
              " 'gdrive/My Drive/CNN_assignment/Train/nevus/output/nevus_original_ISIC_0000096.jpg_705d8ae4-8fc6-4a23-9681-4d6e3ee13070.jpg',\n",
              " 'gdrive/My Drive/CNN_assignment/Train/nevus/output/nevus_original_ISIC_0000336.jpg_29504386-f735-4d7a-aafc-7cab75d4351a.jpg',\n",
              " 'gdrive/My Drive/CNN_assignment/Train/nevus/output/nevus_original_ISIC_0000047.jpg_d9a374e8-5b4e-4e32-88d0-36126c578272.jpg',\n",
              " 'gdrive/My Drive/CNN_assignment/Train/nevus/output/nevus_original_ISIC_0000384.jpg_f04fbe80-900a-48b0-aee8-f9d989a063cd.jpg',\n",
              " 'gdrive/My Drive/CNN_assignment/Train/nevus/output/nevus_original_ISIC_0000489.jpg_5cd52225-774c-48ef-a8b6-29fca4c9d63c.jpg',\n",
              " 'gdrive/My Drive/CNN_assignment/Train/nevus/output/nevus_original_ISIC_0000262.jpg_3912491f-c651-4f5d-81f1-59f9f5ef22e1.jpg',\n",
              " 'gdrive/My Drive/CNN_assignment/Train/nevus/output/nevus_original_ISIC_0027950.jpg_7498a144-15b0-46fa-a93c-53a27d89d828.jpg',\n",
              " 'gdrive/My Drive/CNN_assignment/Train/nevus/output/nevus_original_ISIC_0000498.jpg_d97bb153-9efb-40f7-b8a9-a918f6e0e82f.jpg',\n",
              " 'gdrive/My Drive/CNN_assignment/Train/nevus/output/nevus_original_ISIC_0000538.jpg_0bc666c7-4556-4c6b-baa2-b42fc87e0c4e.jpg',\n",
              " 'gdrive/My Drive/CNN_assignment/Train/nevus/output/nevus_original_ISIC_0000501.jpg_51e90eb1-1526-4577-9cc1-62b0ca44a46f.jpg',\n",
              " 'gdrive/My Drive/CNN_assignment/Train/nevus/output/nevus_original_ISIC_0000512.jpg_f841d1bb-275a-468f-bc65-cf789ba83858.jpg',\n",
              " 'gdrive/My Drive/CNN_assignment/Train/nevus/output/nevus_original_ISIC_0000496.jpg_5604be52-7556-41dc-bd9b-62f1a9cba435.jpg',\n",
              " 'gdrive/My Drive/CNN_assignment/Train/nevus/output/nevus_original_ISIC_0000348.jpg_ad998b5f-a25f-4ff9-8f89-a9984a6b2f33.jpg',\n",
              " 'gdrive/My Drive/CNN_assignment/Train/nevus/output/nevus_original_ISIC_0000367.jpg_900ecd2f-20f4-4306-8348-ef77a9096ea4.jpg',\n",
              " 'gdrive/My Drive/CNN_assignment/Train/nevus/output/nevus_original_ISIC_0000545.jpg_d1365fd3-8f43-4aab-90ae-54e3cc214fc8.jpg',\n",
              " 'gdrive/My Drive/CNN_assignment/Train/nevus/output/nevus_original_ISIC_0000541.jpg_973490e2-02fc-4900-a1f3-21bc55e92e0d.jpg',\n",
              " 'gdrive/My Drive/CNN_assignment/Train/nevus/output/nevus_original_ISIC_0027958.jpg_769277f8-78ad-4ad5-bfac-93482d75f2b6.jpg',\n",
              " 'gdrive/My Drive/CNN_assignment/Train/nevus/output/nevus_original_ISIC_0000376.jpg_61f38f4c-e0a0-4734-9426-601903cb4445.jpg',\n",
              " 'gdrive/My Drive/CNN_assignment/Train/nevus/output/nevus_original_ISIC_0000546.jpg_12d73f1b-a449-4b8b-8eaf-10e92aee2976.jpg',\n",
              " 'gdrive/My Drive/CNN_assignment/Train/nevus/output/nevus_original_ISIC_0000360.jpg_563525ab-c21d-4736-a8e7-8283cdfd6f09.jpg',\n",
              " 'gdrive/My Drive/CNN_assignment/Train/nevus/output/nevus_original_ISIC_0000389.jpg_70ecc32a-9966-4e06-ad33-504bfceb9500.jpg',\n",
              " 'gdrive/My Drive/CNN_assignment/Train/nevus/output/nevus_original_ISIC_0000091.jpg_b2400d58-14f4-4777-91ef-ae930271c0c8.jpg',\n",
              " 'gdrive/My Drive/CNN_assignment/Train/nevus/output/nevus_original_ISIC_0000525.jpg_4030fbfb-4a1c-4a2e-8c98-f1d152f25952.jpg',\n",
              " 'gdrive/My Drive/CNN_assignment/Train/nevus/output/nevus_original_ISIC_0000351.jpg_48af8acf-467e-4d8d-96d0-79805290f39a.jpg',\n",
              " 'gdrive/My Drive/CNN_assignment/Train/nevus/output/nevus_original_ISIC_0026729.jpg_9ad6248f-1c0f-4590-8d25-d8f4ac4a84a9.jpg',\n",
              " 'gdrive/My Drive/CNN_assignment/Train/nevus/output/nevus_original_ISIC_0000545.jpg_f8ee2fa7-1628-4859-b4a6-3b3e001a5bdd.jpg',\n",
              " 'gdrive/My Drive/CNN_assignment/Train/nevus/output/nevus_original_ISIC_0000062.jpg_467c8fe6-15e8-4b62-9d9b-e209141b5dd4.jpg',\n",
              " 'gdrive/My Drive/CNN_assignment/Train/nevus/output/nevus_original_ISIC_0029460.jpg_6583030c-a7f6-40ae-84fb-b5266fa07f2b.jpg',\n",
              " 'gdrive/My Drive/CNN_assignment/Train/nevus/output/nevus_original_ISIC_0026171.jpg_d9bb6cff-7845-4bb7-b635-adc6ec66421e.jpg',\n",
              " 'gdrive/My Drive/CNN_assignment/Train/nevus/output/nevus_original_ISIC_0000504.jpg_8eda0f67-2ae3-4939-878d-88d1eda90976.jpg',\n",
              " 'gdrive/My Drive/CNN_assignment/Train/nevus/output/nevus_original_ISIC_0026040.jpg_0ddf94be-ce03-4edc-9332-1ece0fe00eec.jpg',\n",
              " 'gdrive/My Drive/CNN_assignment/Train/nevus/output/nevus_original_ISIC_0026149.jpg_5a2bce86-56b8-4a31-9c0b-78e51ec3dcf9.jpg',\n",
              " 'gdrive/My Drive/CNN_assignment/Train/nevus/output/nevus_original_ISIC_0000095.jpg_72da881d-8bf1-45ef-b6a5-04e79e5e9a91.jpg',\n",
              " 'gdrive/My Drive/CNN_assignment/Train/nevus/output/nevus_original_ISIC_0000324.jpg_f8491818-6441-48f9-ae86-f4819bce0396.jpg',\n",
              " 'gdrive/My Drive/CNN_assignment/Train/nevus/output/nevus_original_ISIC_0000385.jpg_6d37950e-320f-4290-bb7b-4aee5e6e3ed4.jpg',\n",
              " 'gdrive/My Drive/CNN_assignment/Train/nevus/output/nevus_original_ISIC_0000230.jpg_5f1d55d9-f218-4ea1-ab53-4fdc6ab89c2d.jpg',\n",
              " 'gdrive/My Drive/CNN_assignment/Train/nevus/output/nevus_original_ISIC_0000232.jpg_8d904f57-2967-4d55-b0a5-3281b1b03fb7.jpg',\n",
              " 'gdrive/My Drive/CNN_assignment/Train/nevus/output/nevus_original_ISIC_0000486.jpg_afdd82be-a285-4375-b7dc-0b0133815f6f.jpg',\n",
              " 'gdrive/My Drive/CNN_assignment/Train/nevus/output/nevus_original_ISIC_0000323.jpg_8da8b5cd-1c90-4972-8e93-43e9f5c8c345.jpg',\n",
              " 'gdrive/My Drive/CNN_assignment/Train/nevus/output/nevus_original_ISIC_0000543.jpg_49402c7c-cd1e-4ee4-8a07-6192c081d169.jpg',\n",
              " 'gdrive/My Drive/CNN_assignment/Train/nevus/output/nevus_original_ISIC_0026212.jpg_f3944610-9b85-4591-9ec2-20435c5f9e93.jpg',\n",
              " 'gdrive/My Drive/CNN_assignment/Train/nevus/output/nevus_original_ISIC_0026650.jpg_6fd174e3-c0ad-4769-b061-c861d97593d5.jpg',\n",
              " 'gdrive/My Drive/CNN_assignment/Train/nevus/output/nevus_original_ISIC_0024771.jpg_e60806f1-de35-449e-a68d-00443b9898f6.jpg',\n",
              " 'gdrive/My Drive/CNN_assignment/Train/nevus/output/nevus_original_ISIC_0000528.jpg_6ec69553-a4cb-4176-b404-091c492e103c.jpg',\n",
              " 'gdrive/My Drive/CNN_assignment/Train/nevus/output/nevus_original_ISIC_0029141.jpg_b8cb4864-2792-4eec-99c9-3407e6cf559f.jpg',\n",
              " 'gdrive/My Drive/CNN_assignment/Train/nevus/output/nevus_original_ISIC_0000342.jpg_c1653f9a-2aa2-4f13-9d37-f3ab7cf7ed63.jpg',\n",
              " 'gdrive/My Drive/CNN_assignment/Train/nevus/output/nevus_original_ISIC_0000493.jpg_e51249ca-09ab-4d77-82dd-5ddf48b6f972.jpg',\n",
              " 'gdrive/My Drive/CNN_assignment/Train/nevus/output/nevus_original_ISIC_0000084.jpg_0dd2cc2f-4f09-466b-9682-aeceb18128d7.jpg',\n",
              " 'gdrive/My Drive/CNN_assignment/Train/nevus/output/nevus_original_ISIC_0000496.jpg_c9ec31f3-f7c1-4996-a9a4-e422071adbf9.jpg',\n",
              " 'gdrive/My Drive/CNN_assignment/Train/nevus/output/nevus_original_ISIC_0026702.jpg_a6049d22-1dc9-452c-a033-9d1c77e6db98.jpg',\n",
              " 'gdrive/My Drive/CNN_assignment/Train/nevus/output/nevus_original_ISIC_0000335.jpg_9e482bde-e512-4378-975f-25945511bbc8.jpg',\n",
              " 'gdrive/My Drive/CNN_assignment/Train/nevus/output/nevus_original_ISIC_0000501.jpg_9003d489-3de4-468a-8514-120a43224cd7.jpg',\n",
              " 'gdrive/My Drive/CNN_assignment/Train/nevus/output/nevus_original_ISIC_0000532.jpg_767770bb-0c7f-4def-82ab-ac011c484e4a.jpg',\n",
              " 'gdrive/My Drive/CNN_assignment/Train/nevus/output/nevus_original_ISIC_0000514.jpg_818c2524-76b8-4c09-9e8e-2d256977770b.jpg',\n",
              " 'gdrive/My Drive/CNN_assignment/Train/nevus/output/nevus_original_ISIC_0000357.jpg_a355da2c-fe0e-4c3f-80ea-00a990ff31b3.jpg',\n",
              " 'gdrive/My Drive/CNN_assignment/Train/nevus/output/nevus_original_ISIC_0000096.jpg_47b98c6c-cffe-413e-a9bd-7f587f1024e1.jpg',\n",
              " 'gdrive/My Drive/CNN_assignment/Train/nevus/output/nevus_original_ISIC_0000495.jpg_3b3f7632-078f-433a-af86-868dc280ea47.jpg',\n",
              " 'gdrive/My Drive/CNN_assignment/Train/nevus/output/nevus_original_ISIC_0000271.jpg_7f32553b-a4fd-4a45-9a99-aabf92b14303.jpg',\n",
              " 'gdrive/My Drive/CNN_assignment/Train/nevus/output/nevus_original_ISIC_0000361.jpg_00a0163f-2bd2-4d75-aaca-65c913880392.jpg',\n",
              " 'gdrive/My Drive/CNN_assignment/Train/nevus/output/nevus_original_ISIC_0026575.jpg_d01571e0-24a5-4cd8-8c76-77ec0a43be61.jpg',\n",
              " 'gdrive/My Drive/CNN_assignment/Train/nevus/output/nevus_original_ISIC_0000479.jpg_595a9f0e-0caa-437a-a5a3-020372a0f195.jpg',\n",
              " 'gdrive/My Drive/CNN_assignment/Train/nevus/output/nevus_original_ISIC_0000506.jpg_7c0d3a8d-a9db-42c7-881a-ac67b4ced9e9.jpg',\n",
              " 'gdrive/My Drive/CNN_assignment/Train/nevus/output/nevus_original_ISIC_0000243.jpg_e8d3fc1e-6ba8-480f-ae65-d2689a5ffdcc.jpg',\n",
              " 'gdrive/My Drive/CNN_assignment/Train/nevus/output/nevus_original_ISIC_0000483.jpg_c31ab647-176c-4000-a299-ef131baa7a41.jpg',\n",
              " 'gdrive/My Drive/CNN_assignment/Train/nevus/output/nevus_original_ISIC_0000351.jpg_0c1d266a-8533-43ee-99af-5ae6775746ee.jpg',\n",
              " 'gdrive/My Drive/CNN_assignment/Train/nevus/output/nevus_original_ISIC_0024646.jpg_7b3ed2a0-fc8c-4edd-8e3c-8d2ff3a96988.jpg',\n",
              " 'gdrive/My Drive/CNN_assignment/Train/nevus/output/nevus_original_ISIC_0000443.jpg_1ca21014-4fcd-42d3-b3d1-48966910a22d.jpg',\n",
              " 'gdrive/My Drive/CNN_assignment/Train/nevus/output/nevus_original_ISIC_0000271.jpg_5f46f91c-984b-4d3e-8f25-bc4fe4bf06ac.jpg',\n",
              " 'gdrive/My Drive/CNN_assignment/Train/nevus/output/nevus_original_ISIC_0000052.jpg_8df8ff6c-fad5-494d-9fab-67c7c216a5ec.jpg',\n",
              " 'gdrive/My Drive/CNN_assignment/Train/nevus/output/nevus_original_ISIC_0025957.jpg_3cace2f3-a10e-478e-84ec-323dcc1f64af.jpg',\n",
              " 'gdrive/My Drive/CNN_assignment/Train/nevus/output/nevus_original_ISIC_0028190.jpg_7ff85c07-4e74-49c7-b9a2-6926f834bb59.jpg',\n",
              " 'gdrive/My Drive/CNN_assignment/Train/nevus/output/nevus_original_ISIC_0000418.jpg_521d790f-81cc-48e7-87c4-3dbd590b7b3f.jpg',\n",
              " 'gdrive/My Drive/CNN_assignment/Train/nevus/output/nevus_original_ISIC_0000265.jpg_ca5a7f0b-62d3-4b46-8def-7cd564509f54.jpg',\n",
              " 'gdrive/My Drive/CNN_assignment/Train/nevus/output/nevus_original_ISIC_0026525.jpg_39281f89-eb65-48c5-bf25-c43035af24cb.jpg',\n",
              " 'gdrive/My Drive/CNN_assignment/Train/nevus/output/nevus_original_ISIC_0000525.jpg_2b0809a2-35c6-44b9-b34c-d6e346ef1040.jpg',\n",
              " 'gdrive/My Drive/CNN_assignment/Train/nevus/output/nevus_original_ISIC_0000385.jpg_f0185f52-2824-4913-9592-e849e53354f2.jpg',\n",
              " 'gdrive/My Drive/CNN_assignment/Train/nevus/output/nevus_original_ISIC_0000081.jpg_b45e543c-a9ac-4214-9a54-a5fde478ebbe.jpg',\n",
              " 'gdrive/My Drive/CNN_assignment/Train/nevus/output/nevus_original_ISIC_0000089.jpg_b7c762f7-0682-4552-aaaf-c7935b310b10.jpg',\n",
              " 'gdrive/My Drive/CNN_assignment/Train/nevus/output/nevus_original_ISIC_0000227.jpg_192b06de-03d0-4d9d-8087-01b786ef1df9.jpg',\n",
              " 'gdrive/My Drive/CNN_assignment/Train/nevus/output/nevus_original_ISIC_0027172.jpg_43c678e4-6843-48fa-8667-8669864b930e.jpg',\n",
              " 'gdrive/My Drive/CNN_assignment/Train/nevus/output/nevus_original_ISIC_0000349.jpg_091be815-a354-4393-bbc0-b57e6c97f2ec.jpg',\n",
              " 'gdrive/My Drive/CNN_assignment/Train/nevus/output/nevus_original_ISIC_0000020.jpg_844e01ee-27b9-4960-9e4a-a91803b87c81.jpg',\n",
              " 'gdrive/My Drive/CNN_assignment/Train/nevus/output/nevus_original_ISIC_0000339.jpg_965f0c80-3e10-49ce-8524-39357093894a.jpg',\n",
              " 'gdrive/My Drive/CNN_assignment/Train/nevus/output/nevus_original_ISIC_0000323.jpg_7db8e112-6a62-4ec2-a29f-7289d29fbd2a.jpg',\n",
              " 'gdrive/My Drive/CNN_assignment/Train/nevus/output/nevus_original_ISIC_0027447.jpg_e5699849-8d28-4b1e-949e-955a05bb2d6f.jpg',\n",
              " 'gdrive/My Drive/CNN_assignment/Train/nevus/output/nevus_original_ISIC_0000225.jpg_c03fcf08-e3aa-4d70-9765-1d5a0abfccc3.jpg',\n",
              " 'gdrive/My Drive/CNN_assignment/Train/nevus/output/nevus_original_ISIC_0028854.jpg_32537e15-ca8b-4bb8-9e5d-8547acac2ef4.jpg',\n",
              " 'gdrive/My Drive/CNN_assignment/Train/nevus/output/nevus_original_ISIC_0000449.jpg_4150274f-493a-425b-ae2b-7e5fe816da00.jpg',\n",
              " 'gdrive/My Drive/CNN_assignment/Train/nevus/output/nevus_original_ISIC_0000250.jpg_f4299fad-af4c-42b9-9ab7-08c751f8d52e.jpg',\n",
              " 'gdrive/My Drive/CNN_assignment/Train/nevus/output/nevus_original_ISIC_0026857.jpg_09590e46-75c4-48ac-9f40-9320203fced0.jpg',\n",
              " 'gdrive/My Drive/CNN_assignment/Train/nevus/output/nevus_original_ISIC_0000375.jpg_43314965-5cc7-4170-90d8-eb6ebd31a08d.jpg',\n",
              " 'gdrive/My Drive/CNN_assignment/Train/nevus/output/nevus_original_ISIC_0024800.jpg_8f717472-10a6-4f1d-9592-7943dfe379c6.jpg',\n",
              " 'gdrive/My Drive/CNN_assignment/Train/nevus/output/nevus_original_ISIC_0000392.jpg_b8003b07-851c-43fe-9e6a-21b49af5b227.jpg',\n",
              " 'gdrive/My Drive/CNN_assignment/Train/nevus/output/nevus_original_ISIC_0028558.jpg_06e14149-f265-4827-816f-cb8e74ee16c3.jpg',\n",
              " 'gdrive/My Drive/CNN_assignment/Train/nevus/output/nevus_original_ISIC_0000066.jpg_a38a0fe3-8bd3-4de3-823b-ce0d32beff10.jpg',\n",
              " 'gdrive/My Drive/CNN_assignment/Train/nevus/output/nevus_original_ISIC_0000093.jpg_0b2e5f31-b402-4e20-bad9-71febd736adb.jpg',\n",
              " 'gdrive/My Drive/CNN_assignment/Train/nevus/output/nevus_original_ISIC_0000464.jpg_ebb909bf-ba86-49da-8606-3c0e590a6e0e.jpg',\n",
              " 'gdrive/My Drive/CNN_assignment/Train/nevus/output/nevus_original_ISIC_0000403.jpg_cdbe15c4-ab00-4dbc-84d4-eadde1d2f9e6.jpg',\n",
              " 'gdrive/My Drive/CNN_assignment/Train/nevus/output/nevus_original_ISIC_0000268.jpg_bbd65206-59b9-45f0-943e-6fe625ff1537.jpg',\n",
              " 'gdrive/My Drive/CNN_assignment/Train/nevus/output/nevus_original_ISIC_0000233.jpg_339acb48-00f7-41ae-9c9c-c2d55280998b.jpg',\n",
              " 'gdrive/My Drive/CNN_assignment/Train/nevus/output/nevus_original_ISIC_0000498.jpg_7d606c18-4dd1-49cd-b02b-5b526f34c80c.jpg',\n",
              " 'gdrive/My Drive/CNN_assignment/Train/nevus/output/nevus_original_ISIC_0026468.jpg_804878af-1afe-4cbc-b80e-10c9c1af8f04.jpg',\n",
              " 'gdrive/My Drive/CNN_assignment/Train/nevus/output/nevus_original_ISIC_0000096.jpg_5b9e6994-5b07-4ed1-8b37-f1f2e9bb1a71.jpg',\n",
              " 'gdrive/My Drive/CNN_assignment/Train/nevus/output/nevus_original_ISIC_0000225.jpg_2b2946d7-6eac-432c-bfe9-907dc0491ed8.jpg',\n",
              " 'gdrive/My Drive/CNN_assignment/Train/nevus/output/nevus_original_ISIC_0028063.jpg_949d1af2-7619-4c07-b299-493b14598c60.jpg',\n",
              " 'gdrive/My Drive/CNN_assignment/Train/nevus/output/nevus_original_ISIC_0000416.jpg_20f5bb3f-cbc7-4d5a-8f9f-8a33218e092d.jpg',\n",
              " 'gdrive/My Drive/CNN_assignment/Train/nevus/output/nevus_original_ISIC_0025953.jpg_94b4f2da-3a83-49df-aa14-2d37e5ba1126.jpg',\n",
              " 'gdrive/My Drive/CNN_assignment/Train/nevus/output/nevus_original_ISIC_0000435.jpg_cd5fe055-809b-41f1-8487-df5b71a8b206.jpg',\n",
              " 'gdrive/My Drive/CNN_assignment/Train/nevus/output/nevus_original_ISIC_0026984.jpg_c7df4389-52ea-4f2f-870d-9ccddb00c82e.jpg',\n",
              " 'gdrive/My Drive/CNN_assignment/Train/nevus/output/nevus_original_ISIC_0000346.jpg_38010357-c034-45fb-9d35-17c632493e4f.jpg',\n",
              " 'gdrive/My Drive/CNN_assignment/Train/nevus/output/nevus_original_ISIC_0000058.jpg_8bfd0abc-d337-4dc0-814a-6421ca21a159.jpg',\n",
              " 'gdrive/My Drive/CNN_assignment/Train/nevus/output/nevus_original_ISIC_0027829.jpg_a38de878-0e9d-4303-9a71-41595fd9b923.jpg',\n",
              " 'gdrive/My Drive/CNN_assignment/Train/nevus/output/nevus_original_ISIC_0000318.jpg_881a99b7-eaaf-4742-bad7-dbd57843d6e4.jpg',\n",
              " 'gdrive/My Drive/CNN_assignment/Train/nevus/output/nevus_original_ISIC_0027802.jpg_058db0c8-3817-4bb7-acd2-be3bc2d98203.jpg',\n",
              " 'gdrive/My Drive/CNN_assignment/Train/nevus/output/nevus_original_ISIC_0000477.jpg_ac9322c0-231f-4942-ba56-12dc9fbc9f38.jpg',\n",
              " 'gdrive/My Drive/CNN_assignment/Train/nevus/output/nevus_original_ISIC_0000442.jpg_c1111c18-0499-496c-a3dc-a9fe99436639.jpg',\n",
              " 'gdrive/My Drive/CNN_assignment/Train/nevus/output/nevus_original_ISIC_0026525.jpg_8a40bf63-cc3a-4d62-a5cd-059e6a789cc5.jpg',\n",
              " 'gdrive/My Drive/CNN_assignment/Train/nevus/output/nevus_original_ISIC_0027650.jpg_14413a65-4b37-42dd-ae3f-80082d87ef7e.jpg',\n",
              " 'gdrive/My Drive/CNN_assignment/Train/nevus/output/nevus_original_ISIC_0029309.jpg_7c82fb79-9cff-432a-8a85-9d02b23a6ff3.jpg',\n",
              " 'gdrive/My Drive/CNN_assignment/Train/nevus/output/nevus_original_ISIC_0000543.jpg_133309de-a34c-425d-a3b0-463d5450c560.jpg',\n",
              " 'gdrive/My Drive/CNN_assignment/Train/nevus/output/nevus_original_ISIC_0000506.jpg_e8aaa473-3d6b-45c1-9272-6a05f17a22a1.jpg',\n",
              " 'gdrive/My Drive/CNN_assignment/Train/nevus/output/nevus_original_ISIC_0000378.jpg_0d226382-843e-4ee6-84a5-da08877f65ac.jpg',\n",
              " 'gdrive/My Drive/CNN_assignment/Train/nevus/output/nevus_original_ISIC_0025368.jpg_be6bc5af-2d4a-46ff-b731-b6feaec7f23c.jpg',\n",
              " 'gdrive/My Drive/CNN_assignment/Train/nevus/output/nevus_original_ISIC_0000424.jpg_51ecd543-1db7-4fb7-982f-122a42eadb43.jpg',\n",
              " 'gdrive/My Drive/CNN_assignment/Train/nevus/output/nevus_original_ISIC_0026525.jpg_31217eaf-0347-4cd4-9c27-af5aa956a3d7.jpg',\n",
              " 'gdrive/My Drive/CNN_assignment/Train/nevus/output/nevus_original_ISIC_0000453.jpg_d823af55-a435-4a51-9ba0-44d971414435.jpg',\n",
              " 'gdrive/My Drive/CNN_assignment/Train/nevus/output/nevus_original_ISIC_0028517.jpg_0c6181ca-6486-4bfc-89b7-b6bf0af54bf8.jpg',\n",
              " 'gdrive/My Drive/CNN_assignment/Train/nevus/output/nevus_original_ISIC_0000259.jpg_21d06104-02cc-43a1-a061-d65e9a615682.jpg',\n",
              " 'gdrive/My Drive/CNN_assignment/Train/nevus/output/nevus_original_ISIC_0029309.jpg_16fce6a9-71cd-415d-ac8a-17f48fadf7f8.jpg',\n",
              " 'gdrive/My Drive/CNN_assignment/Train/nevus/output/nevus_original_ISIC_0000342.jpg_af379db6-7b86-458f-b064-1cf28e6229a1.jpg',\n",
              " 'gdrive/My Drive/CNN_assignment/Train/nevus/output/nevus_original_ISIC_0028517.jpg_0fd8b0cb-8ab4-486f-ba98-2d2d1cf68304.jpg',\n",
              " 'gdrive/My Drive/CNN_assignment/Train/nevus/output/nevus_original_ISIC_0000235.jpg_c6e6dbe5-75e4-4b60-ac5b-d1c4d7b42ec1.jpg',\n",
              " 'gdrive/My Drive/CNN_assignment/Train/nevus/output/nevus_original_ISIC_0000379.jpg_db791c2e-11b7-4ae2-8f32-208fa2e63ba4.jpg',\n",
              " 'gdrive/My Drive/CNN_assignment/Train/nevus/output/nevus_original_ISIC_0029210.jpg_cf017f95-0e59-414c-a25a-c53d03c43f6f.jpg',\n",
              " 'gdrive/My Drive/CNN_assignment/Train/nevus/output/nevus_original_ISIC_0024913.jpg_165d7eee-37d6-451b-98d7-afc967f581d7.jpg',\n",
              " 'gdrive/My Drive/CNN_assignment/Train/nevus/output/nevus_original_ISIC_0029041.jpg_f5697a7e-8fa0-4f5d-a562-1d4ed97cc4b1.jpg',\n",
              " 'gdrive/My Drive/CNN_assignment/Train/nevus/output/nevus_original_ISIC_0000500.jpg_b8af6906-09d2-4136-929c-cf23afa5fdb3.jpg',\n",
              " 'gdrive/My Drive/CNN_assignment/Train/nevus/output/nevus_original_ISIC_0000431.jpg_e05c66a0-ecf3-4f9c-acfa-fe52879ee339.jpg',\n",
              " 'gdrive/My Drive/CNN_assignment/Train/nevus/output/nevus_original_ISIC_0000439.jpg_02be24ca-0776-4399-bcaf-be3f2bc13b05.jpg',\n",
              " 'gdrive/My Drive/CNN_assignment/Train/nevus/output/nevus_original_ISIC_0000493.jpg_0bf2206c-3650-4206-a5b4-25ae9f50dd3d.jpg',\n",
              " 'gdrive/My Drive/CNN_assignment/Train/nevus/output/nevus_original_ISIC_0000391.jpg_b8bef05f-5ec5-493c-bcaa-4f628d0769c2.jpg',\n",
              " 'gdrive/My Drive/CNN_assignment/Train/nevus/output/nevus_original_ISIC_0000364.jpg_ff37f4b1-c8db-4433-8d71-0cd0a5b67ed0.jpg',\n",
              " 'gdrive/My Drive/CNN_assignment/Train/nevus/output/nevus_original_ISIC_0027950.jpg_7f19605e-2246-45a8-8de4-570c9d85572c.jpg',\n",
              " 'gdrive/My Drive/CNN_assignment/Train/nevus/output/nevus_original_ISIC_0025803.jpg_cf9448bb-33a8-47f6-9b26-559b6930bb85.jpg',\n",
              " 'gdrive/My Drive/CNN_assignment/Train/nevus/output/nevus_original_ISIC_0000328.jpg_50c8f614-e1fa-48d0-b7dd-b453d8afcdf3.jpg',\n",
              " 'gdrive/My Drive/CNN_assignment/Train/nevus/output/nevus_original_ISIC_0000228.jpg_daaa2055-8cb7-4741-bcda-7438cd6570cc.jpg',\n",
              " 'gdrive/My Drive/CNN_assignment/Train/nevus/output/nevus_original_ISIC_0000041.jpg_3790402d-1997-4bfd-b74e-ff998e4dc9b2.jpg',\n",
              " 'gdrive/My Drive/CNN_assignment/Train/nevus/output/nevus_original_ISIC_0027562.jpg_966b0fbd-f96a-499d-8405-74f5e2324f50.jpg',\n",
              " 'gdrive/My Drive/CNN_assignment/Train/nevus/output/nevus_original_ISIC_0000055.jpg_a48b854a-6cd1-48f0-bb3b-10a51a3fb652.jpg',\n",
              " 'gdrive/My Drive/CNN_assignment/Train/nevus/output/nevus_original_ISIC_0000423.jpg_3d6151f1-14bd-4c1c-95c5-086159d3cef3.jpg',\n",
              " 'gdrive/My Drive/CNN_assignment/Train/nevus/output/nevus_original_ISIC_0000364.jpg_6415c989-b7e1-499f-b060-e49e11af9030.jpg',\n",
              " 'gdrive/My Drive/CNN_assignment/Train/nevus/output/nevus_original_ISIC_0024913.jpg_3a923fdf-7d1b-4e85-aec7-fda2f0251b7d.jpg',\n",
              " 'gdrive/My Drive/CNN_assignment/Train/nevus/output/nevus_original_ISIC_0000237.jpg_4da3f1c1-d2ee-41fa-ae3d-6ac99d92393c.jpg',\n",
              " 'gdrive/My Drive/CNN_assignment/Train/nevus/output/nevus_original_ISIC_0000408.jpg_395c780c-5cda-412b-82aa-f78381457e3f.jpg',\n",
              " 'gdrive/My Drive/CNN_assignment/Train/nevus/output/nevus_original_ISIC_0000483.jpg_7936fab3-1d53-4d0c-bae0-f981e0367d18.jpg',\n",
              " 'gdrive/My Drive/CNN_assignment/Train/nevus/output/nevus_original_ISIC_0029460.jpg_b7798203-33ce-4384-ae6f-c9be948f2b74.jpg',\n",
              " 'gdrive/My Drive/CNN_assignment/Train/nevus/output/nevus_original_ISIC_0027829.jpg_b5af2b5c-1890-4a8f-972b-a0bba98e978b.jpg',\n",
              " 'gdrive/My Drive/CNN_assignment/Train/nevus/output/nevus_original_ISIC_0000510.jpg_07073059-8d91-429c-b1b6-e41598d1c890.jpg',\n",
              " 'gdrive/My Drive/CNN_assignment/Train/nevus/output/nevus_original_ISIC_0025605.jpg_f2096e23-78a9-4f49-9e3e-27ef9a453124.jpg',\n",
              " 'gdrive/My Drive/CNN_assignment/Train/nevus/output/nevus_original_ISIC_0025780.jpg_490371ed-2476-4c90-afd1-8c580281d79e.jpg',\n",
              " 'gdrive/My Drive/CNN_assignment/Train/nevus/output/nevus_original_ISIC_0000326.jpg_7a4e7252-8fb2-43bf-be2a-9c3bebf1d522.jpg',\n",
              " 'gdrive/My Drive/CNN_assignment/Train/nevus/output/nevus_original_ISIC_0000345.jpg_6fbd1708-70c9-45fe-bedf-4e7d10e9f1ac.jpg',\n",
              " 'gdrive/My Drive/CNN_assignment/Train/nevus/output/nevus_original_ISIC_0000351.jpg_1df544a9-64c6-46da-ade5-86ed1d6d8604.jpg',\n",
              " 'gdrive/My Drive/CNN_assignment/Train/nevus/output/nevus_original_ISIC_0000087.jpg_8b766625-56b7-44cd-9ba8-e958a8444b46.jpg',\n",
              " 'gdrive/My Drive/CNN_assignment/Train/nevus/output/nevus_original_ISIC_0000512.jpg_a5753e2d-bf94-41c7-bde9-7f684c0ead9d.jpg',\n",
              " 'gdrive/My Drive/CNN_assignment/Train/nevus/output/nevus_original_ISIC_0000093.jpg_d567a4cf-b2ab-4fb5-b15c-f8f2d685593f.jpg',\n",
              " 'gdrive/My Drive/CNN_assignment/Train/nevus/output/nevus_original_ISIC_0000060.jpg_9e51f488-6d7f-4783-8998-5e2eb5cc7c5a.jpg',\n",
              " 'gdrive/My Drive/CNN_assignment/Train/nevus/output/nevus_original_ISIC_0000240.jpg_2d4eda85-308d-47ce-8789-aa7b5e850d7a.jpg',\n",
              " 'gdrive/My Drive/CNN_assignment/Train/nevus/output/nevus_original_ISIC_0026984.jpg_9151e71e-4c4b-4f73-8064-95702735d656.jpg',\n",
              " 'gdrive/My Drive/CNN_assignment/Train/nevus/output/nevus_original_ISIC_0000451.jpg_bd661101-b9dd-4e91-89bd-cd31522b4d5d.jpg',\n",
              " 'gdrive/My Drive/CNN_assignment/Train/nevus/output/nevus_original_ISIC_0000403.jpg_99f06608-ed21-4336-9bce-f69d048f3f67.jpg',\n",
              " 'gdrive/My Drive/CNN_assignment/Train/nevus/output/nevus_original_ISIC_0000474.jpg_edc52521-5495-408e-9fff-c8f2f42ddd97.jpg',\n",
              " 'gdrive/My Drive/CNN_assignment/Train/nevus/output/nevus_original_ISIC_0000042.jpg_e41ded39-6c9e-450b-b551-41bf592a06d8.jpg',\n",
              " 'gdrive/My Drive/CNN_assignment/Train/nevus/output/nevus_original_ISIC_0000053.jpg_d9a6124d-31d5-444f-8186-338c9ba3079c.jpg',\n",
              " 'gdrive/My Drive/CNN_assignment/Train/nevus/output/nevus_original_ISIC_0000423.jpg_41d38910-f8d3-421a-9146-53f383a50f4f.jpg',\n",
              " 'gdrive/My Drive/CNN_assignment/Train/nevus/output/nevus_original_ISIC_0000246.jpg_a7fcc414-c8e9-4e86-bab3-8a8ec8d412b4.jpg',\n",
              " 'gdrive/My Drive/CNN_assignment/Train/nevus/output/nevus_original_ISIC_0000323.jpg_449fcf38-a8a9-45e6-9271-996ce550a325.jpg',\n",
              " 'gdrive/My Drive/CNN_assignment/Train/nevus/output/nevus_original_ISIC_0027668.jpg_60e72d9d-c99e-45f5-823e-21fcf5f9eae0.jpg',\n",
              " 'gdrive/My Drive/CNN_assignment/Train/nevus/output/nevus_original_ISIC_0000496.jpg_62e2a8b7-da4c-4bfe-b645-d28cb65c410e.jpg',\n",
              " 'gdrive/My Drive/CNN_assignment/Train/nevus/output/nevus_original_ISIC_0029141.jpg_d089635e-54f3-4554-aa0b-bf36f9896d5d.jpg',\n",
              " 'gdrive/My Drive/CNN_assignment/Train/nevus/output/nevus_original_ISIC_0026765.jpg_a0469eff-a876-424e-8d3e-1f054ab92184.jpg',\n",
              " 'gdrive/My Drive/CNN_assignment/Train/nevus/output/nevus_original_ISIC_0028076.jpg_f0c81824-4881-4b75-82ec-a8e1555079e0.jpg',\n",
              " 'gdrive/My Drive/CNN_assignment/Train/nevus/output/nevus_original_ISIC_0025780.jpg_833a2b9a-2f9a-4e83-a9f8-6878348e7e26.jpg',\n",
              " 'gdrive/My Drive/CNN_assignment/Train/nevus/output/nevus_original_ISIC_0000221.jpg_df7cd7ce-ea97-462d-9f67-844cdf9a10f3.jpg',\n",
              " 'gdrive/My Drive/CNN_assignment/Train/nevus/output/nevus_original_ISIC_0000356.jpg_63f5d71a-0398-46c0-b0a4-ba4363a28852.jpg',\n",
              " 'gdrive/My Drive/CNN_assignment/Train/nevus/output/nevus_original_ISIC_0000540.jpg_862448a3-a086-407f-bbd7-fc43a6a1a0b4.jpg',\n",
              " 'gdrive/My Drive/CNN_assignment/Train/nevus/output/nevus_original_ISIC_0000323.jpg_a844ff1f-4f7e-4632-84b0-f108335892de.jpg',\n",
              " 'gdrive/My Drive/CNN_assignment/Train/nevus/output/nevus_original_ISIC_0000384.jpg_c58dd70f-7ca8-4493-be56-8ef6bc34dec0.jpg',\n",
              " 'gdrive/My Drive/CNN_assignment/Train/nevus/output/nevus_original_ISIC_0000087.jpg_d5ea61a9-2b3c-43f5-ad24-928126596616.jpg',\n",
              " 'gdrive/My Drive/CNN_assignment/Train/nevus/output/nevus_original_ISIC_0000334.jpg_166b9a76-3e5c-4860-8e0d-1199255ac12b.jpg',\n",
              " 'gdrive/My Drive/CNN_assignment/Train/nevus/output/nevus_original_ISIC_0029025.jpg_1291c2f8-0518-4d4c-b5e2-ca7ab9291c67.jpg',\n",
              " 'gdrive/My Drive/CNN_assignment/Train/nevus/output/nevus_original_ISIC_0000099.jpg_6ea9ed12-0f9e-44df-a203-0d73bb5729cc.jpg',\n",
              " 'gdrive/My Drive/CNN_assignment/Train/nevus/output/nevus_original_ISIC_0000424.jpg_4e36cd40-6f2c-465a-bb88-4c2f47aeb329.jpg',\n",
              " 'gdrive/My Drive/CNN_assignment/Train/nevus/output/nevus_original_ISIC_0000416.jpg_4710c6c0-4811-433d-9d03-487483850ba9.jpg',\n",
              " 'gdrive/My Drive/CNN_assignment/Train/nevus/output/nevus_original_ISIC_0000250.jpg_3d6320e8-9372-491a-a1ec-a39277d72a8e.jpg',\n",
              " 'gdrive/My Drive/CNN_assignment/Train/nevus/output/nevus_original_ISIC_0000539.jpg_50a336b2-a4cc-422b-a184-3d8cc2f8d5c7.jpg',\n",
              " 'gdrive/My Drive/CNN_assignment/Train/nevus/output/nevus_original_ISIC_0025427.jpg_2dfe20fb-04a4-4cd3-8137-95d6fef5cd93.jpg',\n",
              " 'gdrive/My Drive/CNN_assignment/Train/nevus/output/nevus_original_ISIC_0000268.jpg_27f92621-f430-43d7-af45-5bb5e7137527.jpg',\n",
              " 'gdrive/My Drive/CNN_assignment/Train/nevus/output/nevus_original_ISIC_0028854.jpg_a4e1b260-ec00-4ad0-8432-9407cd214f13.jpg',\n",
              " 'gdrive/My Drive/CNN_assignment/Train/nevus/output/nevus_original_ISIC_0000246.jpg_dc70317a-0e03-492b-9cd5-b99416dfea44.jpg',\n",
              " 'gdrive/My Drive/CNN_assignment/Train/nevus/output/nevus_original_ISIC_0000087.jpg_8ace7737-389d-4c39-85ec-ac826e33c5d9.jpg',\n",
              " 'gdrive/My Drive/CNN_assignment/Train/nevus/output/nevus_original_ISIC_0000343.jpg_a7e04bc9-d46a-40cc-a6f0-848a85c1a325.jpg',\n",
              " 'gdrive/My Drive/CNN_assignment/Train/nevus/output/nevus_original_ISIC_0024771.jpg_d3b21857-4aa0-40e1-95aa-7e3f7f274c4f.jpg',\n",
              " 'gdrive/My Drive/CNN_assignment/Train/nevus/output/nevus_original_ISIC_0000366.jpg_9dac52e4-0342-4865-8207-42955428655d.jpg',\n",
              " 'gdrive/My Drive/CNN_assignment/Train/nevus/output/nevus_original_ISIC_0000363.jpg_37acadb7-7ac8-4d50-996b-eaf4c93828ef.jpg',\n",
              " 'gdrive/My Drive/CNN_assignment/Train/nevus/output/nevus_original_ISIC_0025953.jpg_a3ee8c56-a7ce-4b57-ae08-9c485b0d6bce.jpg',\n",
              " 'gdrive/My Drive/CNN_assignment/Train/nevus/output/nevus_original_ISIC_0029133.jpg_6b2160f5-97e0-4e28-9a11-59d7f18bf49f.jpg',\n",
              " 'gdrive/My Drive/CNN_assignment/Train/nevus/output/nevus_original_ISIC_0000509.jpg_e76e430e-75db-4f1c-a76f-c98f1bcf4499.jpg',\n",
              " 'gdrive/My Drive/CNN_assignment/Train/nevus/output/nevus_original_ISIC_0029133.jpg_c248e13d-cef1-4bd5-b11b-2fe711f495d2.jpg',\n",
              " 'gdrive/My Drive/CNN_assignment/Train/nevus/output/nevus_original_ISIC_0000490.jpg_e812fe3b-24b1-4745-b0f7-10c4a9748322.jpg',\n",
              " 'gdrive/My Drive/CNN_assignment/Train/nevus/output/nevus_original_ISIC_0000338.jpg_13a6c8f0-b4a1-4933-9597-f24ab9e9fa53.jpg',\n",
              " 'gdrive/My Drive/CNN_assignment/Train/nevus/output/nevus_original_ISIC_0000538.jpg_b25c8a1c-58e2-4831-8063-5891f9ce1c4d.jpg',\n",
              " 'gdrive/My Drive/CNN_assignment/Train/nevus/output/nevus_original_ISIC_0000363.jpg_95a85436-58c9-48dd-8dde-8d329e2dd65a.jpg',\n",
              " 'gdrive/My Drive/CNN_assignment/Train/nevus/output/nevus_original_ISIC_0024511.jpg_2fa4f341-7c4b-441a-9bcf-a0687ecbb1d4.jpg',\n",
              " 'gdrive/My Drive/CNN_assignment/Train/nevus/output/nevus_original_ISIC_0000344.jpg_a244663d-a7ed-423a-8fd5-a575f5da2abc.jpg',\n",
              " 'gdrive/My Drive/CNN_assignment/Train/nevus/output/nevus_original_ISIC_0000330.jpg_38fb2f42-ef96-496a-8c98-29f211e2e915.jpg',\n",
              " 'gdrive/My Drive/CNN_assignment/Train/nevus/output/nevus_original_ISIC_0000362.jpg_430b636a-6d4d-4877-8884-ad3b25044971.jpg',\n",
              " 'gdrive/My Drive/CNN_assignment/Train/nevus/output/nevus_original_ISIC_0000221.jpg_19732f5f-83b1-4d47-ad6d-0b16cde1cbcb.jpg',\n",
              " 'gdrive/My Drive/CNN_assignment/Train/nevus/output/nevus_original_ISIC_0000244.jpg_db15ce8b-272a-43e3-a96c-ff8a80a1b404.jpg',\n",
              " 'gdrive/My Drive/CNN_assignment/Train/nevus/output/nevus_original_ISIC_0000422.jpg_12cd2cb2-521e-45f5-89f2-f769ded300df.jpg',\n",
              " 'gdrive/My Drive/CNN_assignment/Train/nevus/output/nevus_original_ISIC_0027650.jpg_fd605494-15dd-4bd0-b7fa-ed0fa4ffb2c5.jpg',\n",
              " 'gdrive/My Drive/CNN_assignment/Train/nevus/output/nevus_original_ISIC_0000093.jpg_e511a11f-43eb-49fd-b9a2-5416fabb472e.jpg',\n",
              " 'gdrive/My Drive/CNN_assignment/Train/nevus/output/nevus_original_ISIC_0000221.jpg_46f6b5fe-b61d-42cc-85db-4e737128bb02.jpg',\n",
              " 'gdrive/My Drive/CNN_assignment/Train/nevus/output/nevus_original_ISIC_0000423.jpg_5c3ea03e-ad0c-494b-af57-b6166d4db313.jpg',\n",
              " 'gdrive/My Drive/CNN_assignment/Train/nevus/output/nevus_original_ISIC_0000099.jpg_6e614716-8e18-4171-933c-08add2486acf.jpg',\n",
              " ...]"
            ]
          },
          "metadata": {},
          "execution_count": 28
        }
      ]
    },
    {
      "cell_type": "code",
      "source": [
        "lesion_list_new = [os.path.basename(os.path.dirname(os.path.dirname(y))) for y in glob(os.path.join(data_dir_train, '*','output', '*.jpg'))]\n",
        "lesion_list_new"
      ],
      "metadata": {
        "colab": {
          "base_uri": "https://localhost:8080/"
        },
        "id": "HDaeRJAmLZ-u",
        "outputId": "74e1f7e6-eaa2-40fe-e8f7-56ecf2d6a463"
      },
      "execution_count": 29,
      "outputs": [
        {
          "output_type": "execute_result",
          "data": {
            "text/plain": [
              "['melanoma',\n",
              " 'melanoma',\n",
              " 'melanoma',\n",
              " 'melanoma',\n",
              " 'melanoma',\n",
              " 'melanoma',\n",
              " 'melanoma',\n",
              " 'melanoma',\n",
              " 'melanoma',\n",
              " 'melanoma',\n",
              " 'melanoma',\n",
              " 'melanoma',\n",
              " 'melanoma',\n",
              " 'melanoma',\n",
              " 'melanoma',\n",
              " 'melanoma',\n",
              " 'melanoma',\n",
              " 'melanoma',\n",
              " 'melanoma',\n",
              " 'melanoma',\n",
              " 'melanoma',\n",
              " 'melanoma',\n",
              " 'melanoma',\n",
              " 'melanoma',\n",
              " 'melanoma',\n",
              " 'melanoma',\n",
              " 'melanoma',\n",
              " 'melanoma',\n",
              " 'melanoma',\n",
              " 'melanoma',\n",
              " 'melanoma',\n",
              " 'melanoma',\n",
              " 'melanoma',\n",
              " 'melanoma',\n",
              " 'melanoma',\n",
              " 'melanoma',\n",
              " 'melanoma',\n",
              " 'melanoma',\n",
              " 'melanoma',\n",
              " 'melanoma',\n",
              " 'melanoma',\n",
              " 'melanoma',\n",
              " 'melanoma',\n",
              " 'melanoma',\n",
              " 'melanoma',\n",
              " 'melanoma',\n",
              " 'melanoma',\n",
              " 'melanoma',\n",
              " 'melanoma',\n",
              " 'melanoma',\n",
              " 'melanoma',\n",
              " 'melanoma',\n",
              " 'melanoma',\n",
              " 'melanoma',\n",
              " 'melanoma',\n",
              " 'melanoma',\n",
              " 'melanoma',\n",
              " 'melanoma',\n",
              " 'melanoma',\n",
              " 'melanoma',\n",
              " 'melanoma',\n",
              " 'melanoma',\n",
              " 'melanoma',\n",
              " 'melanoma',\n",
              " 'melanoma',\n",
              " 'melanoma',\n",
              " 'melanoma',\n",
              " 'melanoma',\n",
              " 'melanoma',\n",
              " 'melanoma',\n",
              " 'melanoma',\n",
              " 'melanoma',\n",
              " 'melanoma',\n",
              " 'melanoma',\n",
              " 'melanoma',\n",
              " 'melanoma',\n",
              " 'melanoma',\n",
              " 'melanoma',\n",
              " 'melanoma',\n",
              " 'melanoma',\n",
              " 'melanoma',\n",
              " 'melanoma',\n",
              " 'melanoma',\n",
              " 'melanoma',\n",
              " 'melanoma',\n",
              " 'melanoma',\n",
              " 'melanoma',\n",
              " 'melanoma',\n",
              " 'melanoma',\n",
              " 'melanoma',\n",
              " 'melanoma',\n",
              " 'melanoma',\n",
              " 'melanoma',\n",
              " 'melanoma',\n",
              " 'melanoma',\n",
              " 'melanoma',\n",
              " 'melanoma',\n",
              " 'melanoma',\n",
              " 'melanoma',\n",
              " 'melanoma',\n",
              " 'melanoma',\n",
              " 'melanoma',\n",
              " 'melanoma',\n",
              " 'melanoma',\n",
              " 'melanoma',\n",
              " 'melanoma',\n",
              " 'melanoma',\n",
              " 'melanoma',\n",
              " 'melanoma',\n",
              " 'melanoma',\n",
              " 'melanoma',\n",
              " 'melanoma',\n",
              " 'melanoma',\n",
              " 'melanoma',\n",
              " 'melanoma',\n",
              " 'melanoma',\n",
              " 'melanoma',\n",
              " 'melanoma',\n",
              " 'melanoma',\n",
              " 'melanoma',\n",
              " 'melanoma',\n",
              " 'melanoma',\n",
              " 'melanoma',\n",
              " 'melanoma',\n",
              " 'melanoma',\n",
              " 'melanoma',\n",
              " 'melanoma',\n",
              " 'melanoma',\n",
              " 'melanoma',\n",
              " 'melanoma',\n",
              " 'melanoma',\n",
              " 'melanoma',\n",
              " 'melanoma',\n",
              " 'melanoma',\n",
              " 'melanoma',\n",
              " 'melanoma',\n",
              " 'melanoma',\n",
              " 'melanoma',\n",
              " 'melanoma',\n",
              " 'melanoma',\n",
              " 'melanoma',\n",
              " 'melanoma',\n",
              " 'melanoma',\n",
              " 'melanoma',\n",
              " 'melanoma',\n",
              " 'melanoma',\n",
              " 'melanoma',\n",
              " 'melanoma',\n",
              " 'melanoma',\n",
              " 'melanoma',\n",
              " 'melanoma',\n",
              " 'melanoma',\n",
              " 'melanoma',\n",
              " 'melanoma',\n",
              " 'melanoma',\n",
              " 'melanoma',\n",
              " 'melanoma',\n",
              " 'melanoma',\n",
              " 'melanoma',\n",
              " 'melanoma',\n",
              " 'melanoma',\n",
              " 'melanoma',\n",
              " 'melanoma',\n",
              " 'melanoma',\n",
              " 'melanoma',\n",
              " 'melanoma',\n",
              " 'melanoma',\n",
              " 'melanoma',\n",
              " 'melanoma',\n",
              " 'melanoma',\n",
              " 'melanoma',\n",
              " 'melanoma',\n",
              " 'melanoma',\n",
              " 'melanoma',\n",
              " 'melanoma',\n",
              " 'melanoma',\n",
              " 'melanoma',\n",
              " 'melanoma',\n",
              " 'melanoma',\n",
              " 'melanoma',\n",
              " 'melanoma',\n",
              " 'melanoma',\n",
              " 'melanoma',\n",
              " 'melanoma',\n",
              " 'melanoma',\n",
              " 'melanoma',\n",
              " 'melanoma',\n",
              " 'melanoma',\n",
              " 'melanoma',\n",
              " 'melanoma',\n",
              " 'melanoma',\n",
              " 'melanoma',\n",
              " 'melanoma',\n",
              " 'melanoma',\n",
              " 'melanoma',\n",
              " 'melanoma',\n",
              " 'melanoma',\n",
              " 'melanoma',\n",
              " 'melanoma',\n",
              " 'melanoma',\n",
              " 'melanoma',\n",
              " 'melanoma',\n",
              " 'melanoma',\n",
              " 'melanoma',\n",
              " 'melanoma',\n",
              " 'melanoma',\n",
              " 'melanoma',\n",
              " 'melanoma',\n",
              " 'melanoma',\n",
              " 'melanoma',\n",
              " 'melanoma',\n",
              " 'melanoma',\n",
              " 'melanoma',\n",
              " 'melanoma',\n",
              " 'melanoma',\n",
              " 'melanoma',\n",
              " 'melanoma',\n",
              " 'melanoma',\n",
              " 'melanoma',\n",
              " 'melanoma',\n",
              " 'melanoma',\n",
              " 'melanoma',\n",
              " 'melanoma',\n",
              " 'melanoma',\n",
              " 'melanoma',\n",
              " 'melanoma',\n",
              " 'melanoma',\n",
              " 'melanoma',\n",
              " 'melanoma',\n",
              " 'melanoma',\n",
              " 'melanoma',\n",
              " 'melanoma',\n",
              " 'melanoma',\n",
              " 'melanoma',\n",
              " 'melanoma',\n",
              " 'melanoma',\n",
              " 'melanoma',\n",
              " 'melanoma',\n",
              " 'melanoma',\n",
              " 'melanoma',\n",
              " 'melanoma',\n",
              " 'melanoma',\n",
              " 'melanoma',\n",
              " 'melanoma',\n",
              " 'melanoma',\n",
              " 'melanoma',\n",
              " 'melanoma',\n",
              " 'melanoma',\n",
              " 'melanoma',\n",
              " 'melanoma',\n",
              " 'melanoma',\n",
              " 'melanoma',\n",
              " 'melanoma',\n",
              " 'melanoma',\n",
              " 'melanoma',\n",
              " 'melanoma',\n",
              " 'melanoma',\n",
              " 'melanoma',\n",
              " 'melanoma',\n",
              " 'melanoma',\n",
              " 'melanoma',\n",
              " 'melanoma',\n",
              " 'melanoma',\n",
              " 'melanoma',\n",
              " 'melanoma',\n",
              " 'melanoma',\n",
              " 'melanoma',\n",
              " 'melanoma',\n",
              " 'melanoma',\n",
              " 'melanoma',\n",
              " 'melanoma',\n",
              " 'melanoma',\n",
              " 'melanoma',\n",
              " 'melanoma',\n",
              " 'melanoma',\n",
              " 'melanoma',\n",
              " 'melanoma',\n",
              " 'melanoma',\n",
              " 'melanoma',\n",
              " 'melanoma',\n",
              " 'melanoma',\n",
              " 'melanoma',\n",
              " 'melanoma',\n",
              " 'melanoma',\n",
              " 'melanoma',\n",
              " 'melanoma',\n",
              " 'melanoma',\n",
              " 'melanoma',\n",
              " 'melanoma',\n",
              " 'melanoma',\n",
              " 'melanoma',\n",
              " 'melanoma',\n",
              " 'melanoma',\n",
              " 'melanoma',\n",
              " 'melanoma',\n",
              " 'melanoma',\n",
              " 'melanoma',\n",
              " 'melanoma',\n",
              " 'melanoma',\n",
              " 'melanoma',\n",
              " 'melanoma',\n",
              " 'melanoma',\n",
              " 'melanoma',\n",
              " 'melanoma',\n",
              " 'melanoma',\n",
              " 'melanoma',\n",
              " 'melanoma',\n",
              " 'melanoma',\n",
              " 'melanoma',\n",
              " 'melanoma',\n",
              " 'melanoma',\n",
              " 'melanoma',\n",
              " 'melanoma',\n",
              " 'melanoma',\n",
              " 'melanoma',\n",
              " 'melanoma',\n",
              " 'melanoma',\n",
              " 'melanoma',\n",
              " 'melanoma',\n",
              " 'melanoma',\n",
              " 'melanoma',\n",
              " 'melanoma',\n",
              " 'melanoma',\n",
              " 'melanoma',\n",
              " 'melanoma',\n",
              " 'melanoma',\n",
              " 'melanoma',\n",
              " 'melanoma',\n",
              " 'melanoma',\n",
              " 'melanoma',\n",
              " 'melanoma',\n",
              " 'melanoma',\n",
              " 'melanoma',\n",
              " 'melanoma',\n",
              " 'melanoma',\n",
              " 'melanoma',\n",
              " 'melanoma',\n",
              " 'melanoma',\n",
              " 'melanoma',\n",
              " 'melanoma',\n",
              " 'melanoma',\n",
              " 'melanoma',\n",
              " 'melanoma',\n",
              " 'melanoma',\n",
              " 'melanoma',\n",
              " 'melanoma',\n",
              " 'melanoma',\n",
              " 'melanoma',\n",
              " 'melanoma',\n",
              " 'melanoma',\n",
              " 'melanoma',\n",
              " 'melanoma',\n",
              " 'melanoma',\n",
              " 'melanoma',\n",
              " 'melanoma',\n",
              " 'melanoma',\n",
              " 'melanoma',\n",
              " 'melanoma',\n",
              " 'melanoma',\n",
              " 'melanoma',\n",
              " 'melanoma',\n",
              " 'melanoma',\n",
              " 'melanoma',\n",
              " 'melanoma',\n",
              " 'melanoma',\n",
              " 'melanoma',\n",
              " 'melanoma',\n",
              " 'melanoma',\n",
              " 'melanoma',\n",
              " 'melanoma',\n",
              " 'melanoma',\n",
              " 'melanoma',\n",
              " 'melanoma',\n",
              " 'melanoma',\n",
              " 'melanoma',\n",
              " 'melanoma',\n",
              " 'melanoma',\n",
              " 'melanoma',\n",
              " 'melanoma',\n",
              " 'melanoma',\n",
              " 'melanoma',\n",
              " 'melanoma',\n",
              " 'melanoma',\n",
              " 'melanoma',\n",
              " 'melanoma',\n",
              " 'melanoma',\n",
              " 'melanoma',\n",
              " 'melanoma',\n",
              " 'melanoma',\n",
              " 'melanoma',\n",
              " 'melanoma',\n",
              " 'melanoma',\n",
              " 'melanoma',\n",
              " 'melanoma',\n",
              " 'melanoma',\n",
              " 'melanoma',\n",
              " 'melanoma',\n",
              " 'melanoma',\n",
              " 'melanoma',\n",
              " 'melanoma',\n",
              " 'melanoma',\n",
              " 'melanoma',\n",
              " 'melanoma',\n",
              " 'melanoma',\n",
              " 'melanoma',\n",
              " 'melanoma',\n",
              " 'melanoma',\n",
              " 'melanoma',\n",
              " 'melanoma',\n",
              " 'melanoma',\n",
              " 'melanoma',\n",
              " 'melanoma',\n",
              " 'melanoma',\n",
              " 'melanoma',\n",
              " 'melanoma',\n",
              " 'melanoma',\n",
              " 'melanoma',\n",
              " 'melanoma',\n",
              " 'melanoma',\n",
              " 'melanoma',\n",
              " 'melanoma',\n",
              " 'melanoma',\n",
              " 'melanoma',\n",
              " 'melanoma',\n",
              " 'melanoma',\n",
              " 'melanoma',\n",
              " 'melanoma',\n",
              " 'melanoma',\n",
              " 'melanoma',\n",
              " 'melanoma',\n",
              " 'melanoma',\n",
              " 'melanoma',\n",
              " 'melanoma',\n",
              " 'melanoma',\n",
              " 'melanoma',\n",
              " 'melanoma',\n",
              " 'melanoma',\n",
              " 'melanoma',\n",
              " 'melanoma',\n",
              " 'melanoma',\n",
              " 'melanoma',\n",
              " 'melanoma',\n",
              " 'melanoma',\n",
              " 'melanoma',\n",
              " 'melanoma',\n",
              " 'melanoma',\n",
              " 'melanoma',\n",
              " 'melanoma',\n",
              " 'melanoma',\n",
              " 'melanoma',\n",
              " 'melanoma',\n",
              " 'melanoma',\n",
              " 'melanoma',\n",
              " 'melanoma',\n",
              " 'melanoma',\n",
              " 'melanoma',\n",
              " 'melanoma',\n",
              " 'melanoma',\n",
              " 'melanoma',\n",
              " 'melanoma',\n",
              " 'melanoma',\n",
              " 'melanoma',\n",
              " 'melanoma',\n",
              " 'melanoma',\n",
              " 'melanoma',\n",
              " 'melanoma',\n",
              " 'melanoma',\n",
              " 'melanoma',\n",
              " 'melanoma',\n",
              " 'melanoma',\n",
              " 'melanoma',\n",
              " 'melanoma',\n",
              " 'melanoma',\n",
              " 'melanoma',\n",
              " 'melanoma',\n",
              " 'melanoma',\n",
              " 'melanoma',\n",
              " 'melanoma',\n",
              " 'melanoma',\n",
              " 'melanoma',\n",
              " 'melanoma',\n",
              " 'melanoma',\n",
              " 'melanoma',\n",
              " 'melanoma',\n",
              " 'melanoma',\n",
              " 'melanoma',\n",
              " 'melanoma',\n",
              " 'melanoma',\n",
              " 'melanoma',\n",
              " 'melanoma',\n",
              " 'melanoma',\n",
              " 'melanoma',\n",
              " 'melanoma',\n",
              " 'melanoma',\n",
              " 'melanoma',\n",
              " 'melanoma',\n",
              " 'melanoma',\n",
              " 'melanoma',\n",
              " 'melanoma',\n",
              " 'melanoma',\n",
              " 'nevus',\n",
              " 'nevus',\n",
              " 'nevus',\n",
              " 'nevus',\n",
              " 'nevus',\n",
              " 'nevus',\n",
              " 'nevus',\n",
              " 'nevus',\n",
              " 'nevus',\n",
              " 'nevus',\n",
              " 'nevus',\n",
              " 'nevus',\n",
              " 'nevus',\n",
              " 'nevus',\n",
              " 'nevus',\n",
              " 'nevus',\n",
              " 'nevus',\n",
              " 'nevus',\n",
              " 'nevus',\n",
              " 'nevus',\n",
              " 'nevus',\n",
              " 'nevus',\n",
              " 'nevus',\n",
              " 'nevus',\n",
              " 'nevus',\n",
              " 'nevus',\n",
              " 'nevus',\n",
              " 'nevus',\n",
              " 'nevus',\n",
              " 'nevus',\n",
              " 'nevus',\n",
              " 'nevus',\n",
              " 'nevus',\n",
              " 'nevus',\n",
              " 'nevus',\n",
              " 'nevus',\n",
              " 'nevus',\n",
              " 'nevus',\n",
              " 'nevus',\n",
              " 'nevus',\n",
              " 'nevus',\n",
              " 'nevus',\n",
              " 'nevus',\n",
              " 'nevus',\n",
              " 'nevus',\n",
              " 'nevus',\n",
              " 'nevus',\n",
              " 'nevus',\n",
              " 'nevus',\n",
              " 'nevus',\n",
              " 'nevus',\n",
              " 'nevus',\n",
              " 'nevus',\n",
              " 'nevus',\n",
              " 'nevus',\n",
              " 'nevus',\n",
              " 'nevus',\n",
              " 'nevus',\n",
              " 'nevus',\n",
              " 'nevus',\n",
              " 'nevus',\n",
              " 'nevus',\n",
              " 'nevus',\n",
              " 'nevus',\n",
              " 'nevus',\n",
              " 'nevus',\n",
              " 'nevus',\n",
              " 'nevus',\n",
              " 'nevus',\n",
              " 'nevus',\n",
              " 'nevus',\n",
              " 'nevus',\n",
              " 'nevus',\n",
              " 'nevus',\n",
              " 'nevus',\n",
              " 'nevus',\n",
              " 'nevus',\n",
              " 'nevus',\n",
              " 'nevus',\n",
              " 'nevus',\n",
              " 'nevus',\n",
              " 'nevus',\n",
              " 'nevus',\n",
              " 'nevus',\n",
              " 'nevus',\n",
              " 'nevus',\n",
              " 'nevus',\n",
              " 'nevus',\n",
              " 'nevus',\n",
              " 'nevus',\n",
              " 'nevus',\n",
              " 'nevus',\n",
              " 'nevus',\n",
              " 'nevus',\n",
              " 'nevus',\n",
              " 'nevus',\n",
              " 'nevus',\n",
              " 'nevus',\n",
              " 'nevus',\n",
              " 'nevus',\n",
              " 'nevus',\n",
              " 'nevus',\n",
              " 'nevus',\n",
              " 'nevus',\n",
              " 'nevus',\n",
              " 'nevus',\n",
              " 'nevus',\n",
              " 'nevus',\n",
              " 'nevus',\n",
              " 'nevus',\n",
              " 'nevus',\n",
              " 'nevus',\n",
              " 'nevus',\n",
              " 'nevus',\n",
              " 'nevus',\n",
              " 'nevus',\n",
              " 'nevus',\n",
              " 'nevus',\n",
              " 'nevus',\n",
              " 'nevus',\n",
              " 'nevus',\n",
              " 'nevus',\n",
              " 'nevus',\n",
              " 'nevus',\n",
              " 'nevus',\n",
              " 'nevus',\n",
              " 'nevus',\n",
              " 'nevus',\n",
              " 'nevus',\n",
              " 'nevus',\n",
              " 'nevus',\n",
              " 'nevus',\n",
              " 'nevus',\n",
              " 'nevus',\n",
              " 'nevus',\n",
              " 'nevus',\n",
              " 'nevus',\n",
              " 'nevus',\n",
              " 'nevus',\n",
              " 'nevus',\n",
              " 'nevus',\n",
              " 'nevus',\n",
              " 'nevus',\n",
              " 'nevus',\n",
              " 'nevus',\n",
              " 'nevus',\n",
              " 'nevus',\n",
              " 'nevus',\n",
              " 'nevus',\n",
              " 'nevus',\n",
              " 'nevus',\n",
              " 'nevus',\n",
              " 'nevus',\n",
              " 'nevus',\n",
              " 'nevus',\n",
              " 'nevus',\n",
              " 'nevus',\n",
              " 'nevus',\n",
              " 'nevus',\n",
              " 'nevus',\n",
              " 'nevus',\n",
              " 'nevus',\n",
              " 'nevus',\n",
              " 'nevus',\n",
              " 'nevus',\n",
              " 'nevus',\n",
              " 'nevus',\n",
              " 'nevus',\n",
              " 'nevus',\n",
              " 'nevus',\n",
              " 'nevus',\n",
              " 'nevus',\n",
              " 'nevus',\n",
              " 'nevus',\n",
              " 'nevus',\n",
              " 'nevus',\n",
              " 'nevus',\n",
              " 'nevus',\n",
              " 'nevus',\n",
              " 'nevus',\n",
              " 'nevus',\n",
              " 'nevus',\n",
              " 'nevus',\n",
              " 'nevus',\n",
              " 'nevus',\n",
              " 'nevus',\n",
              " 'nevus',\n",
              " 'nevus',\n",
              " 'nevus',\n",
              " 'nevus',\n",
              " 'nevus',\n",
              " 'nevus',\n",
              " 'nevus',\n",
              " 'nevus',\n",
              " 'nevus',\n",
              " 'nevus',\n",
              " 'nevus',\n",
              " 'nevus',\n",
              " 'nevus',\n",
              " 'nevus',\n",
              " 'nevus',\n",
              " 'nevus',\n",
              " 'nevus',\n",
              " 'nevus',\n",
              " 'nevus',\n",
              " 'nevus',\n",
              " 'nevus',\n",
              " 'nevus',\n",
              " 'nevus',\n",
              " 'nevus',\n",
              " 'nevus',\n",
              " 'nevus',\n",
              " 'nevus',\n",
              " 'nevus',\n",
              " 'nevus',\n",
              " 'nevus',\n",
              " 'nevus',\n",
              " 'nevus',\n",
              " 'nevus',\n",
              " 'nevus',\n",
              " 'nevus',\n",
              " 'nevus',\n",
              " 'nevus',\n",
              " 'nevus',\n",
              " 'nevus',\n",
              " 'nevus',\n",
              " 'nevus',\n",
              " 'nevus',\n",
              " 'nevus',\n",
              " 'nevus',\n",
              " 'nevus',\n",
              " 'nevus',\n",
              " 'nevus',\n",
              " 'nevus',\n",
              " 'nevus',\n",
              " 'nevus',\n",
              " 'nevus',\n",
              " 'nevus',\n",
              " 'nevus',\n",
              " 'nevus',\n",
              " 'nevus',\n",
              " 'nevus',\n",
              " 'nevus',\n",
              " 'nevus',\n",
              " 'nevus',\n",
              " 'nevus',\n",
              " 'nevus',\n",
              " 'nevus',\n",
              " 'nevus',\n",
              " 'nevus',\n",
              " 'nevus',\n",
              " 'nevus',\n",
              " 'nevus',\n",
              " 'nevus',\n",
              " 'nevus',\n",
              " 'nevus',\n",
              " 'nevus',\n",
              " 'nevus',\n",
              " 'nevus',\n",
              " 'nevus',\n",
              " 'nevus',\n",
              " 'nevus',\n",
              " 'nevus',\n",
              " 'nevus',\n",
              " 'nevus',\n",
              " 'nevus',\n",
              " 'nevus',\n",
              " 'nevus',\n",
              " 'nevus',\n",
              " 'nevus',\n",
              " 'nevus',\n",
              " 'nevus',\n",
              " 'nevus',\n",
              " 'nevus',\n",
              " 'nevus',\n",
              " 'nevus',\n",
              " 'nevus',\n",
              " 'nevus',\n",
              " 'nevus',\n",
              " 'nevus',\n",
              " 'nevus',\n",
              " 'nevus',\n",
              " 'nevus',\n",
              " 'nevus',\n",
              " 'nevus',\n",
              " 'nevus',\n",
              " 'nevus',\n",
              " 'nevus',\n",
              " 'nevus',\n",
              " 'nevus',\n",
              " 'nevus',\n",
              " 'nevus',\n",
              " 'nevus',\n",
              " 'nevus',\n",
              " 'nevus',\n",
              " 'nevus',\n",
              " 'nevus',\n",
              " 'nevus',\n",
              " 'nevus',\n",
              " 'nevus',\n",
              " 'nevus',\n",
              " 'nevus',\n",
              " 'nevus',\n",
              " 'nevus',\n",
              " 'nevus',\n",
              " 'nevus',\n",
              " 'nevus',\n",
              " 'nevus',\n",
              " 'nevus',\n",
              " 'nevus',\n",
              " 'nevus',\n",
              " 'nevus',\n",
              " 'nevus',\n",
              " 'nevus',\n",
              " 'nevus',\n",
              " 'nevus',\n",
              " 'nevus',\n",
              " 'nevus',\n",
              " 'nevus',\n",
              " 'nevus',\n",
              " 'nevus',\n",
              " 'nevus',\n",
              " 'nevus',\n",
              " 'nevus',\n",
              " 'nevus',\n",
              " 'nevus',\n",
              " 'nevus',\n",
              " 'nevus',\n",
              " 'nevus',\n",
              " 'nevus',\n",
              " 'nevus',\n",
              " 'nevus',\n",
              " 'nevus',\n",
              " 'nevus',\n",
              " 'nevus',\n",
              " 'nevus',\n",
              " 'nevus',\n",
              " 'nevus',\n",
              " 'nevus',\n",
              " 'nevus',\n",
              " 'nevus',\n",
              " 'nevus',\n",
              " 'nevus',\n",
              " 'nevus',\n",
              " 'nevus',\n",
              " 'nevus',\n",
              " 'nevus',\n",
              " 'nevus',\n",
              " 'nevus',\n",
              " 'nevus',\n",
              " 'nevus',\n",
              " 'nevus',\n",
              " 'nevus',\n",
              " 'nevus',\n",
              " 'nevus',\n",
              " 'nevus',\n",
              " 'nevus',\n",
              " 'nevus',\n",
              " 'nevus',\n",
              " 'nevus',\n",
              " 'nevus',\n",
              " 'nevus',\n",
              " 'nevus',\n",
              " 'nevus',\n",
              " 'nevus',\n",
              " 'nevus',\n",
              " 'nevus',\n",
              " 'nevus',\n",
              " 'nevus',\n",
              " 'nevus',\n",
              " 'nevus',\n",
              " 'nevus',\n",
              " 'nevus',\n",
              " 'nevus',\n",
              " 'nevus',\n",
              " 'nevus',\n",
              " 'nevus',\n",
              " 'nevus',\n",
              " 'nevus',\n",
              " 'nevus',\n",
              " 'nevus',\n",
              " 'nevus',\n",
              " 'nevus',\n",
              " 'nevus',\n",
              " 'nevus',\n",
              " 'nevus',\n",
              " 'nevus',\n",
              " 'nevus',\n",
              " 'nevus',\n",
              " 'nevus',\n",
              " 'nevus',\n",
              " 'nevus',\n",
              " 'nevus',\n",
              " 'nevus',\n",
              " 'nevus',\n",
              " 'nevus',\n",
              " 'nevus',\n",
              " 'nevus',\n",
              " 'nevus',\n",
              " 'nevus',\n",
              " 'nevus',\n",
              " 'nevus',\n",
              " 'nevus',\n",
              " 'nevus',\n",
              " 'nevus',\n",
              " 'nevus',\n",
              " 'nevus',\n",
              " 'nevus',\n",
              " 'nevus',\n",
              " 'nevus',\n",
              " 'nevus',\n",
              " 'nevus',\n",
              " 'nevus',\n",
              " 'nevus',\n",
              " 'nevus',\n",
              " 'nevus',\n",
              " 'nevus',\n",
              " 'nevus',\n",
              " 'nevus',\n",
              " 'nevus',\n",
              " 'nevus',\n",
              " 'nevus',\n",
              " 'nevus',\n",
              " 'nevus',\n",
              " 'nevus',\n",
              " 'nevus',\n",
              " 'nevus',\n",
              " 'nevus',\n",
              " 'nevus',\n",
              " 'nevus',\n",
              " 'nevus',\n",
              " 'nevus',\n",
              " 'nevus',\n",
              " 'nevus',\n",
              " 'nevus',\n",
              " 'nevus',\n",
              " 'nevus',\n",
              " 'nevus',\n",
              " 'nevus',\n",
              " 'nevus',\n",
              " 'nevus',\n",
              " 'nevus',\n",
              " 'nevus',\n",
              " 'nevus',\n",
              " 'nevus',\n",
              " 'nevus',\n",
              " 'nevus',\n",
              " 'nevus',\n",
              " 'nevus',\n",
              " 'nevus',\n",
              " 'nevus',\n",
              " 'nevus',\n",
              " 'nevus',\n",
              " 'nevus',\n",
              " 'nevus',\n",
              " 'nevus',\n",
              " 'nevus',\n",
              " 'nevus',\n",
              " 'nevus',\n",
              " 'nevus',\n",
              " 'nevus',\n",
              " 'nevus',\n",
              " 'nevus',\n",
              " 'nevus',\n",
              " 'nevus',\n",
              " 'nevus',\n",
              " 'nevus',\n",
              " 'nevus',\n",
              " 'nevus',\n",
              " 'nevus',\n",
              " 'nevus',\n",
              " 'nevus',\n",
              " 'nevus',\n",
              " 'nevus',\n",
              " 'nevus',\n",
              " 'nevus',\n",
              " 'nevus',\n",
              " 'nevus',\n",
              " 'nevus',\n",
              " 'nevus',\n",
              " 'nevus',\n",
              " 'nevus',\n",
              " 'nevus',\n",
              " 'nevus',\n",
              " 'nevus',\n",
              " 'nevus',\n",
              " 'nevus',\n",
              " 'nevus',\n",
              " 'nevus',\n",
              " 'nevus',\n",
              " 'nevus',\n",
              " 'nevus',\n",
              " 'nevus',\n",
              " 'nevus',\n",
              " 'nevus',\n",
              " 'nevus',\n",
              " 'nevus',\n",
              " 'nevus',\n",
              " 'nevus',\n",
              " 'nevus',\n",
              " ...]"
            ]
          },
          "metadata": {},
          "execution_count": 29
        }
      ]
    },
    {
      "cell_type": "code",
      "source": [
        "\n",
        "dataframe_dict_new = dict(zip(path_list, lesion_list_new))"
      ],
      "metadata": {
        "id": "Y8KOJu81Ldoi"
      },
      "execution_count": 31,
      "outputs": []
    },
    {
      "cell_type": "code",
      "source": [
        "for i in class_names:\n",
        "    directory =train_path+i+'/'\n",
        "    directory_out =train_path+i+'/output/'\n",
        "    class_directory = pathlib.Path(directory)\n",
        "    class_directory_out = pathlib.Path(directory_out)\n",
        "    length=len(list(class_directory.glob('*.jpg')))\n",
        "    length_out=len(list(class_directory_out.glob('*.jpg')))\n",
        "    length_tot=length+length_out\n",
        "    print(f'{i} has {length_tot} samples.')\n",
        "    "
      ],
      "metadata": {
        "colab": {
          "base_uri": "https://localhost:8080/"
        },
        "id": "5nU6JMn0Lfwj",
        "outputId": "9ce45796-a706-4036-e287-5231299bb110"
      },
      "execution_count": 33,
      "outputs": [
        {
          "output_type": "stream",
          "name": "stdout",
          "text": [
            "actinic keratosis has 614 samples.\n",
            "basal cell carcinoma has 876 samples.\n",
            "dermatofibroma has 595 samples.\n",
            "melanoma has 938 samples.\n",
            "nevus has 857 samples.\n",
            "pigmented benign keratosis has 966 samples.\n",
            "seborrheic keratosis has 577 samples.\n",
            "squamous cell carcinoma has 681 samples.\n",
            "vascular lesion has 639 samples.\n"
          ]
        }
      ]
    },
    {
      "cell_type": "markdown",
      "source": [
        "So, now we have added 500 images to all the classes to maintain some class balance. We can add more images as we want to improve training process."
      ],
      "metadata": {
        "id": "rskFyA-EMiU6"
      }
    },
    {
      "cell_type": "markdown",
      "source": [
        "### Train the model on the data created using Augmentor"
      ],
      "metadata": {
        "id": "Kz1tG-LJNJHo"
      }
    },
    {
      "cell_type": "code",
      "source": [
        "batch_size = 32\n",
        "img_height = 180\n",
        "img_width = 180"
      ],
      "metadata": {
        "id": "X8X3meORMRgU"
      },
      "execution_count": 34,
      "outputs": []
    },
    {
      "cell_type": "markdown",
      "source": [
        "### Create Training dataset"
      ],
      "metadata": {
        "id": "UOSbOF3FNR-o"
      }
    },
    {
      "cell_type": "code",
      "source": [
        "data_dir_train=train_path\n",
        "train_ds = tf.keras.preprocessing.image_dataset_from_directory(\n",
        "  data_dir_train,\n",
        "  seed=123, label_mode='categorical',\n",
        "  validation_split = 0.2,\n",
        "  subset = 'training',\n",
        "  image_size=(img_height, img_width),\n",
        "  batch_size=batch_size)"
      ],
      "metadata": {
        "colab": {
          "base_uri": "https://localhost:8080/"
        },
        "id": "WpfNSRBKNNJx",
        "outputId": "6775b7ed-56c4-4510-cfff-5a5fefacd030"
      },
      "execution_count": 35,
      "outputs": [
        {
          "output_type": "stream",
          "name": "stdout",
          "text": [
            "Found 6743 files belonging to 9 classes.\n",
            "Using 5395 files for training.\n"
          ]
        }
      ]
    },
    {
      "cell_type": "markdown",
      "source": [
        "### Create Validation dataset"
      ],
      "metadata": {
        "id": "eFe7ruklNeH6"
      }
    },
    {
      "cell_type": "code",
      "source": [
        "val_ds = tf.keras.preprocessing.image_dataset_from_directory(\n",
        "  data_dir_train,\n",
        "  seed=123, label_mode='categorical',\n",
        "  validation_split = 0.2,\n",
        "  subset = 'validation',\n",
        "  image_size=(img_height, img_width),\n",
        "  batch_size=batch_size)"
      ],
      "metadata": {
        "colab": {
          "base_uri": "https://localhost:8080/"
        },
        "id": "8gM84RPONX_V",
        "outputId": "9d18d1b4-2e4d-4c03-a6ac-7397d3815c9c"
      },
      "execution_count": 36,
      "outputs": [
        {
          "output_type": "stream",
          "name": "stdout",
          "text": [
            "Found 6743 files belonging to 9 classes.\n",
            "Using 1348 files for validation.\n"
          ]
        }
      ]
    },
    {
      "cell_type": "markdown",
      "source": [
        "### Model #3"
      ],
      "metadata": {
        "id": "MHzfF5keNntn"
      }
    },
    {
      "cell_type": "code",
      "source": [
        "model_3=Sequential([\n",
        "    tf.keras.layers.experimental.preprocessing.Rescaling(scale=1./255., offset=0.0,),         \n",
        "    \n",
        "    Conv2D(32,(3,3),input_shape=(img_height,img_width,3),activation='relu',padding='same'),\n",
        "    MaxPooling2D(pool_size=(2,2)),\n",
        "    Dropout(0.1),\n",
        "    \n",
        "    Conv2D(64,(3,3),activation='relu',padding='same'),\n",
        "    MaxPooling2D(pool_size=(2,2)),\n",
        "    Dropout(0.1),\n",
        "    \n",
        "    Flatten(),\n",
        "    Dense(128, activation='relu'),\n",
        "    Dropout(0.25),   \n",
        "    Dense(9, activation='softmax')\n",
        "])"
      ],
      "metadata": {
        "id": "dwZZ5cdkNlIX"
      },
      "execution_count": 38,
      "outputs": []
    },
    {
      "cell_type": "markdown",
      "source": [
        "### Model Compilation"
      ],
      "metadata": {
        "id": "cPvbvj9-NxJ5"
      }
    },
    {
      "cell_type": "code",
      "source": [
        "model_3.compile(optimizer='adam',\n",
        "              loss='categorical_crossentropy',\n",
        "              metrics='accuracy')"
      ],
      "metadata": {
        "id": "RX9Hoa8ZNtuH"
      },
      "execution_count": 40,
      "outputs": []
    },
    {
      "cell_type": "markdown",
      "source": [
        "### Model training"
      ],
      "metadata": {
        "id": "tIYAVHurN9k3"
      }
    },
    {
      "cell_type": "code",
      "source": [
        "epochs = 30\n",
        "\n",
        "history = model_3.fit(\n",
        "  train_ds,\n",
        "  validation_data=val_ds,\n",
        "  epochs=epochs\n",
        ")"
      ],
      "metadata": {
        "colab": {
          "base_uri": "https://localhost:8080/"
        },
        "id": "APqerDOhN1dJ",
        "outputId": "cd8fc71c-9852-46d5-9835-055aaed5b2ca"
      },
      "execution_count": 41,
      "outputs": [
        {
          "output_type": "stream",
          "name": "stdout",
          "text": [
            "Epoch 1/30\n",
            "169/169 [==============================] - 39s 218ms/step - loss: 2.0851 - accuracy: 0.2782 - val_loss: 1.6915 - val_accuracy: 0.3872\n",
            "Epoch 2/30\n",
            "169/169 [==============================] - 35s 204ms/step - loss: 1.5352 - accuracy: 0.4182 - val_loss: 1.4788 - val_accuracy: 0.4570\n",
            "Epoch 3/30\n",
            "169/169 [==============================] - 39s 222ms/step - loss: 1.3481 - accuracy: 0.4982 - val_loss: 1.3351 - val_accuracy: 0.5193\n",
            "Epoch 4/30\n",
            "169/169 [==============================] - 36s 205ms/step - loss: 1.1648 - accuracy: 0.5679 - val_loss: 1.1491 - val_accuracy: 0.5764\n",
            "Epoch 5/30\n",
            "169/169 [==============================] - 34s 198ms/step - loss: 0.9858 - accuracy: 0.6413 - val_loss: 1.0045 - val_accuracy: 0.6439\n",
            "Epoch 6/30\n",
            "169/169 [==============================] - 36s 201ms/step - loss: 0.8640 - accuracy: 0.6905 - val_loss: 0.9380 - val_accuracy: 0.6721\n",
            "Epoch 7/30\n",
            "169/169 [==============================] - 36s 204ms/step - loss: 0.6939 - accuracy: 0.7572 - val_loss: 0.9226 - val_accuracy: 0.7062\n",
            "Epoch 8/30\n",
            "169/169 [==============================] - 35s 196ms/step - loss: 0.5895 - accuracy: 0.7841 - val_loss: 0.7584 - val_accuracy: 0.7611\n",
            "Epoch 9/30\n",
            "169/169 [==============================] - 36s 206ms/step - loss: 0.5045 - accuracy: 0.8222 - val_loss: 0.7137 - val_accuracy: 0.7582\n",
            "Epoch 10/30\n",
            "169/169 [==============================] - 36s 207ms/step - loss: 0.3943 - accuracy: 0.8604 - val_loss: 0.7090 - val_accuracy: 0.7789\n",
            "Epoch 11/30\n",
            "169/169 [==============================] - 34s 197ms/step - loss: 0.3822 - accuracy: 0.8610 - val_loss: 0.6800 - val_accuracy: 0.7997\n",
            "Epoch 12/30\n",
            "169/169 [==============================] - 34s 198ms/step - loss: 0.3226 - accuracy: 0.8825 - val_loss: 0.7739 - val_accuracy: 0.7582\n",
            "Epoch 13/30\n",
            "169/169 [==============================] - 36s 205ms/step - loss: 0.3222 - accuracy: 0.8834 - val_loss: 0.8607 - val_accuracy: 0.7700\n",
            "Epoch 14/30\n",
            "169/169 [==============================] - 41s 235ms/step - loss: 0.2684 - accuracy: 0.9058 - val_loss: 0.7370 - val_accuracy: 0.7864\n",
            "Epoch 15/30\n",
            "169/169 [==============================] - 34s 198ms/step - loss: 0.2437 - accuracy: 0.9092 - val_loss: 0.7618 - val_accuracy: 0.8138\n",
            "Epoch 16/30\n",
            "169/169 [==============================] - 36s 205ms/step - loss: 0.2388 - accuracy: 0.9116 - val_loss: 0.7219 - val_accuracy: 0.7975\n",
            "Epoch 17/30\n",
            "169/169 [==============================] - 36s 207ms/step - loss: 0.2284 - accuracy: 0.9151 - val_loss: 0.8065 - val_accuracy: 0.7938\n",
            "Epoch 18/30\n",
            "169/169 [==============================] - 34s 197ms/step - loss: 0.2207 - accuracy: 0.9214 - val_loss: 0.8889 - val_accuracy: 0.7834\n",
            "Epoch 19/30\n",
            "169/169 [==============================] - 37s 209ms/step - loss: 0.2261 - accuracy: 0.9188 - val_loss: 0.8512 - val_accuracy: 0.7975\n",
            "Epoch 20/30\n",
            "169/169 [==============================] - 36s 207ms/step - loss: 0.2070 - accuracy: 0.9240 - val_loss: 0.8261 - val_accuracy: 0.7901\n",
            "Epoch 21/30\n",
            "169/169 [==============================] - 39s 225ms/step - loss: 0.2088 - accuracy: 0.9253 - val_loss: 0.8207 - val_accuracy: 0.8019\n",
            "Epoch 22/30\n",
            "169/169 [==============================] - 35s 200ms/step - loss: 0.1730 - accuracy: 0.9348 - val_loss: 0.9671 - val_accuracy: 0.7930\n",
            "Epoch 23/30\n",
            "169/169 [==============================] - 35s 198ms/step - loss: 0.1952 - accuracy: 0.9299 - val_loss: 0.9350 - val_accuracy: 0.7990\n",
            "Epoch 24/30\n",
            "169/169 [==============================] - 39s 224ms/step - loss: 0.1714 - accuracy: 0.9351 - val_loss: 0.9735 - val_accuracy: 0.7945\n",
            "Epoch 25/30\n",
            "169/169 [==============================] - 36s 209ms/step - loss: 0.1747 - accuracy: 0.9322 - val_loss: 0.8677 - val_accuracy: 0.8049\n",
            "Epoch 26/30\n",
            "169/169 [==============================] - 36s 206ms/step - loss: 0.1670 - accuracy: 0.9333 - val_loss: 0.9656 - val_accuracy: 0.7864\n",
            "Epoch 27/30\n",
            "169/169 [==============================] - 34s 198ms/step - loss: 0.1634 - accuracy: 0.9353 - val_loss: 0.9936 - val_accuracy: 0.7819\n",
            "Epoch 28/30\n",
            "169/169 [==============================] - 36s 202ms/step - loss: 0.1716 - accuracy: 0.9310 - val_loss: 0.9744 - val_accuracy: 0.8197\n",
            "Epoch 29/30\n",
            "169/169 [==============================] - 39s 224ms/step - loss: 0.1403 - accuracy: 0.9451 - val_loss: 0.9725 - val_accuracy: 0.8145\n",
            "Epoch 30/30\n",
            "169/169 [==============================] - 38s 217ms/step - loss: 0.1312 - accuracy: 0.9472 - val_loss: 1.0624 - val_accuracy: 0.8079\n"
          ]
        }
      ]
    },
    {
      "cell_type": "markdown",
      "source": [
        "### Visualizing the results"
      ],
      "metadata": {
        "id": "F8qDoGPtSy_0"
      }
    },
    {
      "cell_type": "code",
      "source": [
        "acc = history.history['accuracy']\n",
        "val_acc = history.history['val_accuracy']\n",
        "\n",
        "loss = history.history['loss']\n",
        "val_loss = history.history['val_loss']\n",
        "\n",
        "epochs_range = range(epochs)\n",
        "\n",
        "plt.figure(figsize=(8, 8))\n",
        "plt.subplot(1, 2, 1)\n",
        "plt.plot(epochs_range, acc, label='Training Accuracy')\n",
        "plt.plot(epochs_range, val_acc, label='Validation Accuracy')\n",
        "plt.legend(loc='lower right')\n",
        "plt.title('Training and Validation Accuracy')\n",
        "\n",
        "plt.subplot(1, 2, 2)\n",
        "plt.plot(epochs_range, loss, label='Training Loss')\n",
        "plt.plot(epochs_range, val_loss, label='Validation Loss')\n",
        "plt.legend(loc='upper right')\n",
        "plt.title('Training and Validation Loss')\n",
        "plt.show()"
      ],
      "metadata": {
        "colab": {
          "base_uri": "https://localhost:8080/",
          "height": 499
        },
        "id": "N7waFTYfOFEG",
        "outputId": "295241e1-8c3e-49c0-ac68-c6fae24d40b4"
      },
      "execution_count": 42,
      "outputs": [
        {
          "output_type": "display_data",
          "data": {
            "text/plain": [
              "<Figure size 576x576 with 2 Axes>"
            ],
            "image/png": "[encoded data removed]"
          },
          "metadata": {
            "needs_background": "light"
          }
        }
      ]
    },
    {
      "cell_type": "markdown",
      "source": [
        "\n",
        "\n",
        "1.   After 30 epochs, training accuracy is 94.72% and validation accuracy is 80.79%\n",
        "2.   Model accuracy has significantly improved\n",
        "3.   Class imbalance is reduced.\n",
        "4.   Overfitting is reduced\n",
        "\n",
        "\n",
        "Now lets train the model using 50 epochs\n",
        "\n",
        "\n",
        "\n"
      ],
      "metadata": {
        "id": "vMnCctrrTBcl"
      }
    },
    {
      "cell_type": "code",
      "source": [
        "epochs = 50\n",
        "\n",
        "history = model_3.fit(\n",
        "  train_ds,\n",
        "  validation_data=val_ds,\n",
        "  epochs=epochs\n",
        ")"
      ],
      "metadata": {
        "colab": {
          "base_uri": "https://localhost:8080/"
        },
        "id": "V_QOHw2nS4pG",
        "outputId": "70632688-15a3-44fd-bf13-0676164b56e0"
      },
      "execution_count": 43,
      "outputs": [
        {
          "output_type": "stream",
          "name": "stdout",
          "text": [
            "Epoch 1/50\n",
            "169/169 [==============================] - 38s 214ms/step - loss: 0.1412 - accuracy: 0.9424 - val_loss: 1.0383 - val_accuracy: 0.8116\n",
            "Epoch 2/50\n",
            "169/169 [==============================] - 37s 215ms/step - loss: 0.1526 - accuracy: 0.9416 - val_loss: 1.1407 - val_accuracy: 0.7901\n",
            "Epoch 3/50\n",
            "169/169 [==============================] - 40s 228ms/step - loss: 0.1540 - accuracy: 0.9409 - val_loss: 1.0555 - val_accuracy: 0.8056\n",
            "Epoch 4/50\n",
            "169/169 [==============================] - 36s 205ms/step - loss: 0.1431 - accuracy: 0.9509 - val_loss: 1.0891 - val_accuracy: 0.8042\n",
            "Epoch 5/50\n",
            "169/169 [==============================] - 39s 228ms/step - loss: 0.1622 - accuracy: 0.9399 - val_loss: 1.1108 - val_accuracy: 0.7915\n",
            "Epoch 6/50\n",
            "169/169 [==============================] - 35s 203ms/step - loss: 0.1336 - accuracy: 0.9462 - val_loss: 1.1372 - val_accuracy: 0.8168\n",
            "Epoch 7/50\n",
            "169/169 [==============================] - 38s 217ms/step - loss: 0.1504 - accuracy: 0.9414 - val_loss: 1.1615 - val_accuracy: 0.8049\n",
            "Epoch 8/50\n",
            "169/169 [==============================] - 36s 210ms/step - loss: 0.1348 - accuracy: 0.9498 - val_loss: 1.1302 - val_accuracy: 0.8093\n",
            "Epoch 9/50\n",
            "169/169 [==============================] - 35s 200ms/step - loss: 0.1114 - accuracy: 0.9555 - val_loss: 1.1785 - val_accuracy: 0.7901\n",
            "Epoch 10/50\n",
            "169/169 [==============================] - 36s 209ms/step - loss: 0.1287 - accuracy: 0.9520 - val_loss: 1.0739 - val_accuracy: 0.8123\n",
            "Epoch 11/50\n",
            "169/169 [==============================] - 35s 200ms/step - loss: 0.1233 - accuracy: 0.9475 - val_loss: 1.0739 - val_accuracy: 0.8131\n",
            "Epoch 12/50\n",
            "169/169 [==============================] - 38s 215ms/step - loss: 0.1198 - accuracy: 0.9505 - val_loss: 1.2622 - val_accuracy: 0.7782\n",
            "Epoch 13/50\n",
            "169/169 [==============================] - 36s 208ms/step - loss: 0.1398 - accuracy: 0.9449 - val_loss: 1.3401 - val_accuracy: 0.7923\n",
            "Epoch 14/50\n",
            "169/169 [==============================] - 37s 212ms/step - loss: 0.1414 - accuracy: 0.9429 - val_loss: 1.2561 - val_accuracy: 0.7908\n",
            "Epoch 15/50\n",
            "169/169 [==============================] - 35s 203ms/step - loss: 0.1364 - accuracy: 0.9488 - val_loss: 1.1779 - val_accuracy: 0.8042\n",
            "Epoch 16/50\n",
            "169/169 [==============================] - 39s 226ms/step - loss: 0.1187 - accuracy: 0.9546 - val_loss: 1.2544 - val_accuracy: 0.7849\n",
            "Epoch 17/50\n",
            "169/169 [==============================] - 35s 203ms/step - loss: 0.1454 - accuracy: 0.9427 - val_loss: 1.1459 - val_accuracy: 0.8101\n",
            "Epoch 18/50\n",
            "169/169 [==============================] - 39s 226ms/step - loss: 0.1142 - accuracy: 0.9538 - val_loss: 1.2158 - val_accuracy: 0.8027\n",
            "Epoch 19/50\n",
            "169/169 [==============================] - 35s 199ms/step - loss: 0.1191 - accuracy: 0.9520 - val_loss: 1.1645 - val_accuracy: 0.8220\n",
            "Epoch 20/50\n",
            "169/169 [==============================] - 35s 201ms/step - loss: 0.0984 - accuracy: 0.9583 - val_loss: 1.1769 - val_accuracy: 0.8212\n",
            "Epoch 21/50\n",
            "169/169 [==============================] - 36s 200ms/step - loss: 0.0994 - accuracy: 0.9589 - val_loss: 1.3660 - val_accuracy: 0.7841\n",
            "Epoch 22/50\n",
            "169/169 [==============================] - 36s 207ms/step - loss: 0.1178 - accuracy: 0.9535 - val_loss: 1.2662 - val_accuracy: 0.8019\n",
            "Epoch 23/50\n",
            "169/169 [==============================] - 38s 219ms/step - loss: 0.1130 - accuracy: 0.9551 - val_loss: 1.3167 - val_accuracy: 0.7945\n",
            "Epoch 24/50\n",
            "169/169 [==============================] - 35s 199ms/step - loss: 0.1036 - accuracy: 0.9583 - val_loss: 1.2643 - val_accuracy: 0.7990\n",
            "Epoch 25/50\n",
            "169/169 [==============================] - 36s 209ms/step - loss: 0.1009 - accuracy: 0.9566 - val_loss: 1.2428 - val_accuracy: 0.8086\n",
            "Epoch 26/50\n",
            "169/169 [==============================] - 36s 209ms/step - loss: 0.1065 - accuracy: 0.9572 - val_loss: 1.3763 - val_accuracy: 0.8056\n",
            "Epoch 27/50\n",
            "169/169 [==============================] - 35s 200ms/step - loss: 0.1055 - accuracy: 0.9594 - val_loss: 1.3145 - val_accuracy: 0.7789\n",
            "Epoch 28/50\n",
            "169/169 [==============================] - 37s 211ms/step - loss: 0.1237 - accuracy: 0.9511 - val_loss: 1.4136 - val_accuracy: 0.8056\n",
            "Epoch 29/50\n",
            "169/169 [==============================] - 35s 199ms/step - loss: 0.1200 - accuracy: 0.9529 - val_loss: 1.5122 - val_accuracy: 0.7923\n",
            "Epoch 30/50\n",
            "169/169 [==============================] - 39s 226ms/step - loss: 0.1061 - accuracy: 0.9555 - val_loss: 1.3376 - val_accuracy: 0.8116\n",
            "Epoch 31/50\n",
            "169/169 [==============================] - 35s 201ms/step - loss: 0.1081 - accuracy: 0.9551 - val_loss: 1.3837 - val_accuracy: 0.8049\n",
            "Epoch 32/50\n",
            "169/169 [==============================] - 36s 204ms/step - loss: 0.1021 - accuracy: 0.9568 - val_loss: 1.4100 - val_accuracy: 0.8027\n",
            "Epoch 33/50\n",
            "169/169 [==============================] - 35s 202ms/step - loss: 0.1166 - accuracy: 0.9550 - val_loss: 1.3974 - val_accuracy: 0.7997\n",
            "Epoch 34/50\n",
            "169/169 [==============================] - 37s 210ms/step - loss: 0.1221 - accuracy: 0.9527 - val_loss: 1.3511 - val_accuracy: 0.8071\n",
            "Epoch 35/50\n",
            "169/169 [==============================] - 36s 208ms/step - loss: 0.1006 - accuracy: 0.9592 - val_loss: 1.3695 - val_accuracy: 0.8071\n",
            "Epoch 36/50\n",
            "169/169 [==============================] - 35s 198ms/step - loss: 0.1358 - accuracy: 0.9503 - val_loss: 1.3607 - val_accuracy: 0.7997\n",
            "Epoch 37/50\n",
            "169/169 [==============================] - 35s 198ms/step - loss: 0.0914 - accuracy: 0.9616 - val_loss: 1.2769 - val_accuracy: 0.8056\n",
            "Epoch 38/50\n",
            "169/169 [==============================] - 36s 203ms/step - loss: 0.0989 - accuracy: 0.9574 - val_loss: 1.3830 - val_accuracy: 0.8004\n",
            "Epoch 39/50\n",
            "169/169 [==============================] - 37s 215ms/step - loss: 0.1035 - accuracy: 0.9561 - val_loss: 1.4103 - val_accuracy: 0.8123\n",
            "Epoch 40/50\n",
            "169/169 [==============================] - 34s 198ms/step - loss: 0.0907 - accuracy: 0.9613 - val_loss: 1.5002 - val_accuracy: 0.8004\n",
            "Epoch 41/50\n",
            "169/169 [==============================] - 39s 226ms/step - loss: 0.0782 - accuracy: 0.9640 - val_loss: 1.4959 - val_accuracy: 0.7975\n",
            "Epoch 42/50\n",
            "169/169 [==============================] - 34s 197ms/step - loss: 0.1325 - accuracy: 0.9529 - val_loss: 1.4018 - val_accuracy: 0.8034\n",
            "Epoch 43/50\n",
            "169/169 [==============================] - 36s 208ms/step - loss: 0.0795 - accuracy: 0.9655 - val_loss: 1.4721 - val_accuracy: 0.7990\n",
            "Epoch 44/50\n",
            "169/169 [==============================] - 36s 208ms/step - loss: 0.1243 - accuracy: 0.9540 - val_loss: 1.6890 - val_accuracy: 0.7745\n",
            "Epoch 45/50\n",
            "169/169 [==============================] - 36s 208ms/step - loss: 0.1046 - accuracy: 0.9574 - val_loss: 1.5316 - val_accuracy: 0.7967\n",
            "Epoch 46/50\n",
            "169/169 [==============================] - 34s 197ms/step - loss: 0.1431 - accuracy: 0.9518 - val_loss: 1.3752 - val_accuracy: 0.7953\n",
            "Epoch 47/50\n",
            "169/169 [==============================] - 39s 225ms/step - loss: 0.1087 - accuracy: 0.9546 - val_loss: 1.3929 - val_accuracy: 0.7975\n",
            "Epoch 48/50\n",
            "169/169 [==============================] - 36s 205ms/step - loss: 0.0909 - accuracy: 0.9644 - val_loss: 1.4464 - val_accuracy: 0.8079\n",
            "Epoch 49/50\n",
            "169/169 [==============================] - 39s 225ms/step - loss: 0.0902 - accuracy: 0.9611 - val_loss: 1.5752 - val_accuracy: 0.8012\n",
            "Epoch 50/50\n",
            "169/169 [==============================] - 36s 208ms/step - loss: 0.1015 - accuracy: 0.9576 - val_loss: 1.3134 - val_accuracy: 0.8093\n"
          ]
        }
      ]
    },
    {
      "cell_type": "markdown",
      "source": [
        "Hence the model has significantly improved at 30 epochs itself (There is not much betterment in accuracy after 50 epochs). The model can further by optimized by adding more layers/changing epochs,batchsize etc."
      ],
      "metadata": {
        "id": "ZMeiirCmnfEu"
      }
    },
    {
      "cell_type": "code",
      "source": [],
      "metadata": {
        "id": "6imEsUAiTqCB"
      },
      "execution_count": null,
      "outputs": []
    }
  ]
}